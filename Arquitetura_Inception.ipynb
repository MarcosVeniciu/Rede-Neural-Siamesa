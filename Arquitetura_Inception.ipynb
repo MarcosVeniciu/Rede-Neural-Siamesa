{
  "nbformat": 4,
  "nbformat_minor": 0,
  "metadata": {
    "colab": {
      "provenance": [],
      "include_colab_link": true
    },
    "kernelspec": {
      "name": "python3",
      "display_name": "Python 3"
    },
    "language_info": {
      "name": "python"
    },
    "gpuClass": "standard",
    "accelerator": "GPU"
  },
  "cells": [
    {
      "cell_type": "markdown",
      "metadata": {
        "id": "view-in-github",
        "colab_type": "text"
      },
      "source": [
        "<a href=\"https://colab.research.google.com/github/MarcosVeniciu/Rede-Neural-Siamesa/blob/main/Arquitetura_Inception.ipynb\" target=\"_parent\"><img src=\"https://colab.research.google.com/assets/colab-badge.svg\" alt=\"Open In Colab\"/></a>"
      ]
    },
    {
      "cell_type": "code",
      "execution_count": null,
      "metadata": {
        "id": "YF7MFNxyGdFO"
      },
      "outputs": [],
      "source": [
        "# Referencias principais\n",
        "## Artigo: https://arxiv.org/pdf/1503.03832.pdf\n",
        "## Código Keras (melhor): https://www.tensorflow.org/addons/tutorials/losses_triplet?hl=pt-br#semihard_online_learning\n",
        "## Código: https://medium.com/@crimy/one-shot-learning-siamese-networks-and-triplet-loss-with-keras-2885ed022352\n",
        "## Gerar Triplets: https://omoindrot.github.io/triplet-loss\n",
        "#\n",
        "# Referências\n",
        "## Função de TripletHardLoss: https://www.tensorflow.org/addons/api_docs/python/tfa/losses/TripletHardLoss\n",
        "## Função de TripletSemiHardLoss: https://www.tensorflow.org/addons/api_docs/python/tfa/losses/TripletSemiHardLoss\n",
        "## Triple loss keras:  https://keras.io/examples/vision/siamese_network/ "
      ]
    },
    {
      "cell_type": "code",
      "source": [
        "!pip install -q -U tensorflow-addons\n",
        "\n",
        "import tensorflow_datasets as tfds\n",
        "import tensorflow_addons as tfa\n",
        "import matplotlib.pyplot as plt\n",
        "from tensorflow import keras\n",
        "from keras import layers\n",
        "import tensorflow as tf\n",
        "from tqdm import tqdm\n",
        "import numpy as np\n",
        "import random\n",
        "import shutil\n",
        "import cv2\n",
        "import os\n",
        "\n",
        "size = 96\n",
        "input_shape = (1, size, size)\n",
        "tf.keras.backend.set_image_data_format('channels_first')"
      ],
      "metadata": {
        "id": "kN8N3SQXGpAv"
      },
      "execution_count": null,
      "outputs": []
    },
    {
      "cell_type": "markdown",
      "source": [
        "# Dataset"
      ],
      "metadata": {
        "id": "-JRSdj3CG68M"
      }
    },
    {
      "cell_type": "code",
      "source": [
        "def preprocess_image(dataset):\n",
        "  resized = []\n",
        "  for image in dataset:\n",
        "    img_resized = cv2.resize(image, (size, size))\n",
        "    img_resized = tf.cast(img_resized, tf.float32)/ 255\n",
        "    resized.append(img_resized)\n",
        "  return np.array(resized)"
      ],
      "metadata": {
        "id": "P4Z6haOcKO2z"
      },
      "execution_count": null,
      "outputs": []
    },
    {
      "cell_type": "code",
      "source": [
        "(x_train_origin, y_train_origin), _ = keras.datasets.mnist.load_data()\n",
        "x_train_origin = preprocess_image(x_train_origin)\n",
        "\n",
        "x_train_origin = x_train_origin.reshape(x_train_origin.shape[0], 1, size, size)\n",
        "\n",
        "train_ds = x_train_origin\n",
        "train_label = y_train_origin"
      ],
      "metadata": {
        "id": "8V9yr9nLrjZl"
      },
      "execution_count": null,
      "outputs": []
    },
    {
      "cell_type": "markdown",
      "source": [
        "# Modelo"
      ],
      "metadata": {
        "id": "qTZ4GjP4H2OK"
      }
    },
    {
      "cell_type": "markdown",
      "source": [
        "## Inception"
      ],
      "metadata": {
        "id": "K1ysskwxH7lo"
      }
    },
    {
      "cell_type": "code",
      "source": [
        "#### PART OF THIS CODE IS USING CODE FROM VICTOR SY WANG: https://github.com/iwantooxxoox/Keras-OpenFace/blob/master/utils.py ####\n",
        "#### THIS FILE IS FROM https://github.com/shahariarrabby/deeplearning.ai/blob/master/COURSE%204%20Convolutional%20Neural%20Networks/Week%2004/Face%20Recognition/fr_utils.py\n",
        "\n",
        "import tensorflow as tf\n",
        "import numpy as np\n",
        "import os\n",
        "import cv2\n",
        "from numpy import genfromtxt\n",
        "from keras.layers import Conv2D, ZeroPadding2D, Activation, Input, concatenate\n",
        "from keras.models import Model\n",
        "#from keras.layers.normalization import BatchNormalization\n",
        "from tensorflow.keras.layers import BatchNormalization\n",
        "from keras.layers.pooling import MaxPooling2D, AveragePooling2D\n",
        "import matplotlib.pyplot as plt\n",
        "\n",
        "\n",
        "_FLOATX = 'float32'\n",
        "\n",
        "def variable(value, dtype=_FLOATX, name=None):\n",
        "    v = tf.Variable(np.asarray(value, dtype=dtype), name=name)\n",
        "    _get_session().run(v.initializer)\n",
        "    return v\n",
        "\n",
        "def shape(x):\n",
        "    return x.get_shape()\n",
        "\n",
        "def square(x):\n",
        "    return tf.square(x)\n",
        "\n",
        "def zeros(shape, dtype=_FLOATX, name=None):\n",
        "    return variable(np.zeros(shape), dtype, name)\n",
        "\n",
        "def concatenate(tensors, axis=-1):\n",
        "    if axis < 0:\n",
        "        axis = axis % len(tensors[0].get_shape())\n",
        "    return tf.concat(axis, tensors)\n",
        "\n",
        "def LRN2D(x):\n",
        "    return tf.nn.lrn(x, alpha=1e-4, beta=0.75)\n",
        "\n",
        "def conv2d_bn(x,\n",
        "              layer=None,\n",
        "              cv1_out=None,\n",
        "              cv1_filter=(1, 1),\n",
        "              cv1_strides=(1, 1),\n",
        "              cv2_out=None,\n",
        "              cv2_filter=(3, 3),\n",
        "              cv2_strides=(1, 1),\n",
        "              padding=None):\n",
        "    num = '' if cv2_out == None else '1'\n",
        "    tensor = Conv2D(cv1_out, cv1_filter, strides=cv1_strides, data_format='channels_first', name=layer+'_conv'+num)(x)\n",
        "    tensor = BatchNormalization(axis=1, epsilon=0.00001, name=layer+'_bn'+num)(tensor)\n",
        "    tensor = Activation('relu')(tensor)\n",
        "    if padding == None:\n",
        "        return tensor\n",
        "    tensor = ZeroPadding2D(padding=padding, data_format='channels_first')(tensor)\n",
        "    if cv2_out == None:\n",
        "        return tensor\n",
        "    tensor = Conv2D(cv2_out, cv2_filter, strides=cv2_strides, data_format='channels_first', name=layer+'_conv'+'2')(tensor)\n",
        "    tensor = BatchNormalization(axis=1, epsilon=0.00001, name=layer+'_bn'+'2')(tensor)\n",
        "    tensor = Activation('relu')(tensor)\n",
        "    return tensor\n",
        "\n",
        "WEIGHTS = [\n",
        "  'conv1', 'bn1', 'conv2', 'bn2', 'conv3', 'bn3',\n",
        "  'inception_3a_1x1_conv', 'inception_3a_1x1_bn',\n",
        "  'inception_3a_pool_conv', 'inception_3a_pool_bn',\n",
        "  'inception_3a_5x5_conv1', 'inception_3a_5x5_conv2', 'inception_3a_5x5_bn1', 'inception_3a_5x5_bn2',\n",
        "  'inception_3a_3x3_conv1', 'inception_3a_3x3_conv2', 'inception_3a_3x3_bn1', 'inception_3a_3x3_bn2',\n",
        "  'inception_3b_3x3_conv1', 'inception_3b_3x3_conv2', 'inception_3b_3x3_bn1', 'inception_3b_3x3_bn2',\n",
        "  'inception_3b_5x5_conv1', 'inception_3b_5x5_conv2', 'inception_3b_5x5_bn1', 'inception_3b_5x5_bn2',\n",
        "  'inception_3b_pool_conv', 'inception_3b_pool_bn',\n",
        "  'inception_3b_1x1_conv', 'inception_3b_1x1_bn',\n",
        "  'inception_3c_3x3_conv1', 'inception_3c_3x3_conv2', 'inception_3c_3x3_bn1', 'inception_3c_3x3_bn2',\n",
        "  'inception_3c_5x5_conv1', 'inception_3c_5x5_conv2', 'inception_3c_5x5_bn1', 'inception_3c_5x5_bn2',\n",
        "  'inception_4a_3x3_conv1', 'inception_4a_3x3_conv2', 'inception_4a_3x3_bn1', 'inception_4a_3x3_bn2',\n",
        "  'inception_4a_5x5_conv1', 'inception_4a_5x5_conv2', 'inception_4a_5x5_bn1', 'inception_4a_5x5_bn2',\n",
        "  'inception_4a_pool_conv', 'inception_4a_pool_bn',\n",
        "  'inception_4a_1x1_conv', 'inception_4a_1x1_bn',\n",
        "  'inception_4e_3x3_conv1', 'inception_4e_3x3_conv2', 'inception_4e_3x3_bn1', 'inception_4e_3x3_bn2',\n",
        "  'inception_4e_5x5_conv1', 'inception_4e_5x5_conv2', 'inception_4e_5x5_bn1', 'inception_4e_5x5_bn2',\n",
        "  'inception_5a_3x3_conv1', 'inception_5a_3x3_conv2', 'inception_5a_3x3_bn1', 'inception_5a_3x3_bn2',\n",
        "  'inception_5a_pool_conv', 'inception_5a_pool_bn',\n",
        "  'inception_5a_1x1_conv', 'inception_5a_1x1_bn',\n",
        "  'inception_5b_3x3_conv1', 'inception_5b_3x3_conv2', 'inception_5b_3x3_bn1', 'inception_5b_3x3_bn2',\n",
        "  'inception_5b_pool_conv', 'inception_5b_pool_bn',\n",
        "  'inception_5b_1x1_conv', 'inception_5b_1x1_bn',\n",
        "  'dense_layer'\n",
        "]\n",
        "\n",
        "conv_shape = {\n",
        "  'conv1': [64, 3, 7, 7],\n",
        "  'conv2': [64, 64, 1, 1],\n",
        "  'conv3': [192, 64, 3, 3],\n",
        "  'inception_3a_1x1_conv': [64, 192, 1, 1],\n",
        "  'inception_3a_pool_conv': [32, 192, 1, 1],\n",
        "  'inception_3a_5x5_conv1': [16, 192, 1, 1],\n",
        "  'inception_3a_5x5_conv2': [32, 16, 5, 5],\n",
        "  'inception_3a_3x3_conv1': [96, 192, 1, 1],\n",
        "  'inception_3a_3x3_conv2': [128, 96, 3, 3],\n",
        "  'inception_3b_3x3_conv1': [96, 256, 1, 1],\n",
        "  'inception_3b_3x3_conv2': [128, 96, 3, 3],\n",
        "  'inception_3b_5x5_conv1': [32, 256, 1, 1],\n",
        "  'inception_3b_5x5_conv2': [64, 32, 5, 5],\n",
        "  'inception_3b_pool_conv': [64, 256, 1, 1],\n",
        "  'inception_3b_1x1_conv': [64, 256, 1, 1],\n",
        "  'inception_3c_3x3_conv1': [128, 320, 1, 1],\n",
        "  'inception_3c_3x3_conv2': [256, 128, 3, 3],\n",
        "  'inception_3c_5x5_conv1': [32, 320, 1, 1],\n",
        "  'inception_3c_5x5_conv2': [64, 32, 5, 5],\n",
        "  'inception_4a_3x3_conv1': [96, 640, 1, 1],\n",
        "  'inception_4a_3x3_conv2': [192, 96, 3, 3],\n",
        "  'inception_4a_5x5_conv1': [32, 640, 1, 1,],\n",
        "  'inception_4a_5x5_conv2': [64, 32, 5, 5],\n",
        "  'inception_4a_pool_conv': [128, 640, 1, 1],\n",
        "  'inception_4a_1x1_conv': [256, 640, 1, 1],\n",
        "  'inception_4e_3x3_conv1': [160, 640, 1, 1],\n",
        "  'inception_4e_3x3_conv2': [256, 160, 3, 3],\n",
        "  'inception_4e_5x5_conv1': [64, 640, 1, 1],\n",
        "  'inception_4e_5x5_conv2': [128, 64, 5, 5],\n",
        "  'inception_5a_3x3_conv1': [96, 1024, 1, 1],\n",
        "  'inception_5a_3x3_conv2': [384, 96, 3, 3],\n",
        "  'inception_5a_pool_conv': [96, 1024, 1, 1],\n",
        "  'inception_5a_1x1_conv': [256, 1024, 1, 1],\n",
        "  'inception_5b_3x3_conv1': [96, 736, 1, 1],\n",
        "  'inception_5b_3x3_conv2': [384, 96, 3, 3],\n",
        "  'inception_5b_pool_conv': [96, 736, 1, 1],\n",
        "  'inception_5b_1x1_conv': [256, 736, 1, 1],\n",
        "}\n",
        "   \n",
        "def img_to_encoding_2(image_path, model):\n",
        "    image = cv2.imread(image_path, 1)\n",
        "    image = cv2.resize(image, (96, 96)) \n",
        "    img = image[...,::-1]\n",
        "    img = np.around(np.transpose(img, (2,0,1))/255.0, decimals=12)\n",
        "    x_train = np.array([img])\n",
        "    embedding = model.predict_on_batch(x_train)\n",
        "    return embedding\n"
      ],
      "metadata": {
        "id": "ejsl3H8RH28t"
      },
      "execution_count": null,
      "outputs": []
    },
    {
      "cell_type": "code",
      "source": [
        "#### THIS CODE IS FROM https://github.com/shahariarrabby/deeplearning.ai/blob/master/COURSE%204%20Convolutional%20Neural%20Networks/Week%2004/Face%20Recognition/inception_blocks_v2.py\n",
        "\n",
        "import tensorflow as tf\n",
        "import numpy as np\n",
        "import os\n",
        "from numpy import genfromtxt\n",
        "from keras import backend as K\n",
        "from keras.layers import Conv2D, ZeroPadding2D, Activation, Input #, concatenate\n",
        "from keras.models import Model\n",
        "\n",
        "#from keras.layers.normalization import BatchNormalization\n",
        "from tensorflow.keras.layers import BatchNormalization\n",
        "from keras.layers.pooling import MaxPooling2D, AveragePooling2D\n",
        "#import fr_utils\n",
        "from keras.layers.core import Lambda, Flatten, Dense\n",
        "\n",
        "def inception_block_1a(X):\n",
        "    \"\"\"\n",
        "    Implementation of an inception block\n",
        "    \"\"\"\n",
        "    \n",
        "    X_3x3 = Conv2D(96, (1, 1), data_format='channels_first', name ='inception_3a_3x3_conv1')(X)\n",
        "    X_3x3 = BatchNormalization(axis=1, epsilon=0.00001, name = 'inception_3a_3x3_bn1')(X_3x3)\n",
        "    X_3x3 = Activation('relu')(X_3x3)\n",
        "    X_3x3 = ZeroPadding2D(padding=(1, 1), data_format='channels_first')(X_3x3)\n",
        "    X_3x3 = Conv2D(128, (3, 3), data_format='channels_first', name='inception_3a_3x3_conv2')(X_3x3)\n",
        "    X_3x3 = BatchNormalization(axis=1, epsilon=0.00001, name='inception_3a_3x3_bn2')(X_3x3)\n",
        "    X_3x3 = Activation('relu')(X_3x3)\n",
        "    \n",
        "    X_5x5 = Conv2D(16, (1, 1), data_format='channels_first', name='inception_3a_5x5_conv1')(X)\n",
        "    X_5x5 = BatchNormalization(axis=1, epsilon=0.00001, name='inception_3a_5x5_bn1')(X_5x5)\n",
        "    X_5x5 = Activation('relu')(X_5x5)\n",
        "    X_5x5 = ZeroPadding2D(padding=(2, 2), data_format='channels_first')(X_5x5)\n",
        "    X_5x5 = Conv2D(32, (5, 5), data_format='channels_first', name='inception_3a_5x5_conv2')(X_5x5)\n",
        "    X_5x5 = BatchNormalization(axis=1, epsilon=0.00001, name='inception_3a_5x5_bn2')(X_5x5)\n",
        "    X_5x5 = Activation('relu')(X_5x5)\n",
        "\n",
        "    X_pool = MaxPooling2D(pool_size=3, strides=2, data_format='channels_first')(X)\n",
        "    X_pool = Conv2D(32, (1, 1), data_format='channels_first', name='inception_3a_pool_conv')(X_pool)\n",
        "    X_pool = BatchNormalization(axis=1, epsilon=0.00001, name='inception_3a_pool_bn')(X_pool)\n",
        "    X_pool = Activation('relu')(X_pool)\n",
        "    X_pool = ZeroPadding2D(padding=((3, 4), (3, 4)), data_format='channels_first')(X_pool)\n",
        "\n",
        "    X_1x1 = Conv2D(64, (1, 1), data_format='channels_first', name='inception_3a_1x1_conv')(X)\n",
        "    X_1x1 = BatchNormalization(axis=1, epsilon=0.00001, name='inception_3a_1x1_bn')(X_1x1)\n",
        "    X_1x1 = Activation('relu')(X_1x1)\n",
        "   \n",
        "    # CONCAT\n",
        "    #inception = concatenate([X_3x3, X_5x5, X_pool, X_1x1], axis=1)\n",
        "    inception = tf.concat([X_3x3, X_5x5, X_pool, X_1x1], axis=1, name=\"concat_inception_block_1a\")\n",
        "\n",
        "    return inception\n",
        "\n",
        "def inception_block_1b(X):\n",
        "    X_3x3 = Conv2D(96, (1, 1), data_format='channels_first', name='inception_3b_3x3_conv1')(X)\n",
        "    X_3x3 = BatchNormalization(axis=1, epsilon=0.00001, name='inception_3b_3x3_bn1')(X_3x3)\n",
        "    X_3x3 = Activation('relu')(X_3x3)\n",
        "    X_3x3 = ZeroPadding2D(padding=(1, 1), data_format='channels_first')(X_3x3)\n",
        "    X_3x3 = Conv2D(128, (3, 3), data_format='channels_first', name='inception_3b_3x3_conv2')(X_3x3)\n",
        "    X_3x3 = BatchNormalization(axis=1, epsilon=0.00001, name='inception_3b_3x3_bn2')(X_3x3)\n",
        "    X_3x3 = Activation('relu')(X_3x3)\n",
        "\n",
        "    X_5x5 = Conv2D(32, (1, 1), data_format='channels_first', name='inception_3b_5x5_conv1')(X)\n",
        "    X_5x5 = BatchNormalization(axis=1, epsilon=0.00001, name='inception_3b_5x5_bn1')(X_5x5)\n",
        "    X_5x5 = Activation('relu')(X_5x5)\n",
        "    X_5x5 = ZeroPadding2D(padding=(2, 2), data_format='channels_first')(X_5x5)\n",
        "    X_5x5 = Conv2D(64, (5, 5), data_format='channels_first', name='inception_3b_5x5_conv2')(X_5x5)\n",
        "    X_5x5 = BatchNormalization(axis=1, epsilon=0.00001, name='inception_3b_5x5_bn2')(X_5x5)\n",
        "    X_5x5 = Activation('relu')(X_5x5)\n",
        "\n",
        "    X_pool = AveragePooling2D(pool_size=(3, 3), strides=(3, 3), data_format='channels_first')(X)\n",
        "    X_pool = Conv2D(64, (1, 1), data_format='channels_first', name='inception_3b_pool_conv')(X_pool)\n",
        "    X_pool = BatchNormalization(axis=1, epsilon=0.00001, name='inception_3b_pool_bn')(X_pool)\n",
        "    X_pool = Activation('relu')(X_pool)\n",
        "    X_pool = ZeroPadding2D(padding=(4, 4), data_format='channels_first')(X_pool)\n",
        "\n",
        "    X_1x1 = Conv2D(64, (1, 1), data_format='channels_first', name='inception_3b_1x1_conv')(X)\n",
        "    X_1x1 = BatchNormalization(axis=1, epsilon=0.00001, name='inception_3b_1x1_bn')(X_1x1)\n",
        "    X_1x1 = Activation('relu')(X_1x1)\n",
        "\n",
        "    #inception = concatenate([X_3x3, X_5x5, X_pool, X_1x1], axis=1)\n",
        "    inception = tf.concat([X_3x3, X_5x5, X_pool, X_1x1], axis=1)\n",
        "    \n",
        "\n",
        "    return inception\n",
        "\n",
        "def inception_block_1c(X):\n",
        "    #X_3x3 = fr_utils.conv2d_bn(X,\n",
        "    X_3x3 = conv2d_bn(X,\n",
        "                           layer='inception_3c_3x3',\n",
        "                           cv1_out=128,\n",
        "                           cv1_filter=(1, 1),\n",
        "                           cv2_out=256,\n",
        "                           cv2_filter=(3, 3),\n",
        "                           cv2_strides=(2, 2),\n",
        "                           padding=(1, 1))\n",
        "\n",
        "    #X_5x5 = fr_utils.conv2d_bn(X,\n",
        "    X_5x5 = conv2d_bn(X,\n",
        "                           layer='inception_3c_5x5',\n",
        "                           cv1_out=32,\n",
        "                           cv1_filter=(1, 1),\n",
        "                           cv2_out=64,\n",
        "                           cv2_filter=(5, 5),\n",
        "                           cv2_strides=(2, 2),\n",
        "                           padding=(2, 2))\n",
        "\n",
        "    X_pool = MaxPooling2D(pool_size=3, strides=2, data_format='channels_first')(X)\n",
        "    X_pool = ZeroPadding2D(padding=((0, 1), (0, 1)), data_format='channels_first')(X_pool)\n",
        "\n",
        "    #inception = concatenate([X_3x3, X_5x5, X_pool], axis=1)\n",
        "    inception = tf.concat([X_3x3, X_5x5, X_pool], axis=1)\n",
        "    \n",
        "\n",
        "    return inception\n",
        "\n",
        "def inception_block_2a(X):\n",
        "    #X_3x3 = fr_utils.conv2d_bn(X,\n",
        "    X_3x3 = conv2d_bn(X,\n",
        "                           layer='inception_4a_3x3',\n",
        "                           cv1_out=96,\n",
        "                           cv1_filter=(1, 1),\n",
        "                           cv2_out=192,\n",
        "                           cv2_filter=(3, 3),\n",
        "                           cv2_strides=(1, 1),\n",
        "                           padding=(1, 1))\n",
        "    #X_5x5 = fr_utils.conv2d_bn(X,\n",
        "    X_5x5 = conv2d_bn(X,\n",
        "                           layer='inception_4a_5x5',\n",
        "                           cv1_out=32,\n",
        "                           cv1_filter=(1, 1),\n",
        "                           cv2_out=64,\n",
        "                           cv2_filter=(5, 5),\n",
        "                           cv2_strides=(1, 1),\n",
        "                           padding=(2, 2))\n",
        "\n",
        "    X_pool = AveragePooling2D(pool_size=(3, 3), strides=(3, 3), data_format='channels_first')(X)\n",
        "    #X_pool = fr_utils.conv2d_bn(X_pool,\n",
        "    X_pool = conv2d_bn(X_pool,\n",
        "                           layer='inception_4a_pool',\n",
        "                           cv1_out=128,\n",
        "                           cv1_filter=(1, 1),\n",
        "                           padding=(2, 2))\n",
        "    #X_1x1 = fr_utils.conv2d_bn(X,\n",
        "    X_1x1 = conv2d_bn(X,\n",
        "                           layer='inception_4a_1x1',\n",
        "                           cv1_out=256,\n",
        "                           cv1_filter=(1, 1))\n",
        "    \n",
        "    #inception = concatenate([X_3x3, X_5x5, X_pool, X_1x1], axis=1)\n",
        "    inception = tf.concat([X_3x3, X_5x5, X_pool, X_1x1], axis=1)\n",
        "    \n",
        "    return inception\n",
        "\n",
        "def inception_block_2b(X):\n",
        "    #inception4e\n",
        "    #X_3x3 = fr_utils.conv2d_bn(X,\n",
        "    X_3x3 = conv2d_bn(X,\n",
        "                           layer='inception_4e_3x3',\n",
        "                           cv1_out=160,\n",
        "                           cv1_filter=(1, 1),\n",
        "                           cv2_out=256,\n",
        "                           cv2_filter=(3, 3),\n",
        "                           cv2_strides=(2, 2),\n",
        "                           padding=(1, 1))\n",
        "    #X_5x5 = fr_utils.conv2d_bn(X,\n",
        "    X_5x5 = conv2d_bn(X,\n",
        "                           layer='inception_4e_5x5',\n",
        "                           cv1_out=64,\n",
        "                           cv1_filter=(1, 1),\n",
        "                           cv2_out=128,\n",
        "                           cv2_filter=(5, 5),\n",
        "                           cv2_strides=(2, 2),\n",
        "                           padding=(2, 2))\n",
        "    \n",
        "    X_pool = MaxPooling2D(pool_size=3, strides=2, data_format='channels_first')(X)\n",
        "    X_pool = ZeroPadding2D(padding=((0, 1), (0, 1)), data_format='channels_first')(X_pool)\n",
        "\n",
        "    #inception = concatenate([X_3x3, X_5x5, X_pool], axis=1)\n",
        "    inception = tf.concat([X_3x3, X_5x5, X_pool], axis=1)\n",
        "    \n",
        "\n",
        "    return inception\n",
        "\n",
        "def inception_block_3a(X):\n",
        "    #X_3x3 = fr_utils.conv2d_bn(X,\n",
        "    X_3x3 = conv2d_bn(X,\n",
        "                           layer='inception_5a_3x3',\n",
        "                           cv1_out=96,\n",
        "                           cv1_filter=(1, 1),\n",
        "                           cv2_out=384,\n",
        "                           cv2_filter=(3, 3),\n",
        "                           cv2_strides=(1, 1),\n",
        "                           padding=(1, 1))\n",
        "    X_pool = AveragePooling2D(pool_size=(3, 3), strides=(3, 3), data_format='channels_first')(X)\n",
        "    #X_pool = fr_utils.conv2d_bn(X_pool,\n",
        "    X_pool = conv2d_bn(X_pool,\n",
        "                           layer='inception_5a_pool',\n",
        "                           cv1_out=96,\n",
        "                           cv1_filter=(1, 1),\n",
        "                           padding=(1, 1))\n",
        "    #X_1x1 = fr_utils.conv2d_bn(X,\n",
        "    X_1x1 = conv2d_bn(X,\n",
        "                           layer='inception_5a_1x1',\n",
        "                           cv1_out=256,\n",
        "                           cv1_filter=(1, 1))\n",
        "\n",
        "    #inception = concatenate([X_3x3, X_pool, X_1x1], axis=1)\n",
        "    inception = tf.concat([X_3x3, X_pool, X_1x1], axis=1)\n",
        "    \n",
        "\n",
        "    return inception\n",
        "\n",
        "def inception_block_3b(X):\n",
        "    #X_3x3 = fr_utils.conv2d_bn(X,\n",
        "    X_3x3 = conv2d_bn(X,\n",
        "                           layer='inception_5b_3x3',\n",
        "                           cv1_out=96,\n",
        "                           cv1_filter=(1, 1),\n",
        "                           cv2_out=384,\n",
        "                           cv2_filter=(3, 3),\n",
        "                           cv2_strides=(1, 1),\n",
        "                           padding=(1, 1))\n",
        "    X_pool = MaxPooling2D(pool_size=3, strides=2, data_format='channels_first')(X)\n",
        "    #X_pool = fr_utils.conv2d_bn(X_pool,\n",
        "    X_pool = conv2d_bn(X_pool,\n",
        "                           layer='inception_5b_pool',\n",
        "                           cv1_out=96,\n",
        "                           cv1_filter=(1, 1))\n",
        "    X_pool = ZeroPadding2D(padding=(1, 1), data_format='channels_first')(X_pool)\n",
        "\n",
        "    #X_1x1 = fr_utils.conv2d_bn(X,\n",
        "    X_1x1 = conv2d_bn(X,\n",
        "                           layer='inception_5b_1x1',\n",
        "                           cv1_out=256,\n",
        "                           cv1_filter=(1, 1))\n",
        "    \n",
        "    #inception = concatenate([X_3x3, X_pool, X_1x1], axis=1)\n",
        "    inception = tf.concat([X_3x3, X_pool, X_1x1], axis=1)\n",
        "    \n",
        "    return inception\n",
        "\n",
        "def model(input_shape):\n",
        "    \"\"\"\n",
        "    Implementation of the Inception model used for FaceNet\n",
        "    \n",
        "    Arguments:\n",
        "    input_shape -- shape of the images of the dataset\n",
        "    Returns:\n",
        "    model -- a Model() instance in Keras\n",
        "    \"\"\"\n",
        "        \n",
        "    # Define the input as a tensor with shape input_shape\n",
        "    X_input = Input(input_shape)\n",
        "\n",
        "    # Zero-Padding\n",
        "    X = ZeroPadding2D((3, 3))(X_input)\n",
        "    \n",
        "    # First Block\n",
        "    X = Conv2D(64, (7, 7), strides = (2, 2), name = 'conv1')(X)\n",
        "    X = BatchNormalization(axis = 1, name = 'bn1')(X)\n",
        "    X = Activation('relu')(X)\n",
        "    \n",
        "    # Zero-Padding + MAXPOOL\n",
        "    X = ZeroPadding2D((1, 1))(X)\n",
        "    X = MaxPooling2D((3, 3), strides = 2)(X)\n",
        "    \n",
        "    # Second Block\n",
        "    X = Conv2D(64, (1, 1), strides = (1, 1), name = 'conv2')(X)\n",
        "    X = BatchNormalization(axis = 1, epsilon=0.00001, name = 'bn2')(X)\n",
        "    X = Activation('relu')(X)\n",
        "    \n",
        "    # Zero-Padding + MAXPOOL\n",
        "    X = ZeroPadding2D((1, 1))(X)\n",
        "\n",
        "    # Second Block\n",
        "    X = Conv2D(192, (3, 3), strides = (1, 1), name = 'conv3')(X)\n",
        "    X = BatchNormalization(axis = 1, epsilon=0.00001, name = 'bn3')(X)\n",
        "    X = Activation('relu')(X)\n",
        "    \n",
        "    # Zero-Padding + MAXPOOL\n",
        "    X = ZeroPadding2D((1, 1))(X)\n",
        "    X = MaxPooling2D(pool_size = 3, strides = 2)(X)\n",
        "  \n",
        "    \n",
        "    # Inception 1: a/b/c\n",
        "    X = inception_block_1a(X)\n",
        "    X = inception_block_1b(X)\n",
        "    X = inception_block_1c(X)\n",
        "    \n",
        "    # Inception 2: a/b\n",
        "    X = inception_block_2a(X)\n",
        "    X = inception_block_2b(X)\n",
        "    \n",
        "    # Inception 3: a/b\n",
        "    X = inception_block_3a(X)\n",
        "    X = inception_block_3b(X)\n",
        "    \n",
        "    # Top layer\n",
        "    X = AveragePooling2D(pool_size=(3, 3), strides=(1, 1), data_format='channels_first')(X)\n",
        "    X = Flatten()(X)\n",
        "    X = Dense(128, name='dense_layer')(X)\n",
        "    \n",
        "    # L2 normalization\n",
        "    X = Lambda(lambda  x: K.l2_normalize(x,axis=1))(X)\n",
        "\n",
        "    # Create model instance\n",
        "    model = Model(inputs = X_input, outputs = X, name='model')\n",
        "        \n",
        "    return model"
      ],
      "metadata": {
        "id": "bEy1fbPyH9wx"
      },
      "execution_count": null,
      "outputs": []
    },
    {
      "cell_type": "markdown",
      "source": [
        "# Treino"
      ],
      "metadata": {
        "id": "a_pvtS2exITb"
      }
    },
    {
      "cell_type": "code",
      "source": [
        "my_callbacks = [\n",
        "    tf.keras.callbacks.EarlyStopping(patience=13, monitor=\"loss\", restore_best_weights=True),\n",
        "    tf.keras.callbacks.ReduceLROnPlateau(monitor=\"loss\", mode = \"min\", patience = 5, factor=0.5, min_lr=0.0000000001, verbose = 0)\n",
        "  ]"
      ],
      "metadata": {
        "id": "zzHMF3y9xQjX"
      },
      "execution_count": null,
      "outputs": []
    },
    {
      "cell_type": "code",
      "source": [
        "modelo = model(input_shape)\n",
        "modelo.compile(optimizer=tf.keras.optimizers.Adam(0.001), loss=tfa.losses.TripletSemiHardLoss())"
      ],
      "metadata": {
        "id": "PBrDNmexxLeR"
      },
      "execution_count": null,
      "outputs": []
    },
    {
      "cell_type": "code",
      "source": [
        "!nvidia-smi\n",
        "historico = modelo.fit(x = train_ds, y = train_label, batch_size = 64, epochs=70, callbacks=my_callbacks)\n",
        "modelo.save(\"embedding_model_inception.h5\")"
      ],
      "metadata": {
        "id": "NNJq42FKxU1-",
        "colab": {
          "base_uri": "https://localhost:8080/"
        },
        "outputId": "d0c97667-091d-4ee9-8487-7862a32b996d"
      },
      "execution_count": null,
      "outputs": [
        {
          "output_type": "stream",
          "name": "stdout",
          "text": [
            "Wed Feb 22 15:50:32 2023       \n",
            "+-----------------------------------------------------------------------------+\n",
            "| NVIDIA-SMI 510.47.03    Driver Version: 510.47.03    CUDA Version: 11.6     |\n",
            "|-------------------------------+----------------------+----------------------+\n",
            "| GPU  Name        Persistence-M| Bus-Id        Disp.A | Volatile Uncorr. ECC |\n",
            "| Fan  Temp  Perf  Pwr:Usage/Cap|         Memory-Usage | GPU-Util  Compute M. |\n",
            "|                               |                      |               MIG M. |\n",
            "|===============================+======================+======================|\n",
            "|   0  Tesla T4            Off  | 00000000:00:04.0 Off |                    0 |\n",
            "| N/A   77C    P0    34W /  70W |   4420MiB / 15360MiB |      0%      Default |\n",
            "|                               |                      |                  N/A |\n",
            "+-------------------------------+----------------------+----------------------+\n",
            "                                                                               \n",
            "+-----------------------------------------------------------------------------+\n",
            "| Processes:                                                                  |\n",
            "|  GPU   GI   CI        PID   Type   Process name                  GPU Memory |\n",
            "|        ID   ID                                                   Usage      |\n",
            "|=============================================================================|\n",
            "|    0   N/A  N/A     36371      C                                    4417MiB |\n",
            "+-----------------------------------------------------------------------------+\n",
            "Epoch 1/70\n",
            "938/938 [==============================] - 76s 51ms/step - loss: 0.1742 - lr: 0.0010\n",
            "Epoch 2/70\n",
            "938/938 [==============================] - 46s 49ms/step - loss: 0.0706 - lr: 0.0010\n",
            "Epoch 3/70\n",
            "938/938 [==============================] - 46s 49ms/step - loss: 0.0645 - lr: 0.0010\n",
            "Epoch 4/70\n",
            "938/938 [==============================] - 47s 50ms/step - loss: 0.0536 - lr: 0.0010\n",
            "Epoch 5/70\n",
            "938/938 [==============================] - 49s 52ms/step - loss: 0.0491 - lr: 0.0010\n",
            "Epoch 6/70\n",
            "938/938 [==============================] - 55s 58ms/step - loss: 0.0443 - lr: 0.0010\n",
            "Epoch 7/70\n",
            "938/938 [==============================] - 49s 52ms/step - loss: 0.0376 - lr: 0.0010\n",
            "Epoch 8/70\n",
            "938/938 [==============================] - 46s 49ms/step - loss: 0.0371 - lr: 0.0010\n",
            "Epoch 9/70\n",
            "938/938 [==============================] - 45s 48ms/step - loss: 0.0343 - lr: 0.0010\n",
            "Epoch 10/70\n",
            "938/938 [==============================] - 47s 50ms/step - loss: 0.0313 - lr: 0.0010\n",
            "Epoch 11/70\n",
            "938/938 [==============================] - 46s 49ms/step - loss: 0.0267 - lr: 0.0010\n",
            "Epoch 12/70\n",
            "938/938 [==============================] - 46s 49ms/step - loss: 0.0264 - lr: 0.0010\n",
            "Epoch 13/70\n",
            "938/938 [==============================] - 45s 48ms/step - loss: 0.0254 - lr: 0.0010\n",
            "Epoch 14/70\n",
            "938/938 [==============================] - 47s 51ms/step - loss: 0.0240 - lr: 0.0010\n",
            "Epoch 15/70\n",
            "938/938 [==============================] - 48s 51ms/step - loss: 0.0196 - lr: 0.0010\n",
            "Epoch 16/70\n",
            "938/938 [==============================] - 45s 48ms/step - loss: 0.0198 - lr: 0.0010\n",
            "Epoch 17/70\n",
            "938/938 [==============================] - 45s 48ms/step - loss: 0.0203 - lr: 0.0010\n",
            "Epoch 18/70\n",
            "938/938 [==============================] - 45s 48ms/step - loss: 0.0177 - lr: 0.0010\n",
            "Epoch 19/70\n",
            "938/938 [==============================] - 45s 48ms/step - loss: 0.0152 - lr: 0.0010\n",
            "Epoch 20/70\n",
            "938/938 [==============================] - 45s 48ms/step - loss: 0.0161 - lr: 0.0010\n",
            "Epoch 21/70\n",
            "938/938 [==============================] - 45s 48ms/step - loss: 0.0122 - lr: 0.0010\n",
            "Epoch 22/70\n",
            "938/938 [==============================] - 45s 48ms/step - loss: 0.0152 - lr: 0.0010\n",
            "Epoch 23/70\n",
            "938/938 [==============================] - 45s 48ms/step - loss: 0.0126 - lr: 0.0010\n",
            "Epoch 24/70\n",
            "938/938 [==============================] - 46s 49ms/step - loss: 0.0116 - lr: 0.0010\n",
            "Epoch 25/70\n",
            "938/938 [==============================] - 45s 48ms/step - loss: 0.0113 - lr: 0.0010\n",
            "Epoch 26/70\n",
            "938/938 [==============================] - 45s 48ms/step - loss: 0.0109 - lr: 0.0010\n",
            "Epoch 27/70\n",
            "938/938 [==============================] - 45s 48ms/step - loss: 0.0111 - lr: 0.0010\n",
            "Epoch 28/70\n",
            "938/938 [==============================] - 45s 48ms/step - loss: 0.0079 - lr: 0.0010\n",
            "Epoch 29/70\n",
            "938/938 [==============================] - 45s 48ms/step - loss: 0.0132 - lr: 0.0010\n",
            "Epoch 30/70\n",
            "938/938 [==============================] - 45s 48ms/step - loss: 0.0083 - lr: 0.0010\n",
            "Epoch 31/70\n",
            "938/938 [==============================] - 45s 48ms/step - loss: 0.0074 - lr: 0.0010\n",
            "Epoch 32/70\n",
            "938/938 [==============================] - 45s 48ms/step - loss: 0.0103 - lr: 0.0010\n",
            "Epoch 33/70\n",
            "938/938 [==============================] - 45s 47ms/step - loss: 0.0082 - lr: 0.0010\n",
            "Epoch 34/70\n",
            "938/938 [==============================] - 45s 48ms/step - loss: 0.0082 - lr: 0.0010\n",
            "Epoch 35/70\n",
            "938/938 [==============================] - 45s 47ms/step - loss: 0.0062 - lr: 0.0010\n",
            "Epoch 36/70\n",
            "938/938 [==============================] - 45s 48ms/step - loss: 0.0074 - lr: 0.0010\n",
            "Epoch 37/70\n",
            "938/938 [==============================] - 46s 49ms/step - loss: 0.0089 - lr: 0.0010\n",
            "Epoch 38/70\n",
            "938/938 [==============================] - 45s 48ms/step - loss: 0.0051 - lr: 0.0010\n",
            "Epoch 39/70\n",
            "938/938 [==============================] - 45s 48ms/step - loss: 0.0069 - lr: 0.0010\n",
            "Epoch 40/70\n",
            "938/938 [==============================] - 45s 48ms/step - loss: 0.0066 - lr: 0.0010\n",
            "Epoch 41/70\n",
            "938/938 [==============================] - 45s 48ms/step - loss: 0.0049 - lr: 0.0010\n",
            "Epoch 42/70\n",
            "938/938 [==============================] - 45s 48ms/step - loss: 0.0085 - lr: 0.0010\n",
            "Epoch 43/70\n",
            "938/938 [==============================] - 45s 48ms/step - loss: 0.0066 - lr: 0.0010\n",
            "Epoch 44/70\n",
            "938/938 [==============================] - 45s 48ms/step - loss: 0.0046 - lr: 0.0010\n",
            "Epoch 45/70\n",
            "938/938 [==============================] - 45s 47ms/step - loss: 0.0065 - lr: 0.0010\n",
            "Epoch 46/70\n",
            "938/938 [==============================] - 45s 48ms/step - loss: 0.0043 - lr: 0.0010\n",
            "Epoch 47/70\n",
            "938/938 [==============================] - 45s 48ms/step - loss: 0.0049 - lr: 0.0010\n",
            "Epoch 48/70\n",
            "938/938 [==============================] - 44s 47ms/step - loss: 0.0058 - lr: 0.0010\n",
            "Epoch 49/70\n",
            "938/938 [==============================] - 45s 48ms/step - loss: 0.0060 - lr: 0.0010\n",
            "Epoch 50/70\n",
            "938/938 [==============================] - 45s 48ms/step - loss: 0.0062 - lr: 0.0010\n",
            "Epoch 51/70\n",
            "938/938 [==============================] - 45s 48ms/step - loss: 0.0045 - lr: 0.0010\n",
            "Epoch 52/70\n",
            "938/938 [==============================] - 45s 48ms/step - loss: 0.0025 - lr: 5.0000e-04\n",
            "Epoch 53/70\n",
            "938/938 [==============================] - 45s 48ms/step - loss: 0.0019 - lr: 5.0000e-04\n",
            "Epoch 54/70\n",
            "938/938 [==============================] - 45s 47ms/step - loss: 0.0025 - lr: 5.0000e-04\n",
            "Epoch 55/70\n",
            "938/938 [==============================] - 45s 47ms/step - loss: 0.0015 - lr: 5.0000e-04\n",
            "Epoch 56/70\n",
            "938/938 [==============================] - 47s 50ms/step - loss: 0.0025 - lr: 5.0000e-04\n",
            "Epoch 57/70\n",
            "938/938 [==============================] - 44s 47ms/step - loss: 0.0026 - lr: 5.0000e-04\n",
            "Epoch 58/70\n",
            "938/938 [==============================] - 45s 48ms/step - loss: 0.0020 - lr: 5.0000e-04\n",
            "Epoch 59/70\n",
            "938/938 [==============================] - 45s 47ms/step - loss: 0.0023 - lr: 5.0000e-04\n",
            "Epoch 60/70\n",
            "938/938 [==============================] - 44s 47ms/step - loss: 0.0018 - lr: 5.0000e-04\n",
            "Epoch 61/70\n",
            "938/938 [==============================] - 45s 48ms/step - loss: 9.5877e-04 - lr: 2.5000e-04\n",
            "Epoch 62/70\n",
            "938/938 [==============================] - 46s 49ms/step - loss: 8.2400e-04 - lr: 2.5000e-04\n",
            "Epoch 63/70\n",
            "938/938 [==============================] - 45s 48ms/step - loss: 8.1259e-04 - lr: 2.5000e-04\n",
            "Epoch 64/70\n",
            "938/938 [==============================] - 45s 48ms/step - loss: 9.0237e-04 - lr: 2.5000e-04\n",
            "Epoch 65/70\n",
            "938/938 [==============================] - 45s 48ms/step - loss: 0.0014 - lr: 2.5000e-04\n",
            "Epoch 66/70\n",
            "938/938 [==============================] - 44s 47ms/step - loss: 0.0011 - lr: 2.5000e-04\n",
            "Epoch 67/70\n",
            "938/938 [==============================] - 44s 47ms/step - loss: 0.0011 - lr: 2.5000e-04\n",
            "Epoch 68/70\n",
            "938/938 [==============================] - 44s 47ms/step - loss: 7.9536e-04 - lr: 1.2500e-04\n",
            "Epoch 69/70\n",
            "938/938 [==============================] - 44s 47ms/step - loss: 8.1081e-04 - lr: 1.2500e-04\n",
            "Epoch 70/70\n",
            "938/938 [==============================] - 44s 47ms/step - loss: 7.6693e-04 - lr: 1.2500e-04\n"
          ]
        }
      ]
    },
    {
      "cell_type": "code",
      "source": [
        "def diferenca(historico):\n",
        "  accuracy = historico.history['loss'] \n",
        "  val_accuracy = historico.history['val_loss']\n",
        "  vetor_diferenca = []\n",
        "  for i in range(len(accuracy)):\n",
        "    diferenca = abs(accuracy[i] - val_accuracy[i])\n",
        "    vetor_diferenca.append(diferenca)\n",
        "\n",
        "  return vetor_diferenca\n",
        "\n",
        "  \n",
        "def grafico(historico, nome): \n",
        "\n",
        "  plt.subplots(figsize=(25, 5)) \n",
        "  # Grafico 1: Loss\n",
        "  plt.subplot(1,2,1)\n",
        "  plt.title( nome + ': Loss')\n",
        "  plt.xlabel('Epoch')\n",
        "  plt.ylabel('Cross Entropy')\n",
        "  plt.grid()\n",
        "  plt.yscale(\"log\")\n",
        "  plt.plot(historico.history['loss'], label='Train Loss ', color = 'blue')\n",
        "  #plt.plot(historico.history['val_loss'], label='Val Loss ', color = 'red')\n",
        "  plt.legend()\n",
        "\n",
        "\n",
        "  # Grafico 3: Diferença de Loss\n",
        "  #vetor_diferenca = diferenca(historico)\n",
        "\n",
        "  #plt.subplot(1,2,2)\n",
        "  #plt.title(nome + \": Variação do Loss\")\n",
        "  #plt.xlabel(\"Epocas\")\n",
        "  #plt.ylabel(\"Diferença\")\n",
        "  ##plt.grid()\n",
        "  #plt.yscale(\"log\")\n",
        "  #plt.plot(vetor_diferenca, color = 'red', label = 'Variação do Loss')\n",
        "  #plt.legend()\n",
        "\n",
        "  nome_save = os.path.join(\"/content\", nome + \".jpg\")\n",
        "  plt.savefig(nome_save, dpi=400,  transparent=False)\n",
        "  plt.show()\n",
        "\n",
        "grafico(historico, \"Rede Siamesa Inception\")"
      ],
      "metadata": {
        "colab": {
          "base_uri": "https://localhost:8080/",
          "height": 350
        },
        "id": "i2qgKyI0zbtc",
        "outputId": "86ddfe9c-b83a-4e36-9e0e-d2b7b3f13db8"
      },
      "execution_count": null,
      "outputs": [
        {
          "output_type": "display_data",
          "data": {
            "text/plain": [
              "<Figure size 1800x360 with 1 Axes>"
            ],
            "image/png": "[encoded data removed]"
          },
          "metadata": {
            "needs_background": "light"
          }
        }
      ]
    },
    {
      "cell_type": "markdown",
      "source": [
        "# Teste"
      ],
      "metadata": {
        "id": "p9MtoUWIPEoJ"
      }
    },
    {
      "cell_type": "markdown",
      "source": [
        "## Funções"
      ],
      "metadata": {
        "id": "IOyJogc4PF2E"
      }
    },
    {
      "cell_type": "code",
      "source": [
        "_ , (x_test_origin, y_test_origin) = keras.datasets.mnist.load_data()\n",
        "del _"
      ],
      "metadata": {
        "id": "WcQeeLd7PDke"
      },
      "execution_count": null,
      "outputs": []
    },
    {
      "cell_type": "code",
      "source": [
        "def visualize(x_test_origin):\n",
        "    \"\"\"Visualize a few triplets from the supplied batches.\"\"\"\n",
        "    print(\"Total de imagens: {0}  Resolução: {1}x{2}\".format(x_test_origin.shape[0], x_test_origin.shape[1], x_test_origin.shape[2]))\n",
        "    def show(ax, image):\n",
        "        ax.imshow(image, cmap='gray')\n",
        "        ax.get_xaxis().set_visible(False)\n",
        "        ax.get_yaxis().set_visible(False)\n",
        "\n",
        "    fig = plt.figure(figsize=(9, 9))\n",
        "\n",
        "    axs = fig.subplots(3, 3)\n",
        "    for i in range(3):\n",
        "        show(axs[i, 0], x_test_origin[random.randint(0, 1000)])\n",
        "        show(axs[i, 1], x_test_origin[random.randint(0, 1000)])\n",
        "        show(axs[i, 2], x_test_origin[random.randint(0, 1000)])"
      ],
      "metadata": {
        "id": "jM3pGuq4PJc3"
      },
      "execution_count": null,
      "outputs": []
    },
    {
      "cell_type": "code",
      "source": [
        "nome = [\"zero\", \"um\", \"dois\", \"tres\", \"quatro\", \"cinco\", \"seis\", \"sete\", \"oito\", \"nove\"]\n",
        "\n",
        "def prepare_database(model):\n",
        "  database = {}\n",
        "  x_test_origin, y_test_origin\n",
        "  for i in range(10):\n",
        "    indice = 0\n",
        "    while True:\n",
        "      if y_test_origin[indice] == i:\n",
        "        identity =  nome[i]     \n",
        "        database[identity] = img_to_encoding(x_test_origin[indice], model)\n",
        "        break\n",
        "      else:\n",
        "        indice += 1\n",
        "\n",
        "  return database"
      ],
      "metadata": {
        "id": "UClhiXTiPRbu"
      },
      "execution_count": null,
      "outputs": []
    },
    {
      "cell_type": "code",
      "source": [
        "def img_to_encoding(image, model):\n",
        "  img_resized = cv2.resize(image, (size, size))\n",
        "  img_resized = tf.cast(img_resized, tf.float32)/ 255\n",
        "  img = np.array([img_resized]) \n",
        "  img = img.reshape(img.shape[0], 1, size, size)\n",
        "\n",
        "  embedding = model.predict(img, verbose=0)\n",
        "  \n",
        "  return embedding"
      ],
      "metadata": {
        "id": "KaQswF8TSw8g"
      },
      "execution_count": null,
      "outputs": []
    },
    {
      "cell_type": "code",
      "source": [
        "def recognise_class(image, database, model):\n",
        "    encoding = img_to_encoding(image, model)\n",
        "    identity = None\n",
        "    min_dist = 100\n",
        "    for (name, db_enc) in database.items():\n",
        "        \n",
        "        dist = np.linalg.norm(db_enc - encoding)\n",
        "        #print('distance for %s is %s' %(name, dist))\n",
        "        if dist < min_dist:\n",
        "            min_dist = dist\n",
        "            identity = name\n",
        "    \n",
        "    if min_dist > 0.6:\n",
        "        return \"can't recognise.\"\n",
        "    else:\n",
        "        return str(identity)\n",
        "\n",
        "def recognise_class_2(image, database, model):\n",
        "    encoding = img_to_encoding(image, model)\n",
        "    identity = None\n",
        "    min_dist = 100\n",
        "    for (name, db_enc) in database.items():\n",
        "        \n",
        "        dist = np.linalg.norm(db_enc - encoding)\n",
        "        print('distance for %s is %s' %(name, dist))\n",
        "        if dist < min_dist:\n",
        "            min_dist = dist\n",
        "            identity = name\n",
        "    \n",
        "    if min_dist > 0.6:\n",
        "        return \"can't recognise.\"\n",
        "    else:\n",
        "        return str(identity)"
      ],
      "metadata": {
        "id": "zfo2KCmHTQNj"
      },
      "execution_count": null,
      "outputs": []
    },
    {
      "cell_type": "code",
      "source": [
        "def metricas(saida):\n",
        "  certo = 0\n",
        "  errado = 0\n",
        "  incerto = 0\n",
        "  \n",
        "  for resposta in saida:\n",
        "    if resposta[1] == nome[resposta[0]]:\n",
        "      certo += 1\n",
        "    else:\n",
        "      if resposta[1] == \"can't recognise.\":\n",
        "        incerto += 1\n",
        "      else:\n",
        "        if resposta[1] != nome[resposta[0]]:\n",
        "          errado += 1\n",
        "  print()\n",
        "  print(\"Total de imagem: {0}    Certas: {1}   Erradas: {2}   Incertas: {3}\".format(len(saida), certo, errado, incerto))"
      ],
      "metadata": {
        "id": "C8kMk_SBTS3o"
      },
      "execution_count": null,
      "outputs": []
    },
    {
      "cell_type": "markdown",
      "source": [
        "## Testes"
      ],
      "metadata": {
        "id": "YXWnN8aHTXdf"
      }
    },
    {
      "cell_type": "code",
      "source": [
        "# Permite visualizar algumas imagens do conjunto de teste\n",
        "visualize(x_test_origin)"
      ],
      "metadata": {
        "colab": {
          "base_uri": "https://localhost:8080/",
          "height": 541
        },
        "id": "wyGvmkm_TYj0",
        "outputId": "ad42880f-6c36-40e0-972e-0f8e386b5124"
      },
      "execution_count": null,
      "outputs": [
        {
          "output_type": "stream",
          "name": "stdout",
          "text": [
            "Total de imagens: 10000  Resolução: 28x28\n"
          ]
        },
        {
          "output_type": "display_data",
          "data": {
            "text/plain": [
              "<Figure size 648x648 with 9 Axes>"
            ],
            "image/png": "[encoded data removed]"
          },
          "metadata": {
            "needs_background": "light"
          }
        }
      ]
    },
    {
      "cell_type": "markdown",
      "source": [
        "Para classificar um imagem como pertencente a uma das classe, o processo é dividido em 4 fasses: \\\n",
        "\n",
        "1 - uma imagem representando cada classe é codificada. \\\n",
        "\n",
        "2 - a imagem que sera classifica é codificada. \\\n",
        "\n",
        "3 - verifica a distancia da imagem codificada na fasse 2 com cada uma das imagens codificadas na fasse 1. \\\n",
        "\n",
        "4 - a imagem sera classificada de acordo com a menor distancia encontrada na fasse 3.\n"
      ],
      "metadata": {
        "id": "i9Kttu1mThYH"
      }
    },
    {
      "cell_type": "code",
      "source": [
        "embedding_model = tf.keras.models.load_model(\"/content/drive/MyDrive/Codedepot/face_recognition/Treino_Mnint/embedding_model.h5\")"
      ],
      "metadata": {
        "id": "8ab6ZcdpThx6"
      },
      "execution_count": null,
      "outputs": []
    },
    {
      "cell_type": "code",
      "source": [
        "database = prepare_database(modelo)\n",
        "saida = []\n",
        "\n",
        "for i in tqdm (range(10000), desc=\"Testando...\"):\n",
        "  classe = recognise_class(x_test_origin[i], database, modelo)\n",
        "  #print(\"id {2}:: Classe Real: {0} >> Classe Prevista: {1}\".format(y_test_origin[i], classe, i))\n",
        "  saida.append([y_test_origin[i], classe])\n",
        "\n",
        "metricas(saida) "
      ],
      "metadata": {
        "colab": {
          "base_uri": "https://localhost:8080/"
        },
        "id": "XezVuxIGYo-c",
        "outputId": "a9ce638a-a2d4-41b2-b164-34c533be0740"
      },
      "execution_count": null,
      "outputs": [
        {
          "output_type": "stream",
          "name": "stderr",
          "text": [
            "Testando...: 100%|██████████| 10000/10000 [09:59<00:00, 16.68it/s]"
          ]
        },
        {
          "output_type": "stream",
          "name": "stdout",
          "text": [
            "\n",
            "Total de imagem: 10000    Certas: 9963   Erradas: 29   Incertas: 8\n"
          ]
        },
        {
          "output_type": "stream",
          "name": "stderr",
          "text": [
            "\n"
          ]
        }
      ]
    },
    {
      "cell_type": "code",
      "source": [
        "database = prepare_database(modelo)\n",
        "classe = recognise_class_2(x_test_origin[417], database, modelo)\n",
        "print()\n",
        "print(\"Classe Real: {0} >> Classe Prevista: {1}\".format(y_test_origin[417], classe))"
      ],
      "metadata": {
        "colab": {
          "base_uri": "https://localhost:8080/"
        },
        "id": "OTxVZJKoDhQN",
        "outputId": "c0073bcf-1ae4-4774-ab57-01ca9dc4a5c1"
      },
      "execution_count": null,
      "outputs": [
        {
          "output_type": "stream",
          "name": "stdout",
          "text": [
            "distance for zero is 1.5048177\n",
            "distance for um is 1.5384765\n",
            "distance for dois is 1.6921117\n",
            "distance for tres is 1.4914639\n",
            "distance for quatro is 1.4663353\n",
            "distance for cinco is 1.4988364\n",
            "distance for seis is 1.4920801\n",
            "distance for sete is 1.5077233\n",
            "distance for oito is 1.6184503\n",
            "distance for nove is 0.04209562\n",
            "\n",
            "Classe Real: 9 >> Classe Prevista: nove\n"
          ]
        }
      ]
    }
  ]
}
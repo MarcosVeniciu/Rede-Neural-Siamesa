{
  "nbformat": 4,
  "nbformat_minor": 0,
  "metadata": {
    "colab": {
      "provenance": [],
      "include_colab_link": true
    },
    "kernelspec": {
      "name": "python3",
      "display_name": "Python 3"
    },
    "language_info": {
      "name": "python"
    },
    "gpuClass": "standard"
  },
  "cells": [
    {
      "cell_type": "markdown",
      "metadata": {
        "id": "view-in-github",
        "colab_type": "text"
      },
      "source": [
        "<a href=\"https://colab.research.google.com/github/MarcosVeniciu/Rede-Neural-Siamesa/blob/main/Rede_Siamesa.ipynb\" target=\"_parent\"><img src=\"https://colab.research.google.com/assets/colab-badge.svg\" alt=\"Open In Colab\"/></a>"
      ]
    },
    {
      "cell_type": "code",
      "source": [
        "import matplotlib.pyplot as plt\n",
        "from tensorflow import keras\n",
        "from keras import layers\n",
        "import tensorflow as tf\n",
        "import numpy as np\n",
        "import cv2\n",
        "import os\n",
        "\n",
        "size = 28\n",
        "\n",
        "# Coisas pra fazer \n",
        "# 1 - passar as funções de redimensionamento, reshape, normalização(1/255)\n",
        "# Para poder gerar o dataset sem se importar com a resolução e fazer o minimo de mudanças pra vê se gasta menos memoria\n",
        "#https://www.tensorflow.org/api_docs/python/tf/keras/layers/Rescaling\n",
        "#https://www.tensorflow.org/api_docs/python/tf/keras/layers/Reshape\n",
        "#https://www.tensorflow.org/api_docs/python/tf/keras/layers/Resizing"
      ],
      "metadata": {
        "id": "vmK5covsUhNj"
      },
      "execution_count": 3,
      "outputs": []
    },
    {
      "cell_type": "markdown",
      "source": [
        "# Datasets"
      ],
      "metadata": {
        "id": "LQKRgOTUUQJ9"
      }
    },
    {
      "cell_type": "markdown",
      "source": [
        "## Funções"
      ],
      "metadata": {
        "id": "0Ns0ULKYVHz9"
      }
    },
    {
      "cell_type": "code",
      "source": [
        "def visualize(dataset):\n",
        "  \"\"\"Visualize a few triplets from the supplied batches.\"\"\"\n",
        "  for anchor, positive, negative in dataset.take(1):\n",
        "    def show(ax, image):\n",
        "        ax.imshow(image, cmap=\"gray\")\n",
        "        ax.get_xaxis().set_visible(False)\n",
        "        ax.get_yaxis().set_visible(False)\n",
        "\n",
        "    fig = plt.figure(figsize=(9, 9))\n",
        "\n",
        "    axs = fig.subplots(3, 3)\n",
        "    for i in range(3):\n",
        "        show(axs[i, 0], anchor[0])\n",
        "        show(axs[i, 1], positive[0])\n",
        "        show(axs[i, 2], negative[0])"
      ],
      "metadata": {
        "id": "2f2PivNBW8JA"
      },
      "execution_count": 2,
      "outputs": []
    },
    {
      "cell_type": "markdown",
      "source": [
        "### Mnist"
      ],
      "metadata": {
        "id": "vBWFDxrZUTGt"
      }
    },
    {
      "cell_type": "code",
      "execution_count": 3,
      "metadata": {
        "id": "Eg4t8X-xS_k0"
      },
      "outputs": [],
      "source": [
        "def resize(im, nR, nC):\n",
        "    number_rows = len(im)     # source number of rows \n",
        "    number_columns = len(im[0])  # source number of columns \n",
        "    return [[ im[int(number_rows * r / nR)][int(number_columns * c / nC)]  \n",
        "                 for c in range(nC)] for r in range(nR)]\n",
        "\n",
        "\n",
        "def pre_process(img):\n",
        "  #img = np.resize(img,(size,size)) #resize(img, size, size) \n",
        "  img = np.array([img]) \n",
        "  img = img.reshape(1, size, size)\n",
        "  return img\n",
        "\n",
        "\n",
        "def dataset_keras_mnist(quantidade_imagens):\n",
        "  (x_train_origin, y_train_origin), (x_test_origin, y_test_origin) = keras.datasets.mnist.load_data()\n",
        "  del x_test_origin\n",
        "  del y_test_origin\n",
        "\n",
        "  nb_classes = 10\n",
        "  triplets=[np.zeros((quantidade_imagens, 1, size, size)) for i in range(3)]\n",
        "\n",
        "  for i in range(quantidade_imagens):\n",
        "    if i == 20000: print(\"20.000 imegens adicionadas.\")\n",
        "    if i == 25000: print(\"25.000 imegens adicionadas.\")\n",
        "    if i == 30000: print(\"30.000 imegens adicionadas.\")\n",
        "    if i == 35000: print(\"35.000 imegens adicionadas.\")\n",
        "    if i == 36000: print(\"36.000 imegens adicionadas.\")\n",
        "    if i == 37000: print(\"37.000 imegens adicionadas.\")\n",
        "    if i == 38000: print(\"38.000 imegens adicionadas.\")\n",
        "    if i == 39000: print(\"39.000 imegens adicionadas.\")\n",
        "    if i == 39900: print(\"40.000 imegens adicionadas.\")\n",
        "\n",
        "    anchor_class = np.random.randint(0, nb_classes) # Sorteia o indice de uma das classes de 0 a 9\n",
        "    nb_sample_available_for_class_AP = x_train_origin[anchor_class].shape[0] # verifica a quantidade de imagens na classe de indice anchor_class\n",
        " \n",
        "    # imagem ancora\n",
        "    while True: # sorteia um indice aleatorio ate que o indice sorteado seja igual ao indice da classe desejada\n",
        "      idx_A = np.random.randint(0, nb_sample_available_for_class_AP)\n",
        "      if y_train_origin[idx_A] == anchor_class:\n",
        "        break \n",
        "\n",
        "    # imagem positiva\n",
        "    while True: # sorteia um indice aleatorio ate que o indice sorteado seja igual ao indice da classe desejada\n",
        "      idx_P = np.random.randint(0, nb_sample_available_for_class_AP)\n",
        "      if y_train_origin[idx_P] == anchor_class:\n",
        "        break  \n",
        "    \n",
        "    # Imagem negativa\n",
        "    negative_class = (anchor_class + np.random.randint(1,nb_classes)) % nb_classes # seleciona uma outra classe para ser a negativa\n",
        "    nb_sample_available_for_class_N = x_train_origin[negative_class].shape[0]\n",
        "    while True: # sorteia um indice aleatorio ate que o indice sorteado seja igual ao indice da classe desejada\n",
        "      idx_N = np.random.randint(0, nb_sample_available_for_class_N)\n",
        "      if y_train_origin[idx_N] == negative_class:\n",
        "        break\n",
        "\n",
        "    triplets[0][i,:,:,:] = pre_process(x_train_origin[idx_A])\n",
        "    triplets[1][i,:,:,:] = pre_process(x_train_origin[idx_P])\n",
        "    triplets[2][i,:,:,:] = pre_process(x_train_origin[idx_N])\n",
        " \n",
        "  dataset = tf.data.Dataset.zip((\n",
        "  tf.data.Dataset.from_tensor_slices(triplets[0]), # anchor_dataset\n",
        "  tf.data.Dataset.from_tensor_slices(triplets[1]), # positive_dataset\n",
        "  tf.data.Dataset.from_tensor_slices(triplets[2]))) # positive_dataset\n",
        "  return dataset "
      ]
    },
    {
      "cell_type": "markdown",
      "source": [
        "## Gerar DataSet"
      ],
      "metadata": {
        "id": "Zs4mbb6KVKnH"
      }
    },
    {
      "cell_type": "code",
      "source": [
        "dataset = dataset_keras_mnist(quantidade_imagens = 40000)\n",
        "dataset = dataset.shuffle(buffer_size=1024)\n",
        "#visualize(dataset)\n",
        "\n",
        "train_ds = dataset.take(round(len(dataset) * 0.8))\n",
        "val_ds = dataset.skip(round(len(dataset) * 0.8))\n",
        "\n",
        "print(\"Total de imagens: \" + str(len(dataset)))\n",
        "print(\"   Treinamento: \" + str(len(train_ds)))\n",
        "print(\"   Validação: \" + str(len(val_ds)))\n",
        "\n",
        "\n",
        "train_ds = train_ds.batch(32, drop_remainder=False)\n",
        "val_ds = val_ds.batch(32, drop_remainder=False)\n",
        "train_ds = train_ds.prefetch(8)\n",
        "val_ds = val_ds.prefetch(8)"
      ],
      "metadata": {
        "id": "JvS_Q9wEVNEA",
        "colab": {
          "base_uri": "https://localhost:8080/"
        },
        "outputId": "f32df62e-37ee-489b-a982-ab9f21914760"
      },
      "execution_count": 4,
      "outputs": [
        {
          "output_type": "stream",
          "name": "stdout",
          "text": [
            "20.000 imegens adicionadas.\n",
            "25.000 imegens adicionadas.\n",
            "30.000 imegens adicionadas.\n",
            "35.000 imegens adicionadas.\n",
            "36.000 imegens adicionadas.\n",
            "37.000 imegens adicionadas.\n",
            "38.000 imegens adicionadas.\n",
            "39.000 imegens adicionadas.\n",
            "40.000 imegens adicionadas.\n",
            "Total de imagens: 40000\n",
            "   Treinamento: 32000\n",
            "   Validação: 8000\n"
          ]
        }
      ]
    },
    {
      "cell_type": "markdown",
      "source": [
        "# Modelo"
      ],
      "metadata": {
        "id": "GGJWnE3jXTAT"
      }
    },
    {
      "cell_type": "code",
      "source": [
        "#### PART OF THIS CODE IS USING CODE FROM VICTOR SY WANG: https://github.com/iwantooxxoox/Keras-OpenFace/blob/master/utils.py ####\n",
        "#### THIS FILE IS FROM https://github.com/shahariarrabby/deeplearning.ai/blob/master/COURSE%204%20Convolutional%20Neural%20Networks/Week%2004/Face%20Recognition/fr_utils.py\n",
        "\n",
        "import tensorflow as tf\n",
        "import numpy as np\n",
        "import os\n",
        "import cv2\n",
        "from numpy import genfromtxt\n",
        "from keras.layers import Conv2D, ZeroPadding2D, Activation, Input, concatenate\n",
        "from keras.models import Model\n",
        "#from keras.layers.normalization import BatchNormalization\n",
        "from tensorflow.keras.layers import BatchNormalization\n",
        "from keras.layers.pooling import MaxPooling2D, AveragePooling2D\n",
        "import matplotlib.pyplot as plt\n",
        "\n",
        "\n",
        "_FLOATX = 'float32'\n",
        "\n",
        "def variable(value, dtype=_FLOATX, name=None):\n",
        "    v = tf.Variable(np.asarray(value, dtype=dtype), name=name)\n",
        "    _get_session().run(v.initializer)\n",
        "    return v\n",
        "\n",
        "def shape(x):\n",
        "    return x.get_shape()\n",
        "\n",
        "def square(x):\n",
        "    return tf.square(x)\n",
        "\n",
        "def zeros(shape, dtype=_FLOATX, name=None):\n",
        "    return variable(np.zeros(shape), dtype, name)\n",
        "\n",
        "def concatenate(tensors, axis=-1):\n",
        "    if axis < 0:\n",
        "        axis = axis % len(tensors[0].get_shape())\n",
        "    return tf.concat(axis, tensors)\n",
        "\n",
        "def LRN2D(x):\n",
        "    return tf.nn.lrn(x, alpha=1e-4, beta=0.75)\n",
        "\n",
        "def conv2d_bn(x,\n",
        "              layer=None,\n",
        "              cv1_out=None,\n",
        "              cv1_filter=(1, 1),\n",
        "              cv1_strides=(1, 1),\n",
        "              cv2_out=None,\n",
        "              cv2_filter=(3, 3),\n",
        "              cv2_strides=(1, 1),\n",
        "              padding=None):\n",
        "    num = '' if cv2_out == None else '1'\n",
        "    tensor = Conv2D(cv1_out, cv1_filter, strides=cv1_strides, data_format='channels_first', name=layer+'_conv'+num)(x)\n",
        "    tensor = BatchNormalization(axis=1, epsilon=0.00001, name=layer+'_bn'+num)(tensor)\n",
        "    tensor = Activation('relu')(tensor)\n",
        "    if padding == None:\n",
        "        return tensor\n",
        "    tensor = ZeroPadding2D(padding=padding, data_format='channels_first')(tensor)\n",
        "    if cv2_out == None:\n",
        "        return tensor\n",
        "    tensor = Conv2D(cv2_out, cv2_filter, strides=cv2_strides, data_format='channels_first', name=layer+'_conv'+'2')(tensor)\n",
        "    tensor = BatchNormalization(axis=1, epsilon=0.00001, name=layer+'_bn'+'2')(tensor)\n",
        "    tensor = Activation('relu')(tensor)\n",
        "    return tensor\n",
        "\n",
        "WEIGHTS = [\n",
        "  'conv1', 'bn1', 'conv2', 'bn2', 'conv3', 'bn3',\n",
        "  'inception_3a_1x1_conv', 'inception_3a_1x1_bn',\n",
        "  'inception_3a_pool_conv', 'inception_3a_pool_bn',\n",
        "  'inception_3a_5x5_conv1', 'inception_3a_5x5_conv2', 'inception_3a_5x5_bn1', 'inception_3a_5x5_bn2',\n",
        "  'inception_3a_3x3_conv1', 'inception_3a_3x3_conv2', 'inception_3a_3x3_bn1', 'inception_3a_3x3_bn2',\n",
        "  'inception_3b_3x3_conv1', 'inception_3b_3x3_conv2', 'inception_3b_3x3_bn1', 'inception_3b_3x3_bn2',\n",
        "  'inception_3b_5x5_conv1', 'inception_3b_5x5_conv2', 'inception_3b_5x5_bn1', 'inception_3b_5x5_bn2',\n",
        "  'inception_3b_pool_conv', 'inception_3b_pool_bn',\n",
        "  'inception_3b_1x1_conv', 'inception_3b_1x1_bn',\n",
        "  'inception_3c_3x3_conv1', 'inception_3c_3x3_conv2', 'inception_3c_3x3_bn1', 'inception_3c_3x3_bn2',\n",
        "  'inception_3c_5x5_conv1', 'inception_3c_5x5_conv2', 'inception_3c_5x5_bn1', 'inception_3c_5x5_bn2',\n",
        "  'inception_4a_3x3_conv1', 'inception_4a_3x3_conv2', 'inception_4a_3x3_bn1', 'inception_4a_3x3_bn2',\n",
        "  'inception_4a_5x5_conv1', 'inception_4a_5x5_conv2', 'inception_4a_5x5_bn1', 'inception_4a_5x5_bn2',\n",
        "  'inception_4a_pool_conv', 'inception_4a_pool_bn',\n",
        "  'inception_4a_1x1_conv', 'inception_4a_1x1_bn',\n",
        "  'inception_4e_3x3_conv1', 'inception_4e_3x3_conv2', 'inception_4e_3x3_bn1', 'inception_4e_3x3_bn2',\n",
        "  'inception_4e_5x5_conv1', 'inception_4e_5x5_conv2', 'inception_4e_5x5_bn1', 'inception_4e_5x5_bn2',\n",
        "  'inception_5a_3x3_conv1', 'inception_5a_3x3_conv2', 'inception_5a_3x3_bn1', 'inception_5a_3x3_bn2',\n",
        "  'inception_5a_pool_conv', 'inception_5a_pool_bn',\n",
        "  'inception_5a_1x1_conv', 'inception_5a_1x1_bn',\n",
        "  'inception_5b_3x3_conv1', 'inception_5b_3x3_conv2', 'inception_5b_3x3_bn1', 'inception_5b_3x3_bn2',\n",
        "  'inception_5b_pool_conv', 'inception_5b_pool_bn',\n",
        "  'inception_5b_1x1_conv', 'inception_5b_1x1_bn',\n",
        "  'dense_layer'\n",
        "]\n",
        "\n",
        "conv_shape = {\n",
        "  'conv1': [64, 3, 7, 7],\n",
        "  'conv2': [64, 64, 1, 1],\n",
        "  'conv3': [192, 64, 3, 3],\n",
        "  'inception_3a_1x1_conv': [64, 192, 1, 1],\n",
        "  'inception_3a_pool_conv': [32, 192, 1, 1],\n",
        "  'inception_3a_5x5_conv1': [16, 192, 1, 1],\n",
        "  'inception_3a_5x5_conv2': [32, 16, 5, 5],\n",
        "  'inception_3a_3x3_conv1': [96, 192, 1, 1],\n",
        "  'inception_3a_3x3_conv2': [128, 96, 3, 3],\n",
        "  'inception_3b_3x3_conv1': [96, 256, 1, 1],\n",
        "  'inception_3b_3x3_conv2': [128, 96, 3, 3],\n",
        "  'inception_3b_5x5_conv1': [32, 256, 1, 1],\n",
        "  'inception_3b_5x5_conv2': [64, 32, 5, 5],\n",
        "  'inception_3b_pool_conv': [64, 256, 1, 1],\n",
        "  'inception_3b_1x1_conv': [64, 256, 1, 1],\n",
        "  'inception_3c_3x3_conv1': [128, 320, 1, 1],\n",
        "  'inception_3c_3x3_conv2': [256, 128, 3, 3],\n",
        "  'inception_3c_5x5_conv1': [32, 320, 1, 1],\n",
        "  'inception_3c_5x5_conv2': [64, 32, 5, 5],\n",
        "  'inception_4a_3x3_conv1': [96, 640, 1, 1],\n",
        "  'inception_4a_3x3_conv2': [192, 96, 3, 3],\n",
        "  'inception_4a_5x5_conv1': [32, 640, 1, 1,],\n",
        "  'inception_4a_5x5_conv2': [64, 32, 5, 5],\n",
        "  'inception_4a_pool_conv': [128, 640, 1, 1],\n",
        "  'inception_4a_1x1_conv': [256, 640, 1, 1],\n",
        "  'inception_4e_3x3_conv1': [160, 640, 1, 1],\n",
        "  'inception_4e_3x3_conv2': [256, 160, 3, 3],\n",
        "  'inception_4e_5x5_conv1': [64, 640, 1, 1],\n",
        "  'inception_4e_5x5_conv2': [128, 64, 5, 5],\n",
        "  'inception_5a_3x3_conv1': [96, 1024, 1, 1],\n",
        "  'inception_5a_3x3_conv2': [384, 96, 3, 3],\n",
        "  'inception_5a_pool_conv': [96, 1024, 1, 1],\n",
        "  'inception_5a_1x1_conv': [256, 1024, 1, 1],\n",
        "  'inception_5b_3x3_conv1': [96, 736, 1, 1],\n",
        "  'inception_5b_3x3_conv2': [384, 96, 3, 3],\n",
        "  'inception_5b_pool_conv': [96, 736, 1, 1],\n",
        "  'inception_5b_1x1_conv': [256, 736, 1, 1],\n",
        "}\n",
        "\n",
        "def load_weights_from_FaceNet(FRmodel):\n",
        "    # Load weights from csv files (which was exported from Openface torch model)\n",
        "    weights = WEIGHTS\n",
        "    weights_dict = load_weights()\n",
        "\n",
        "    # Set layer weights of the model\n",
        "    for name in weights:\n",
        "        if FRmodel.get_layer(name) != None:\n",
        "            FRmodel.get_layer(name).set_weights(weights_dict[name])\n",
        "        elif model.get_layer(name) != None:\n",
        "            model.get_layer(name).set_weights(weights_dict[name])\n",
        "\n",
        "def load_weights():\n",
        "    # Set weights path\n",
        "    dirPath = './weights'\n",
        "    fileNames = filter(lambda f: not f.startswith('.'), os.listdir(dirPath))\n",
        "    paths = {}\n",
        "    weights_dict = {}\n",
        "\n",
        "    for n in fileNames:\n",
        "        paths[n.replace('.csv', '')] = dirPath + '/' + n\n",
        "\n",
        "    for name in WEIGHTS:\n",
        "        if 'conv' in name:\n",
        "            conv_w = genfromtxt(paths[name + '_w'], delimiter=',', dtype=None)\n",
        "            conv_w = np.reshape(conv_w, conv_shape[name])\n",
        "            conv_w = np.transpose(conv_w, (2, 3, 1, 0))\n",
        "            conv_b = genfromtxt(paths[name + '_b'], delimiter=',', dtype=None)\n",
        "            weights_dict[name] = [conv_w, conv_b]     \n",
        "        elif 'bn' in name:\n",
        "            bn_w = genfromtxt(paths[name + '_w'], delimiter=',', dtype=None)\n",
        "            bn_b = genfromtxt(paths[name + '_b'], delimiter=',', dtype=None)\n",
        "            bn_m = genfromtxt(paths[name + '_m'], delimiter=',', dtype=None)\n",
        "            bn_v = genfromtxt(paths[name + '_v'], delimiter=',', dtype=None)\n",
        "            weights_dict[name] = [bn_w, bn_b, bn_m, bn_v]\n",
        "        elif 'dense' in name:\n",
        "            dense_w = genfromtxt(dirPath+'/dense_w.csv', delimiter=',', dtype=None)\n",
        "            dense_w = np.reshape(dense_w, (128, 736))\n",
        "            dense_w = np.transpose(dense_w, (1, 0))\n",
        "            dense_b = genfromtxt(dirPath+'/dense_b.csv', delimiter=',', dtype=None)\n",
        "            weights_dict[name] = [dense_w, dense_b]\n",
        "\n",
        "    return weights_dict\n",
        "    \n",
        "def img_to_encoding(image_path, model):\n",
        "    image = cv2.imread(image_path, 1)\n",
        "    image = cv2.resize(image, (96, 96)) \n",
        "    img = image[...,::-1]\n",
        "    img = np.around(np.transpose(img, (2,0,1))/255.0, decimals=12)\n",
        "    x_train = np.array([img])\n",
        "    embedding = model.predict_on_batch(x_train)\n",
        "    return embedding\n"
      ],
      "metadata": {
        "id": "ZjkTQmuHXT5m"
      },
      "execution_count": 6,
      "outputs": []
    },
    {
      "cell_type": "code",
      "source": [
        "#### THIS CODE IS FROM https://github.com/shahariarrabby/deeplearning.ai/blob/master/COURSE%204%20Convolutional%20Neural%20Networks/Week%2004/Face%20Recognition/inception_blocks_v2.py\n",
        "\n",
        "import tensorflow as tf\n",
        "import numpy as np\n",
        "import os\n",
        "from numpy import genfromtxt\n",
        "from keras import backend as K\n",
        "from keras.layers import Conv2D, ZeroPadding2D, Activation, Input #, concatenate\n",
        "from keras.models import Model\n",
        "\n",
        "#from keras.layers.normalization import BatchNormalization\n",
        "from tensorflow.keras.layers import BatchNormalization\n",
        "from keras.layers.pooling import MaxPooling2D, AveragePooling2D\n",
        "#import fr_utils\n",
        "from keras.layers.core import Lambda, Flatten, Dense\n",
        "\n",
        "def inception_block_1a(X):\n",
        "    \"\"\"\n",
        "    Implementation of an inception block\n",
        "    \"\"\"\n",
        "    \n",
        "    X_3x3 = Conv2D(96, (1, 1), data_format='channels_first', name ='inception_3a_3x3_conv1')(X)\n",
        "    X_3x3 = BatchNormalization(axis=1, epsilon=0.00001, name = 'inception_3a_3x3_bn1')(X_3x3)\n",
        "    X_3x3 = Activation('relu')(X_3x3)\n",
        "    X_3x3 = ZeroPadding2D(padding=(1, 1), data_format='channels_first')(X_3x3)\n",
        "    X_3x3 = Conv2D(128, (3, 3), data_format='channels_first', name='inception_3a_3x3_conv2')(X_3x3)\n",
        "    X_3x3 = BatchNormalization(axis=1, epsilon=0.00001, name='inception_3a_3x3_bn2')(X_3x3)\n",
        "    X_3x3 = Activation('relu')(X_3x3)\n",
        "    \n",
        "    X_5x5 = Conv2D(16, (1, 1), data_format='channels_first', name='inception_3a_5x5_conv1')(X)\n",
        "    X_5x5 = BatchNormalization(axis=1, epsilon=0.00001, name='inception_3a_5x5_bn1')(X_5x5)\n",
        "    X_5x5 = Activation('relu')(X_5x5)\n",
        "    X_5x5 = ZeroPadding2D(padding=(2, 2), data_format='channels_first')(X_5x5)\n",
        "    X_5x5 = Conv2D(32, (5, 5), data_format='channels_first', name='inception_3a_5x5_conv2')(X_5x5)\n",
        "    X_5x5 = BatchNormalization(axis=1, epsilon=0.00001, name='inception_3a_5x5_bn2')(X_5x5)\n",
        "    X_5x5 = Activation('relu')(X_5x5)\n",
        "\n",
        "    X_pool = MaxPooling2D(pool_size=3, strides=2, data_format='channels_first')(X)\n",
        "    X_pool = Conv2D(32, (1, 1), data_format='channels_first', name='inception_3a_pool_conv')(X_pool)\n",
        "    X_pool = BatchNormalization(axis=1, epsilon=0.00001, name='inception_3a_pool_bn')(X_pool)\n",
        "    X_pool = Activation('relu')(X_pool)\n",
        "    X_pool = ZeroPadding2D(padding=((3, 4), (3, 4)), data_format='channels_first')(X_pool)\n",
        "\n",
        "    X_1x1 = Conv2D(64, (1, 1), data_format='channels_first', name='inception_3a_1x1_conv')(X)\n",
        "    X_1x1 = BatchNormalization(axis=1, epsilon=0.00001, name='inception_3a_1x1_bn')(X_1x1)\n",
        "    X_1x1 = Activation('relu')(X_1x1)\n",
        "   \n",
        "    # CONCAT\n",
        "    #inception = concatenate([X_3x3, X_5x5, X_pool, X_1x1], axis=1)\n",
        "    inception = tf.concat([X_3x3, X_5x5, X_pool, X_1x1], axis=1, name=\"concat_inception_block_1a\")\n",
        "\n",
        "    return inception\n",
        "\n",
        "def inception_block_1b(X):\n",
        "    X_3x3 = Conv2D(96, (1, 1), data_format='channels_first', name='inception_3b_3x3_conv1')(X)\n",
        "    X_3x3 = BatchNormalization(axis=1, epsilon=0.00001, name='inception_3b_3x3_bn1')(X_3x3)\n",
        "    X_3x3 = Activation('relu')(X_3x3)\n",
        "    X_3x3 = ZeroPadding2D(padding=(1, 1), data_format='channels_first')(X_3x3)\n",
        "    X_3x3 = Conv2D(128, (3, 3), data_format='channels_first', name='inception_3b_3x3_conv2')(X_3x3)\n",
        "    X_3x3 = BatchNormalization(axis=1, epsilon=0.00001, name='inception_3b_3x3_bn2')(X_3x3)\n",
        "    X_3x3 = Activation('relu')(X_3x3)\n",
        "\n",
        "    X_5x5 = Conv2D(32, (1, 1), data_format='channels_first', name='inception_3b_5x5_conv1')(X)\n",
        "    X_5x5 = BatchNormalization(axis=1, epsilon=0.00001, name='inception_3b_5x5_bn1')(X_5x5)\n",
        "    X_5x5 = Activation('relu')(X_5x5)\n",
        "    X_5x5 = ZeroPadding2D(padding=(2, 2), data_format='channels_first')(X_5x5)\n",
        "    X_5x5 = Conv2D(64, (5, 5), data_format='channels_first', name='inception_3b_5x5_conv2')(X_5x5)\n",
        "    X_5x5 = BatchNormalization(axis=1, epsilon=0.00001, name='inception_3b_5x5_bn2')(X_5x5)\n",
        "    X_5x5 = Activation('relu')(X_5x5)\n",
        "\n",
        "    X_pool = AveragePooling2D(pool_size=(3, 3), strides=(3, 3), data_format='channels_first')(X)\n",
        "    X_pool = Conv2D(64, (1, 1), data_format='channels_first', name='inception_3b_pool_conv')(X_pool)\n",
        "    X_pool = BatchNormalization(axis=1, epsilon=0.00001, name='inception_3b_pool_bn')(X_pool)\n",
        "    X_pool = Activation('relu')(X_pool)\n",
        "    X_pool = ZeroPadding2D(padding=(4, 4), data_format='channels_first')(X_pool)\n",
        "\n",
        "    X_1x1 = Conv2D(64, (1, 1), data_format='channels_first', name='inception_3b_1x1_conv')(X)\n",
        "    X_1x1 = BatchNormalization(axis=1, epsilon=0.00001, name='inception_3b_1x1_bn')(X_1x1)\n",
        "    X_1x1 = Activation('relu')(X_1x1)\n",
        "\n",
        "    #inception = concatenate([X_3x3, X_5x5, X_pool, X_1x1], axis=1)\n",
        "    inception = tf.concat([X_3x3, X_5x5, X_pool, X_1x1], axis=1)\n",
        "    \n",
        "\n",
        "    return inception\n",
        "\n",
        "def inception_block_1c(X):\n",
        "    #X_3x3 = fr_utils.conv2d_bn(X,\n",
        "    X_3x3 = conv2d_bn(X,\n",
        "                           layer='inception_3c_3x3',\n",
        "                           cv1_out=128,\n",
        "                           cv1_filter=(1, 1),\n",
        "                           cv2_out=256,\n",
        "                           cv2_filter=(3, 3),\n",
        "                           cv2_strides=(2, 2),\n",
        "                           padding=(1, 1))\n",
        "\n",
        "    #X_5x5 = fr_utils.conv2d_bn(X,\n",
        "    X_5x5 = conv2d_bn(X,\n",
        "                           layer='inception_3c_5x5',\n",
        "                           cv1_out=32,\n",
        "                           cv1_filter=(1, 1),\n",
        "                           cv2_out=64,\n",
        "                           cv2_filter=(5, 5),\n",
        "                           cv2_strides=(2, 2),\n",
        "                           padding=(2, 2))\n",
        "\n",
        "    X_pool = MaxPooling2D(pool_size=3, strides=2, data_format='channels_first')(X)\n",
        "    X_pool = ZeroPadding2D(padding=((0, 1), (0, 1)), data_format='channels_first')(X_pool)\n",
        "\n",
        "    #inception = concatenate([X_3x3, X_5x5, X_pool], axis=1)\n",
        "    inception = tf.concat([X_3x3, X_5x5, X_pool], axis=1)\n",
        "    \n",
        "\n",
        "    return inception\n",
        "\n",
        "def inception_block_2a(X):\n",
        "    #X_3x3 = fr_utils.conv2d_bn(X,\n",
        "    X_3x3 = conv2d_bn(X,\n",
        "                           layer='inception_4a_3x3',\n",
        "                           cv1_out=96,\n",
        "                           cv1_filter=(1, 1),\n",
        "                           cv2_out=192,\n",
        "                           cv2_filter=(3, 3),\n",
        "                           cv2_strides=(1, 1),\n",
        "                           padding=(1, 1))\n",
        "    #X_5x5 = fr_utils.conv2d_bn(X,\n",
        "    X_5x5 = conv2d_bn(X,\n",
        "                           layer='inception_4a_5x5',\n",
        "                           cv1_out=32,\n",
        "                           cv1_filter=(1, 1),\n",
        "                           cv2_out=64,\n",
        "                           cv2_filter=(5, 5),\n",
        "                           cv2_strides=(1, 1),\n",
        "                           padding=(2, 2))\n",
        "\n",
        "    X_pool = AveragePooling2D(pool_size=(3, 3), strides=(3, 3), data_format='channels_first')(X)\n",
        "    #X_pool = fr_utils.conv2d_bn(X_pool,\n",
        "    X_pool = conv2d_bn(X_pool,\n",
        "                           layer='inception_4a_pool',\n",
        "                           cv1_out=128,\n",
        "                           cv1_filter=(1, 1),\n",
        "                           padding=(2, 2))\n",
        "    #X_1x1 = fr_utils.conv2d_bn(X,\n",
        "    X_1x1 = conv2d_bn(X,\n",
        "                           layer='inception_4a_1x1',\n",
        "                           cv1_out=256,\n",
        "                           cv1_filter=(1, 1))\n",
        "    \n",
        "    #inception = concatenate([X_3x3, X_5x5, X_pool, X_1x1], axis=1)\n",
        "    inception = tf.concat([X_3x3, X_5x5, X_pool, X_1x1], axis=1)\n",
        "    \n",
        "    return inception\n",
        "\n",
        "def inception_block_2b(X):\n",
        "    #inception4e\n",
        "    #X_3x3 = fr_utils.conv2d_bn(X,\n",
        "    X_3x3 = conv2d_bn(X,\n",
        "                           layer='inception_4e_3x3',\n",
        "                           cv1_out=160,\n",
        "                           cv1_filter=(1, 1),\n",
        "                           cv2_out=256,\n",
        "                           cv2_filter=(3, 3),\n",
        "                           cv2_strides=(2, 2),\n",
        "                           padding=(1, 1))\n",
        "    #X_5x5 = fr_utils.conv2d_bn(X,\n",
        "    X_5x5 = conv2d_bn(X,\n",
        "                           layer='inception_4e_5x5',\n",
        "                           cv1_out=64,\n",
        "                           cv1_filter=(1, 1),\n",
        "                           cv2_out=128,\n",
        "                           cv2_filter=(5, 5),\n",
        "                           cv2_strides=(2, 2),\n",
        "                           padding=(2, 2))\n",
        "    \n",
        "    X_pool = MaxPooling2D(pool_size=3, strides=2, data_format='channels_first')(X)\n",
        "    X_pool = ZeroPadding2D(padding=((0, 1), (0, 1)), data_format='channels_first')(X_pool)\n",
        "\n",
        "    #inception = concatenate([X_3x3, X_5x5, X_pool], axis=1)\n",
        "    inception = tf.concat([X_3x3, X_5x5, X_pool], axis=1)\n",
        "    \n",
        "\n",
        "    return inception\n",
        "\n",
        "def inception_block_3a(X):\n",
        "    #X_3x3 = fr_utils.conv2d_bn(X,\n",
        "    X_3x3 = conv2d_bn(X,\n",
        "                           layer='inception_5a_3x3',\n",
        "                           cv1_out=96,\n",
        "                           cv1_filter=(1, 1),\n",
        "                           cv2_out=384,\n",
        "                           cv2_filter=(3, 3),\n",
        "                           cv2_strides=(1, 1),\n",
        "                           padding=(1, 1))\n",
        "    X_pool = AveragePooling2D(pool_size=(3, 3), strides=(3, 3), data_format='channels_first')(X)\n",
        "    #X_pool = fr_utils.conv2d_bn(X_pool,\n",
        "    X_pool = conv2d_bn(X_pool,\n",
        "                           layer='inception_5a_pool',\n",
        "                           cv1_out=96,\n",
        "                           cv1_filter=(1, 1),\n",
        "                           padding=(1, 1))\n",
        "    #X_1x1 = fr_utils.conv2d_bn(X,\n",
        "    X_1x1 = conv2d_bn(X,\n",
        "                           layer='inception_5a_1x1',\n",
        "                           cv1_out=256,\n",
        "                           cv1_filter=(1, 1))\n",
        "\n",
        "    #inception = concatenate([X_3x3, X_pool, X_1x1], axis=1)\n",
        "    inception = tf.concat([X_3x3, X_pool, X_1x1], axis=1)\n",
        "    \n",
        "\n",
        "    return inception\n",
        "\n",
        "def inception_block_3b(X):\n",
        "    #X_3x3 = fr_utils.conv2d_bn(X,\n",
        "    X_3x3 = conv2d_bn(X,\n",
        "                           layer='inception_5b_3x3',\n",
        "                           cv1_out=96,\n",
        "                           cv1_filter=(1, 1),\n",
        "                           cv2_out=384,\n",
        "                           cv2_filter=(3, 3),\n",
        "                           cv2_strides=(1, 1),\n",
        "                           padding=(1, 1))\n",
        "    X_pool = MaxPooling2D(pool_size=3, strides=2, data_format='channels_first')(X)\n",
        "    #X_pool = fr_utils.conv2d_bn(X_pool,\n",
        "    X_pool = conv2d_bn(X_pool,\n",
        "                           layer='inception_5b_pool',\n",
        "                           cv1_out=96,\n",
        "                           cv1_filter=(1, 1))\n",
        "    X_pool = ZeroPadding2D(padding=(1, 1), data_format='channels_first')(X_pool)\n",
        "\n",
        "    #X_1x1 = fr_utils.conv2d_bn(X,\n",
        "    X_1x1 = conv2d_bn(X,\n",
        "                           layer='inception_5b_1x1',\n",
        "                           cv1_out=256,\n",
        "                           cv1_filter=(1, 1))\n",
        "    \n",
        "    #inception = concatenate([X_3x3, X_pool, X_1x1], axis=1)\n",
        "    inception = tf.concat([X_3x3, X_pool, X_1x1], axis=1)\n",
        "    \n",
        "    return inception\n",
        "\n",
        "def model(input_shape):\n",
        "    \"\"\"\n",
        "    Implementation of the Inception model used for FaceNet\n",
        "    \n",
        "    Arguments:\n",
        "    input_shape -- shape of the images of the dataset\n",
        "    Returns:\n",
        "    model -- a Model() instance in Keras\n",
        "    \"\"\"\n",
        "        \n",
        "    # Define the input as a tensor with shape input_shape\n",
        "    X_input = Input(input_shape)\n",
        "    Resize_layer = keras.layers.Resizing(96,96)\n",
        "    scale_layer  = keras.layers.Rescaling(scale=1./255)\n",
        "    X = Resize_layer(X_input)\n",
        "    X = scale_layer(X)\n",
        "\n",
        "    # Zero-Padding\n",
        "    X = ZeroPadding2D((3, 3))(X)\n",
        "    \n",
        "    # First Block\n",
        "    X = Conv2D(64, (7, 7), strides = (2, 2), name = 'conv1')(X)\n",
        "    X = BatchNormalization(axis = 1, name = 'bn1')(X)\n",
        "    X = Activation('relu')(X)\n",
        "    \n",
        "    # Zero-Padding + MAXPOOL\n",
        "    X = ZeroPadding2D((1, 1))(X)\n",
        "    X = MaxPooling2D((3, 3), strides = 2)(X)\n",
        "    \n",
        "    # Second Block\n",
        "    X = Conv2D(64, (1, 1), strides = (1, 1), name = 'conv2')(X)\n",
        "    X = BatchNormalization(axis = 1, epsilon=0.00001, name = 'bn2')(X)\n",
        "    X = Activation('relu')(X)\n",
        "    \n",
        "    # Zero-Padding + MAXPOOL\n",
        "    X = ZeroPadding2D((1, 1))(X)\n",
        "\n",
        "    # Second Block\n",
        "    X = Conv2D(192, (3, 3), strides = (1, 1), name = 'conv3')(X)\n",
        "    X = BatchNormalization(axis = 1, epsilon=0.00001, name = 'bn3')(X)\n",
        "    X = Activation('relu')(X)\n",
        "    \n",
        "    # Zero-Padding + MAXPOOL\n",
        "    X = ZeroPadding2D((1, 1))(X)\n",
        "    X = MaxPooling2D(pool_size = 3, strides = 2)(X)\n",
        "  \n",
        "    \n",
        "    # Inception 1: a/b/c\n",
        "    X = inception_block_1a(X)\n",
        "    X = inception_block_1b(X)\n",
        "    X = inception_block_1c(X)\n",
        "    \n",
        "    # Inception 2: a/b\n",
        "    X = inception_block_2a(X)\n",
        "    X = inception_block_2b(X)\n",
        "    \n",
        "    # Inception 3: a/b\n",
        "    X = inception_block_3a(X)\n",
        "    X = inception_block_3b(X)\n",
        "    \n",
        "    # Top layer\n",
        "    X = AveragePooling2D(pool_size=(3, 3), strides=(1, 1), data_format='channels_first')(X)\n",
        "    X = Flatten()(X)\n",
        "    X = Dense(128, name='dense_layer')(X)\n",
        "    \n",
        "    # L2 normalization\n",
        "    X = Lambda(lambda  x: K.l2_normalize(x,axis=1))(X)\n",
        "\n",
        "    # Create model instance\n",
        "    model = Model(inputs = X_input, outputs = X, name='model')\n",
        "        \n",
        "    return model"
      ],
      "metadata": {
        "id": "V8VRSH4Xwp7L"
      },
      "execution_count": 11,
      "outputs": []
    },
    {
      "cell_type": "code",
      "source": [
        "# https://keras.io/examples/vision/siamese_network/\n",
        "# https://keras.io/examples/vision/siamese_contrastive/\n",
        "# https://towardsdatascience.com/one-shot-learning-with-siamese-networks-using-keras-17f34e75bb3d\n",
        "tf.keras.backend.set_image_data_format('channels_first')\n",
        "\n",
        "input_shape = (1, 96,96)\n",
        "\n",
        "\n",
        "class DistanceLayer(keras.layers.Layer):\n",
        "  \"\"\"\n",
        "  This layer is responsible for computing the distance between the anchor\n",
        "  embedding and the positive embedding, and the anchor embedding and the\n",
        "  negative embedding.\n",
        "  \"\"\"\n",
        "\n",
        "  def __init__(self, **kwargs):\n",
        "    super().__init__(**kwargs)\n",
        "\n",
        "  def call(self, anchor, positive, negative):\n",
        "    ap_distance = tf.reduce_sum(tf.square(anchor - positive), -1)\n",
        "    an_distance = tf.reduce_sum(tf.square(anchor - negative), -1)\n",
        "    return (ap_distance, an_distance)\n",
        "\n",
        "\n",
        "\n",
        "embedding_model = model(input_shape = input_shape)\n",
        "embedding_model.summary()\n",
        "\n",
        "def Siamese_Network():\n",
        "  anchor_input = keras.layers.Input(name=\"anchor\", shape= input_shape)\n",
        "  positive_input = keras.layers.Input(name=\"positive\", shape=input_shape)\n",
        "  negative_input = keras.layers.Input(name=\"negative\", shape=input_shape)\n",
        "\n",
        "  distances = DistanceLayer()(\n",
        "      embedding_model(anchor_input),\n",
        "      embedding_model(positive_input),\n",
        "      embedding_model(negative_input),\n",
        "    )\n",
        "\n",
        "  return keras.Model(inputs=[anchor_input, positive_input, negative_input], outputs=distances, name='Siamese_Network')"
      ],
      "metadata": {
        "colab": {
          "base_uri": "https://localhost:8080/",
          "height": 380
        },
        "id": "A2USxsR8ZeL3",
        "outputId": "b02785bc-5ef5-4ffc-f65b-810ff392c361"
      },
      "execution_count": 12,
      "outputs": [
        {
          "output_type": "error",
          "ename": "ValueError",
          "evalue": "ignored",
          "traceback": [
            "\u001b[0;31m---------------------------------------------------------------------------\u001b[0m",
            "\u001b[0;31mValueError\u001b[0m                                Traceback (most recent call last)",
            "\u001b[0;32m<ipython-input-12-f4b5ee5473ff>\u001b[0m in \u001b[0;36m<module>\u001b[0;34m\u001b[0m\n\u001b[1;32m     24\u001b[0m \u001b[0;34m\u001b[0m\u001b[0m\n\u001b[1;32m     25\u001b[0m \u001b[0;34m\u001b[0m\u001b[0m\n\u001b[0;32m---> 26\u001b[0;31m \u001b[0membedding_model\u001b[0m \u001b[0;34m=\u001b[0m \u001b[0mmodel\u001b[0m\u001b[0;34m(\u001b[0m\u001b[0minput_shape\u001b[0m \u001b[0;34m=\u001b[0m \u001b[0minput_shape\u001b[0m\u001b[0;34m)\u001b[0m\u001b[0;34m\u001b[0m\u001b[0;34m\u001b[0m\u001b[0m\n\u001b[0m\u001b[1;32m     27\u001b[0m \u001b[0membedding_model\u001b[0m\u001b[0;34m.\u001b[0m\u001b[0msummary\u001b[0m\u001b[0;34m(\u001b[0m\u001b[0;34m)\u001b[0m\u001b[0;34m\u001b[0m\u001b[0;34m\u001b[0m\u001b[0m\n\u001b[1;32m     28\u001b[0m \u001b[0;34m\u001b[0m\u001b[0m\n",
            "\u001b[0;32m<ipython-input-11-13446370e5a6>\u001b[0m in \u001b[0;36mmodel\u001b[0;34m(input_shape)\u001b[0m\n\u001b[1;32m    252\u001b[0m \u001b[0;34m\u001b[0m\u001b[0m\n\u001b[1;32m    253\u001b[0m     \u001b[0;31m# Define the input as a tensor with shape input_shape\u001b[0m\u001b[0;34m\u001b[0m\u001b[0;34m\u001b[0m\u001b[0;34m\u001b[0m\u001b[0m\n\u001b[0;32m--> 254\u001b[0;31m     \u001b[0mX_input\u001b[0m \u001b[0;34m=\u001b[0m \u001b[0mInput\u001b[0m\u001b[0;34m(\u001b[0m\u001b[0;34m)\u001b[0m\u001b[0;34m\u001b[0m\u001b[0;34m\u001b[0m\u001b[0m\n\u001b[0m\u001b[1;32m    255\u001b[0m     \u001b[0mResize_layer\u001b[0m \u001b[0;34m=\u001b[0m \u001b[0mkeras\u001b[0m\u001b[0;34m.\u001b[0m\u001b[0mlayers\u001b[0m\u001b[0;34m.\u001b[0m\u001b[0mResizing\u001b[0m\u001b[0;34m(\u001b[0m\u001b[0;36m96\u001b[0m\u001b[0;34m,\u001b[0m\u001b[0;36m96\u001b[0m\u001b[0;34m)\u001b[0m\u001b[0;34m\u001b[0m\u001b[0;34m\u001b[0m\u001b[0m\n\u001b[1;32m    256\u001b[0m     \u001b[0mscale_layer\u001b[0m  \u001b[0;34m=\u001b[0m \u001b[0mkeras\u001b[0m\u001b[0;34m.\u001b[0m\u001b[0mlayers\u001b[0m\u001b[0;34m.\u001b[0m\u001b[0mRescaling\u001b[0m\u001b[0;34m(\u001b[0m\u001b[0mscale\u001b[0m\u001b[0;34m=\u001b[0m\u001b[0;36m1.\u001b[0m\u001b[0;34m/\u001b[0m\u001b[0;36m255\u001b[0m\u001b[0;34m)\u001b[0m\u001b[0;34m\u001b[0m\u001b[0;34m\u001b[0m\u001b[0m\n",
            "\u001b[0;32m/usr/local/lib/python3.8/dist-packages/keras/utils/traceback_utils.py\u001b[0m in \u001b[0;36merror_handler\u001b[0;34m(*args, **kwargs)\u001b[0m\n\u001b[1;32m     68\u001b[0m             \u001b[0;31m# To get the full stack trace, call:\u001b[0m\u001b[0;34m\u001b[0m\u001b[0;34m\u001b[0m\u001b[0;34m\u001b[0m\u001b[0m\n\u001b[1;32m     69\u001b[0m             \u001b[0;31m# `tf.debugging.disable_traceback_filtering()`\u001b[0m\u001b[0;34m\u001b[0m\u001b[0;34m\u001b[0m\u001b[0;34m\u001b[0m\u001b[0m\n\u001b[0;32m---> 70\u001b[0;31m             \u001b[0;32mraise\u001b[0m \u001b[0me\u001b[0m\u001b[0;34m.\u001b[0m\u001b[0mwith_traceback\u001b[0m\u001b[0;34m(\u001b[0m\u001b[0mfiltered_tb\u001b[0m\u001b[0;34m)\u001b[0m \u001b[0;32mfrom\u001b[0m \u001b[0;32mNone\u001b[0m\u001b[0;34m\u001b[0m\u001b[0;34m\u001b[0m\u001b[0m\n\u001b[0m\u001b[1;32m     71\u001b[0m         \u001b[0;32mfinally\u001b[0m\u001b[0;34m:\u001b[0m\u001b[0;34m\u001b[0m\u001b[0;34m\u001b[0m\u001b[0m\n\u001b[1;32m     72\u001b[0m             \u001b[0;32mdel\u001b[0m \u001b[0mfiltered_tb\u001b[0m\u001b[0;34m\u001b[0m\u001b[0;34m\u001b[0m\u001b[0m\n",
            "\u001b[0;32m/usr/local/lib/python3.8/dist-packages/keras/engine/input_layer.py\u001b[0m in \u001b[0;36mInput\u001b[0;34m(shape, batch_size, name, dtype, sparse, tensor, ragged, type_spec, **kwargs)\u001b[0m\n\u001b[1;32m    418\u001b[0m         \u001b[0;32mand\u001b[0m \u001b[0mtype_spec\u001b[0m \u001b[0;32mis\u001b[0m \u001b[0;32mNone\u001b[0m\u001b[0;34m\u001b[0m\u001b[0;34m\u001b[0m\u001b[0m\n\u001b[1;32m    419\u001b[0m     ):\n\u001b[0;32m--> 420\u001b[0;31m         raise ValueError(\n\u001b[0m\u001b[1;32m    421\u001b[0m             \u001b[0;34m\"Please provide to Input a `shape` \"\u001b[0m\u001b[0;34m\u001b[0m\u001b[0;34m\u001b[0m\u001b[0m\n\u001b[1;32m    422\u001b[0m             \u001b[0;34m\"or a `tensor` or a `type_spec` argument. Note that \"\u001b[0m\u001b[0;34m\u001b[0m\u001b[0;34m\u001b[0m\u001b[0m\n",
            "\u001b[0;31mValueError\u001b[0m: Please provide to Input a `shape` or a `tensor` or a `type_spec` argument. Note that `shape` does not include the batch dimension."
          ]
        }
      ]
    },
    {
      "cell_type": "code",
      "source": [
        "class SiameseModel(keras.models.Model):\n",
        "    \"\"\"The Siamese Network model with a custom training and testing loops.\n",
        "\n",
        "    Computes the triplet loss using the three embeddings produced by the\n",
        "    Siamese Network.\n",
        "\n",
        "    The triplet loss is defined as:\n",
        "       L(A, P, N) = max(‖f(A) - f(P)‖² - ‖f(A) - f(N)‖² + margin, 0)\n",
        "    \"\"\"\n",
        "\n",
        "    def __init__(self, siamese_network, margin=0.3):\n",
        "        super().__init__()\n",
        "        self.siamese_network = siamese_network\n",
        "        self.margin = margin\n",
        "        self.loss_tracker = keras.metrics.Mean(name=\"loss\")\n",
        "\n",
        "    def call(self, inputs):\n",
        "        return self.siamese_network(inputs)\n",
        "\n",
        "    def train_step(self, data):\n",
        "        # GradientTape is a context manager that records every operation that\n",
        "        # you do inside. We are using it here to compute the loss so we can get\n",
        "        # the gradients and apply them using the optimizer specified in\n",
        "        # `compile()`.\n",
        "        with tf.GradientTape() as tape:\n",
        "            loss = self._compute_loss(data)\n",
        "\n",
        "        # Storing the gradients of the loss function with respect to the\n",
        "        # weights/parameters.\n",
        "        gradients = tape.gradient(loss, self.siamese_network.trainable_weights)\n",
        "\n",
        "        # Applying the gradients on the model using the specified optimizer\n",
        "        self.optimizer.apply_gradients(\n",
        "            zip(gradients, self.siamese_network.trainable_weights)\n",
        "        )\n",
        "\n",
        "        # Let's update and return the training loss metric.\n",
        "        self.loss_tracker.update_state(loss)\n",
        "        return {\"loss\": self.loss_tracker.result()}\n",
        "\n",
        "    def test_step(self, data):\n",
        "        loss = self._compute_loss(data)\n",
        "\n",
        "        # Let's update and return the loss metric.\n",
        "        self.loss_tracker.update_state(loss)\n",
        "        return {\"loss\": self.loss_tracker.result()}\n",
        "\n",
        "    def _compute_loss(self, data):\n",
        "        # The output of the network is a tuple containing the distances\n",
        "        # between the anchor and the positive example, and the anchor and\n",
        "        # the negative example.\n",
        "        ap_distance, an_distance = self.siamese_network(data)\n",
        "\n",
        "        # Computing the Triplet Loss by subtracting both distances and\n",
        "        # making sure we don't get a negative value.\n",
        "        loss = ap_distance - an_distance\n",
        "        loss = tf.maximum(loss + self.margin, 0.0)\n",
        "        return loss\n",
        "\n",
        "    @property\n",
        "    def metrics(self):\n",
        "        # We need to list our metrics here so the `reset_states()` can be\n",
        "        # called automatically.\n",
        "        return [self.loss_tracker]"
      ],
      "metadata": {
        "id": "1sEtgf1BaNju"
      },
      "execution_count": 14,
      "outputs": []
    },
    {
      "cell_type": "markdown",
      "source": [
        "# Treinamento"
      ],
      "metadata": {
        "id": "WClf_ZErcm2A"
      }
    },
    {
      "cell_type": "code",
      "source": [
        "my_callbacks = [\n",
        "    tf.keras.callbacks.EarlyStopping(patience=10, monitor=\"val_loss\", restore_best_weights=True),\n",
        "  ]"
      ],
      "metadata": {
        "id": "Uqnl8V7qcotM"
      },
      "execution_count": 15,
      "outputs": []
    },
    {
      "cell_type": "code",
      "source": [
        "siamese_model = SiameseModel(Siamese_Network())\n",
        "siamese_model.compile(optimizer=keras.optimizers.Adam(0.0001), weighted_metrics=[\"loss\"])"
      ],
      "metadata": {
        "id": "k2-oYM7wctZw"
      },
      "execution_count": 16,
      "outputs": []
    },
    {
      "cell_type": "code",
      "source": [
        "historico = siamese_model.fit(train_ds, epochs=30, callbacks=my_callbacks, validation_data = val_ds)\n",
        "embedding_model.save(\"embedding_model.h5\")"
      ],
      "metadata": {
        "id": "VV8KVU_YdHGQ",
        "colab": {
          "base_uri": "https://localhost:8080/",
          "height": 641
        },
        "outputId": "eff0e1db-fbf9-44e9-dee5-54fa97ca3f0a"
      },
      "execution_count": 17,
      "outputs": [
        {
          "output_type": "stream",
          "name": "stdout",
          "text": [
            "Epoch 1/30\n"
          ]
        },
        {
          "output_type": "error",
          "ename": "ValueError",
          "evalue": "ignored",
          "traceback": [
            "\u001b[0;31m---------------------------------------------------------------------------\u001b[0m",
            "\u001b[0;31mValueError\u001b[0m                                Traceback (most recent call last)",
            "\u001b[0;32m<ipython-input-17-a3f7b4e4c476>\u001b[0m in \u001b[0;36m<module>\u001b[0;34m\u001b[0m\n\u001b[0;32m----> 1\u001b[0;31m \u001b[0mhistorico\u001b[0m \u001b[0;34m=\u001b[0m \u001b[0msiamese_model\u001b[0m\u001b[0;34m.\u001b[0m\u001b[0mfit\u001b[0m\u001b[0;34m(\u001b[0m\u001b[0mtrain_ds\u001b[0m\u001b[0;34m,\u001b[0m \u001b[0mepochs\u001b[0m\u001b[0;34m=\u001b[0m\u001b[0;36m30\u001b[0m\u001b[0;34m,\u001b[0m \u001b[0mcallbacks\u001b[0m\u001b[0;34m=\u001b[0m\u001b[0mmy_callbacks\u001b[0m\u001b[0;34m,\u001b[0m \u001b[0mvalidation_data\u001b[0m \u001b[0;34m=\u001b[0m \u001b[0mval_ds\u001b[0m\u001b[0;34m)\u001b[0m\u001b[0;34m\u001b[0m\u001b[0;34m\u001b[0m\u001b[0m\n\u001b[0m\u001b[1;32m      2\u001b[0m \u001b[0membedding_model\u001b[0m\u001b[0;34m.\u001b[0m\u001b[0msave\u001b[0m\u001b[0;34m(\u001b[0m\u001b[0;34m\"embedding_model.h5\"\u001b[0m\u001b[0;34m)\u001b[0m\u001b[0;34m\u001b[0m\u001b[0;34m\u001b[0m\u001b[0m\n",
            "\u001b[0;32m/usr/local/lib/python3.8/dist-packages/keras/utils/traceback_utils.py\u001b[0m in \u001b[0;36merror_handler\u001b[0;34m(*args, **kwargs)\u001b[0m\n\u001b[1;32m     68\u001b[0m             \u001b[0;31m# To get the full stack trace, call:\u001b[0m\u001b[0;34m\u001b[0m\u001b[0;34m\u001b[0m\u001b[0;34m\u001b[0m\u001b[0m\n\u001b[1;32m     69\u001b[0m             \u001b[0;31m# `tf.debugging.disable_traceback_filtering()`\u001b[0m\u001b[0;34m\u001b[0m\u001b[0;34m\u001b[0m\u001b[0;34m\u001b[0m\u001b[0m\n\u001b[0;32m---> 70\u001b[0;31m             \u001b[0;32mraise\u001b[0m \u001b[0me\u001b[0m\u001b[0;34m.\u001b[0m\u001b[0mwith_traceback\u001b[0m\u001b[0;34m(\u001b[0m\u001b[0mfiltered_tb\u001b[0m\u001b[0;34m)\u001b[0m \u001b[0;32mfrom\u001b[0m \u001b[0;32mNone\u001b[0m\u001b[0;34m\u001b[0m\u001b[0;34m\u001b[0m\u001b[0m\n\u001b[0m\u001b[1;32m     71\u001b[0m         \u001b[0;32mfinally\u001b[0m\u001b[0;34m:\u001b[0m\u001b[0;34m\u001b[0m\u001b[0;34m\u001b[0m\u001b[0m\n\u001b[1;32m     72\u001b[0m             \u001b[0;32mdel\u001b[0m \u001b[0mfiltered_tb\u001b[0m\u001b[0;34m\u001b[0m\u001b[0;34m\u001b[0m\u001b[0m\n",
            "\u001b[0;32m/usr/local/lib/python3.8/dist-packages/keras/engine/training.py\u001b[0m in \u001b[0;36mtf__train_function\u001b[0;34m(iterator)\u001b[0m\n\u001b[1;32m     13\u001b[0m                 \u001b[0;32mtry\u001b[0m\u001b[0;34m:\u001b[0m\u001b[0;34m\u001b[0m\u001b[0;34m\u001b[0m\u001b[0m\n\u001b[1;32m     14\u001b[0m                     \u001b[0mdo_return\u001b[0m \u001b[0;34m=\u001b[0m \u001b[0;32mTrue\u001b[0m\u001b[0;34m\u001b[0m\u001b[0;34m\u001b[0m\u001b[0m\n\u001b[0;32m---> 15\u001b[0;31m                     \u001b[0mretval_\u001b[0m \u001b[0;34m=\u001b[0m \u001b[0mag__\u001b[0m\u001b[0;34m.\u001b[0m\u001b[0mconverted_call\u001b[0m\u001b[0;34m(\u001b[0m\u001b[0mag__\u001b[0m\u001b[0;34m.\u001b[0m\u001b[0mld\u001b[0m\u001b[0;34m(\u001b[0m\u001b[0mstep_function\u001b[0m\u001b[0;34m)\u001b[0m\u001b[0;34m,\u001b[0m \u001b[0;34m(\u001b[0m\u001b[0mag__\u001b[0m\u001b[0;34m.\u001b[0m\u001b[0mld\u001b[0m\u001b[0;34m(\u001b[0m\u001b[0mself\u001b[0m\u001b[0;34m)\u001b[0m\u001b[0;34m,\u001b[0m \u001b[0mag__\u001b[0m\u001b[0;34m.\u001b[0m\u001b[0mld\u001b[0m\u001b[0;34m(\u001b[0m\u001b[0miterator\u001b[0m\u001b[0;34m)\u001b[0m\u001b[0;34m)\u001b[0m\u001b[0;34m,\u001b[0m \u001b[0;32mNone\u001b[0m\u001b[0;34m,\u001b[0m \u001b[0mfscope\u001b[0m\u001b[0;34m)\u001b[0m\u001b[0;34m\u001b[0m\u001b[0;34m\u001b[0m\u001b[0m\n\u001b[0m\u001b[1;32m     16\u001b[0m                 \u001b[0;32mexcept\u001b[0m\u001b[0;34m:\u001b[0m\u001b[0;34m\u001b[0m\u001b[0;34m\u001b[0m\u001b[0m\n\u001b[1;32m     17\u001b[0m                     \u001b[0mdo_return\u001b[0m \u001b[0;34m=\u001b[0m \u001b[0;32mFalse\u001b[0m\u001b[0;34m\u001b[0m\u001b[0;34m\u001b[0m\u001b[0m\n",
            "\u001b[0;32m<ipython-input-14-acf13519c647>\u001b[0m in \u001b[0;36mtrain_step\u001b[0;34m(self, data)\u001b[0m\n\u001b[1;32m     24\u001b[0m         \u001b[0;31m# `compile()`.\u001b[0m\u001b[0;34m\u001b[0m\u001b[0;34m\u001b[0m\u001b[0;34m\u001b[0m\u001b[0m\n\u001b[1;32m     25\u001b[0m         \u001b[0;32mwith\u001b[0m \u001b[0mtf\u001b[0m\u001b[0;34m.\u001b[0m\u001b[0mGradientTape\u001b[0m\u001b[0;34m(\u001b[0m\u001b[0;34m)\u001b[0m \u001b[0;32mas\u001b[0m \u001b[0mtape\u001b[0m\u001b[0;34m:\u001b[0m\u001b[0;34m\u001b[0m\u001b[0;34m\u001b[0m\u001b[0m\n\u001b[0;32m---> 26\u001b[0;31m             \u001b[0mloss\u001b[0m \u001b[0;34m=\u001b[0m \u001b[0mself\u001b[0m\u001b[0;34m.\u001b[0m\u001b[0m_compute_loss\u001b[0m\u001b[0;34m(\u001b[0m\u001b[0mdata\u001b[0m\u001b[0;34m)\u001b[0m\u001b[0;34m\u001b[0m\u001b[0;34m\u001b[0m\u001b[0m\n\u001b[0m\u001b[1;32m     27\u001b[0m \u001b[0;34m\u001b[0m\u001b[0m\n\u001b[1;32m     28\u001b[0m         \u001b[0;31m# Storing the gradients of the loss function with respect to the\u001b[0m\u001b[0;34m\u001b[0m\u001b[0;34m\u001b[0m\u001b[0;34m\u001b[0m\u001b[0m\n",
            "\u001b[0;32m<ipython-input-14-acf13519c647>\u001b[0m in \u001b[0;36m_compute_loss\u001b[0;34m(self, data)\u001b[0m\n\u001b[1;32m     50\u001b[0m         \u001b[0;31m# between the anchor and the positive example, and the anchor and\u001b[0m\u001b[0;34m\u001b[0m\u001b[0;34m\u001b[0m\u001b[0;34m\u001b[0m\u001b[0m\n\u001b[1;32m     51\u001b[0m         \u001b[0;31m# the negative example.\u001b[0m\u001b[0;34m\u001b[0m\u001b[0;34m\u001b[0m\u001b[0;34m\u001b[0m\u001b[0m\n\u001b[0;32m---> 52\u001b[0;31m         \u001b[0map_distance\u001b[0m\u001b[0;34m,\u001b[0m \u001b[0man_distance\u001b[0m \u001b[0;34m=\u001b[0m \u001b[0mself\u001b[0m\u001b[0;34m.\u001b[0m\u001b[0msiamese_network\u001b[0m\u001b[0;34m(\u001b[0m\u001b[0mdata\u001b[0m\u001b[0;34m)\u001b[0m\u001b[0;34m\u001b[0m\u001b[0;34m\u001b[0m\u001b[0m\n\u001b[0m\u001b[1;32m     53\u001b[0m \u001b[0;34m\u001b[0m\u001b[0m\n\u001b[1;32m     54\u001b[0m         \u001b[0;31m# Computing the Triplet Loss by subtracting both distances and\u001b[0m\u001b[0;34m\u001b[0m\u001b[0;34m\u001b[0m\u001b[0;34m\u001b[0m\u001b[0m\n",
            "\u001b[0;31mValueError\u001b[0m: in user code:\n\n    File \"/usr/local/lib/python3.8/dist-packages/keras/engine/training.py\", line 1249, in train_function  *\n        return step_function(self, iterator)\n    File \"/usr/local/lib/python3.8/dist-packages/keras/engine/training.py\", line 1233, in step_function  **\n        outputs = model.distribute_strategy.run(run_step, args=(data,))\n    File \"/usr/local/lib/python3.8/dist-packages/keras/engine/training.py\", line 1222, in run_step  **\n        outputs = model.train_step(data)\n    File \"<ipython-input-14-acf13519c647>\", line 26, in train_step\n        loss = self._compute_loss(data)\n    File \"<ipython-input-14-acf13519c647>\", line 52, in _compute_loss\n        ap_distance, an_distance = self.siamese_network(data)\n    File \"/usr/local/lib/python3.8/dist-packages/keras/utils/traceback_utils.py\", line 70, in error_handler\n        raise e.with_traceback(filtered_tb) from None\n    File \"/usr/local/lib/python3.8/dist-packages/keras/engine/input_spec.py\", line 295, in assert_input_compatibility\n        raise ValueError(\n\n    ValueError: Input 0 of layer \"Siamese_Network\" is incompatible with the layer: expected shape=(None, 1, 96, 96), found shape=(None, 1, 28, 28)\n"
          ]
        }
      ]
    },
    {
      "cell_type": "code",
      "source": [
        "def diferenca(historico):\n",
        "  accuracy = historico.history['loss'] \n",
        "  val_accuracy = historico.history['val_loss']\n",
        "  vetor_diferenca = []\n",
        "  for i in range(len(accuracy)):\n",
        "    diferenca = abs(accuracy[i] - val_accuracy[i])\n",
        "    vetor_diferenca.append(diferenca)\n",
        "\n",
        "  return vetor_diferenca\n",
        "\n",
        "  \n",
        "def grafico(historico, nome): \n",
        "\n",
        "  plt.subplots(figsize=(25, 5)) \n",
        "  # Grafico 1: Loss\n",
        "  plt.subplot(1,2,1)\n",
        "  plt.title( nome + ': Loss')\n",
        "  plt.xlabel('Epoch')\n",
        "  plt.ylabel('Cross Entropy')\n",
        "  plt.grid()\n",
        "  plt.plot(historico.history['loss'], label='Train Loss ', color = 'blue')\n",
        "  plt.plot(historico.history['val_loss'], label='Val Loss ', color = 'red')\n",
        "  plt.legend()\n",
        "\n",
        "\n",
        "  # Grafico 3: Diferença de Loss\n",
        "  vetor_diferenca = diferenca(historico)\n",
        "\n",
        "  plt.subplot(1,2,2)\n",
        "  plt.title(nome + \": Variação do Loss\")\n",
        "  plt.xlabel(\"Epocas\")\n",
        "  plt.ylabel(\"Diferença\")\n",
        "  plt.grid()\n",
        "  plt.plot(vetor_diferenca, color = 'red', label = 'Variação do Loss')\n",
        "  plt.legend()\n",
        "\n",
        "  nome_save = os.path.join(\"/content\", nome + \".jpg\")\n",
        "  plt.savefig(nome_save, dpi=400,  transparent=False)\n",
        "  plt.show()\n",
        "\n",
        "\n",
        "grafico(historico, \"Rede Siamesa\")"
      ],
      "metadata": {
        "id": "GHhPSbOvdzcF"
      },
      "execution_count": null,
      "outputs": []
    },
    {
      "cell_type": "markdown",
      "source": [
        "# Teste"
      ],
      "metadata": {
        "id": "DiFX1xZUagCz"
      }
    },
    {
      "cell_type": "markdown",
      "source": [
        "## Funções"
      ],
      "metadata": {
        "id": "e9j7zvTTvfXa"
      }
    },
    {
      "cell_type": "code",
      "source": [
        "(x_train_origin, y_train_origin), (x_test_origin, y_test_origin) = keras.datasets.mnist.load_data()"
      ],
      "metadata": {
        "id": "J1QsxJa1oTOR",
        "colab": {
          "base_uri": "https://localhost:8080/"
        },
        "outputId": "26214ec4-5be2-4ef7-ee7a-7a05d96173b9"
      },
      "execution_count": null,
      "outputs": [
        {
          "output_type": "stream",
          "name": "stdout",
          "text": [
            "Downloading data from https://storage.googleapis.com/tensorflow/tf-keras-datasets/mnist.npz\n",
            "11490434/11490434 [==============================] - 2s 0us/step\n"
          ]
        }
      ]
    },
    {
      "cell_type": "code",
      "source": [
        "def visualize(x_test_origin):\n",
        "    \"\"\"Visualize a few triplets from the supplied batches.\"\"\"\n",
        "    print(\"Total de imagens: {0}  Resolução: {1}x{2}\".format(x_test_origin.shape[0], x_test_origin.shape[1], x_test_origin.shape[2]))\n",
        "    def show(ax, image):\n",
        "        ax.imshow(image, cmap='gray')\n",
        "        ax.get_xaxis().set_visible(False)\n",
        "        ax.get_yaxis().set_visible(False)\n",
        "\n",
        "    fig = plt.figure(figsize=(9, 9))\n",
        "\n",
        "    axs = fig.subplots(3, 3)\n",
        "    for i in range(3):\n",
        "        show(axs[i, 0], x_test_origin[np.random.randint(0, 1000)])\n",
        "        show(axs[i, 1], x_test_origin[np.random.randint(0, 1000)])\n",
        "        show(axs[i, 2], x_test_origin[np.random.randint(0, 1000)])"
      ],
      "metadata": {
        "id": "Fp70tJqegdl3"
      },
      "execution_count": null,
      "outputs": []
    },
    {
      "cell_type": "code",
      "source": [
        "nome = [\"zero\", \"um\", \"dois\", \"tres\", \"quatro\", \"cinco\", \"seis\", \"sete\", \"oito\", \"nove\"]\n",
        "\n",
        "def array_to_imagem(image, novo_nome):\n",
        "  novo_nome = \"/content/imagens/\" + novo_nome + \".jpg\"\n",
        "  cv2.imwrite(novo_nome, image)\n",
        "\n",
        "def salvar_ancoras(x_test_origin, y_test_origin):\n",
        "  os.mkdir(\"imagens\")\n",
        "  \n",
        "\n",
        "  indice = 0\n",
        "  i = 0\n",
        "  while indice < 10:\n",
        "    if y_test_origin[i] == indice:\n",
        "      array_to_imagem(x_test_origin[i], nome[indice])\n",
        "      indice += 1\n",
        "    i+= 1"
      ],
      "metadata": {
        "id": "QRXcbFLscx0s"
      },
      "execution_count": null,
      "outputs": []
    },
    {
      "cell_type": "code",
      "source": [
        "def ler_imagem(local):\n",
        "  return cv2.imread(local, 0)"
      ],
      "metadata": {
        "id": "N-RVQJqf1OXv"
      },
      "execution_count": null,
      "outputs": []
    },
    {
      "cell_type": "code",
      "source": [
        "def prepare_database(model):\n",
        "  database = {}\n",
        "  local = \"/content/imagens\"\n",
        "  for imagem in os.listdir(local):\n",
        "    local_imagem = os.path.join(local, imagem)\n",
        "    img = ler_imagem(local_imagem)\n",
        "    identity = os.path.splitext(os.path.basename(local_imagem))[0]\n",
        "    database[identity] = img_to_encoding(img, model)\n",
        "  \n",
        "  return database"
      ],
      "metadata": {
        "id": "YA2FBid_GzDS"
      },
      "execution_count": null,
      "outputs": []
    },
    {
      "cell_type": "code",
      "source": [
        "def recognise_class(image, database, model):\n",
        "    encoding = img_to_encoding(image, model)\n",
        "    identity = None\n",
        "    min_dist = 100\n",
        "    for (name, db_enc) in database.items():\n",
        "        \n",
        "        dist = np.linalg.norm(db_enc - encoding)\n",
        "        #print('distance for %s is %s' %(name, dist))\n",
        "        if dist < min_dist:\n",
        "            min_dist = dist\n",
        "            identity = name\n",
        "    \n",
        "    if min_dist > 0.6:\n",
        "        return \"can't recognise.\"\n",
        "    else:\n",
        "        return str(identity)"
      ],
      "metadata": {
        "id": "iNOBlli0w9Y0"
      },
      "execution_count": null,
      "outputs": []
    },
    {
      "cell_type": "code",
      "source": [
        "def img_to_encoding(img, model):\n",
        " # img = np.resize(image,(size,size))\n",
        "  img = np.array([img]) \n",
        "  img = img.reshape(img.shape[0], 1, size, size)\n",
        "\n",
        "  embedding = model.predict(img, verbose=0)\n",
        "  \n",
        "  return embedding"
      ],
      "metadata": {
        "id": "yEPUhahFxEkE"
      },
      "execution_count": null,
      "outputs": []
    },
    {
      "cell_type": "code",
      "source": [
        "def metricas(saida):\n",
        "  certo = 0\n",
        "  errado = 0\n",
        "  incerto = 0\n",
        "  \n",
        "  for resposta in saida:\n",
        "    if resposta[1] == nome[resposta[0]]:\n",
        "      certo += 1\n",
        "    else:\n",
        "      if resposta[1] == \"can't recognise.\":\n",
        "        incerto += 1\n",
        "      else:\n",
        "        if resposta[1] != nome[resposta[0]]:\n",
        "          errado += 1\n",
        "  print()\n",
        "  print(\"Total de imagem: {0}    Certas: {1}   Erradas: {2}   Incertas: {3}\".format(len(saida), certo, errado, incerto))"
      ],
      "metadata": {
        "id": "u-3Xo4oqUHAf"
      },
      "execution_count": null,
      "outputs": []
    },
    {
      "cell_type": "markdown",
      "source": [
        "## Testes"
      ],
      "metadata": {
        "id": "p8Lj7oyPvj4v"
      }
    },
    {
      "cell_type": "code",
      "source": [
        "# Permite visualizar algumas imagens do conjunto de teste\n",
        "visualize(x_test_origin)"
      ],
      "metadata": {
        "colab": {
          "base_uri": "https://localhost:8080/",
          "height": 541
        },
        "id": "hBghuIHbvq8E",
        "outputId": "d338bb5c-0e01-4470-bf86-2f5ab4c77deb"
      },
      "execution_count": null,
      "outputs": [
        {
          "output_type": "stream",
          "name": "stdout",
          "text": [
            "Total de imagens: 10000  Resolução: 28x28\n"
          ]
        },
        {
          "output_type": "display_data",
          "data": {
            "text/plain": [
              "<Figure size 648x648 with 9 Axes>"
            ],
            "image/png": "[encoded data removed]"
          },
          "metadata": {
            "needs_background": "light"
          }
        }
      ]
    },
    {
      "cell_type": "code",
      "source": [
        "# salvar uma imagem de cada classe para ser a ancora\n",
        "salvar_ancoras(x_test_origin, y_test_origin)"
      ],
      "metadata": {
        "id": "0Q2KrYtawHVI"
      },
      "execution_count": null,
      "outputs": []
    },
    {
      "cell_type": "markdown",
      "source": [
        "Para classificar um imagem como pertencente a uma das classe, o processo é dividido em 4 fasses: \\\n",
        "\n",
        "1 - uma imagem representando cada classe é codificada. \\\n",
        "\n",
        "2 - a imagem que sera classifica é codificada. \\\n",
        "\n",
        "3 - verifica a distancia da imagem codificada na fasse 2 com cada uma das imagens codificadas na fasse 1. \\\n",
        "\n",
        "4 - a imagem sera classificada de acordo com a menor distancia encontrada na fasse 3.\n"
      ],
      "metadata": {
        "id": "jtwzdkX_uFMv"
      }
    },
    {
      "cell_type": "code",
      "source": [
        "embedding_model = tf.keras.models.load_model(\"/content/embedding_model.h5\")"
      ],
      "metadata": {
        "id": "GX_8g0g9y4no",
        "colab": {
          "base_uri": "https://localhost:8080/"
        },
        "outputId": "7a2be963-aaef-4545-e932-69326da71625"
      },
      "execution_count": null,
      "outputs": [
        {
          "output_type": "stream",
          "name": "stderr",
          "text": [
            "WARNING:tensorflow:No training configuration found in the save file, so the model was *not* compiled. Compile it manually.\n"
          ]
        }
      ]
    },
    {
      "cell_type": "code",
      "source": [
        "database = prepare_database(embedding_model)\n",
        "saida = []\n",
        "\n",
        "for i in range(15): # o maximo é 10000\n",
        "  classe = recognise_class(x_test_origin[i], database, embedding_model)\n",
        "  print(\"id {2}:: Classe Real: {0} >> Classe Prevista: {1}\".format(y_test_origin[i], classe, i))\n",
        "  saida.append([y_test_origin[i], classe])\n",
        "\n",
        "metricas(saida) "
      ],
      "metadata": {
        "id": "PBZHOZ98vGPF"
      },
      "execution_count": null,
      "outputs": []
    },
    {
      "cell_type": "code",
      "source": [
        "imagens = cv2.imread(\"/content/temp.jpg\", 0)\n",
        "\n",
        "database = prepare_database(embedding_model)\n",
        "\n",
        "classe = recognise_class(imagens, database, embedding_model)\n",
        "print(classe)"
      ],
      "metadata": {
        "id": "aYo0dzIkuNQi"
      },
      "execution_count": null,
      "outputs": []
    },
    {
      "cell_type": "code",
      "source": [
        "# verifica as imagem que deram errado\n",
        "cv2.imwrite(\"teste.jpg\",x_test_origin[7])"
      ],
      "metadata": {
        "id": "kfU0SIo0XY2x"
      },
      "execution_count": null,
      "outputs": []
    }
  ]
}
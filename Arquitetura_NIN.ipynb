{
  "nbformat": 4,
  "nbformat_minor": 0,
  "metadata": {
    "colab": {
      "provenance": [],
      "collapsed_sections": [
        "M1cQVQyr6aU4",
        "1MhVLaXO_dqc",
        "dlWAUyDLWI0e"
      ],
      "authorship_tag": "ABX9TyPoEs87DUp+52FhUXahHwmL",
      "include_colab_link": true
    },
    "kernelspec": {
      "name": "python3",
      "display_name": "Python 3"
    },
    "language_info": {
      "name": "python"
    },
    "gpuClass": "standard",
    "accelerator": "GPU",
    "widgets": {
      "application/vnd.jupyter.widget-state+json": {
        "0cb1dcfb272d46b6a324555a5b687eea": {
          "model_module": "@jupyter-widgets/controls",
          "model_name": "HBoxModel",
          "model_module_version": "1.5.0",
          "state": {
            "_dom_classes": [],
            "_model_module": "@jupyter-widgets/controls",
            "_model_module_version": "1.5.0",
            "_model_name": "HBoxModel",
            "_view_count": null,
            "_view_module": "@jupyter-widgets/controls",
            "_view_module_version": "1.5.0",
            "_view_name": "HBoxView",
            "box_style": "",
            "children": [
              "IPY_MODEL_35b68a6682c94e7eb09bd918d56183d3",
              "IPY_MODEL_898c4541209e4d19bce200d8df483eff",
              "IPY_MODEL_61d55e89aa634d28af7b6a9af57f173b"
            ],
            "layout": "IPY_MODEL_1600de6d196a4b3dafd74216c5cc6f5d"
          }
        },
        "35b68a6682c94e7eb09bd918d56183d3": {
          "model_module": "@jupyter-widgets/controls",
          "model_name": "HTMLModel",
          "model_module_version": "1.5.0",
          "state": {
            "_dom_classes": [],
            "_model_module": "@jupyter-widgets/controls",
            "_model_module_version": "1.5.0",
            "_model_name": "HTMLModel",
            "_view_count": null,
            "_view_module": "@jupyter-widgets/controls",
            "_view_module_version": "1.5.0",
            "_view_name": "HTMLView",
            "description": "",
            "description_tooltip": null,
            "layout": "IPY_MODEL_c849b37e91544f6f9223e8a49c57d925",
            "placeholder": "​",
            "style": "IPY_MODEL_cc6deba9736a42058fc2eb474035cbd4",
            "value": "Dl Completed...: 100%"
          }
        },
        "898c4541209e4d19bce200d8df483eff": {
          "model_module": "@jupyter-widgets/controls",
          "model_name": "FloatProgressModel",
          "model_module_version": "1.5.0",
          "state": {
            "_dom_classes": [],
            "_model_module": "@jupyter-widgets/controls",
            "_model_module_version": "1.5.0",
            "_model_name": "FloatProgressModel",
            "_view_count": null,
            "_view_module": "@jupyter-widgets/controls",
            "_view_module_version": "1.5.0",
            "_view_name": "ProgressView",
            "bar_style": "success",
            "description": "",
            "description_tooltip": null,
            "layout": "IPY_MODEL_590ba7db7af041479822c35d31761d37",
            "max": 5,
            "min": 0,
            "orientation": "horizontal",
            "style": "IPY_MODEL_ce7b8f1fa6784374b3adfd9e08cf32b7",
            "value": 5
          }
        },
        "61d55e89aa634d28af7b6a9af57f173b": {
          "model_module": "@jupyter-widgets/controls",
          "model_name": "HTMLModel",
          "model_module_version": "1.5.0",
          "state": {
            "_dom_classes": [],
            "_model_module": "@jupyter-widgets/controls",
            "_model_module_version": "1.5.0",
            "_model_name": "HTMLModel",
            "_view_count": null,
            "_view_module": "@jupyter-widgets/controls",
            "_view_module_version": "1.5.0",
            "_view_name": "HTMLView",
            "description": "",
            "description_tooltip": null,
            "layout": "IPY_MODEL_fd7e24fd5115429481ac601d19c4529d",
            "placeholder": "​",
            "style": "IPY_MODEL_61333ab7831c40f08bb0f1f4ca15c730",
            "value": " 5/5 [00:03&lt;00:00,  1.41 file/s]"
          }
        },
        "1600de6d196a4b3dafd74216c5cc6f5d": {
          "model_module": "@jupyter-widgets/base",
          "model_name": "LayoutModel",
          "model_module_version": "1.2.0",
          "state": {
            "_model_module": "@jupyter-widgets/base",
            "_model_module_version": "1.2.0",
            "_model_name": "LayoutModel",
            "_view_count": null,
            "_view_module": "@jupyter-widgets/base",
            "_view_module_version": "1.2.0",
            "_view_name": "LayoutView",
            "align_content": null,
            "align_items": null,
            "align_self": null,
            "border": null,
            "bottom": null,
            "display": null,
            "flex": null,
            "flex_flow": null,
            "grid_area": null,
            "grid_auto_columns": null,
            "grid_auto_flow": null,
            "grid_auto_rows": null,
            "grid_column": null,
            "grid_gap": null,
            "grid_row": null,
            "grid_template_areas": null,
            "grid_template_columns": null,
            "grid_template_rows": null,
            "height": null,
            "justify_content": null,
            "justify_items": null,
            "left": null,
            "margin": null,
            "max_height": null,
            "max_width": null,
            "min_height": null,
            "min_width": null,
            "object_fit": null,
            "object_position": null,
            "order": null,
            "overflow": null,
            "overflow_x": null,
            "overflow_y": null,
            "padding": null,
            "right": null,
            "top": null,
            "visibility": null,
            "width": null
          }
        },
        "c849b37e91544f6f9223e8a49c57d925": {
          "model_module": "@jupyter-widgets/base",
          "model_name": "LayoutModel",
          "model_module_version": "1.2.0",
          "state": {
            "_model_module": "@jupyter-widgets/base",
            "_model_module_version": "1.2.0",
            "_model_name": "LayoutModel",
            "_view_count": null,
            "_view_module": "@jupyter-widgets/base",
            "_view_module_version": "1.2.0",
            "_view_name": "LayoutView",
            "align_content": null,
            "align_items": null,
            "align_self": null,
            "border": null,
            "bottom": null,
            "display": null,
            "flex": null,
            "flex_flow": null,
            "grid_area": null,
            "grid_auto_columns": null,
            "grid_auto_flow": null,
            "grid_auto_rows": null,
            "grid_column": null,
            "grid_gap": null,
            "grid_row": null,
            "grid_template_areas": null,
            "grid_template_columns": null,
            "grid_template_rows": null,
            "height": null,
            "justify_content": null,
            "justify_items": null,
            "left": null,
            "margin": null,
            "max_height": null,
            "max_width": null,
            "min_height": null,
            "min_width": null,
            "object_fit": null,
            "object_position": null,
            "order": null,
            "overflow": null,
            "overflow_x": null,
            "overflow_y": null,
            "padding": null,
            "right": null,
            "top": null,
            "visibility": null,
            "width": null
          }
        },
        "cc6deba9736a42058fc2eb474035cbd4": {
          "model_module": "@jupyter-widgets/controls",
          "model_name": "DescriptionStyleModel",
          "model_module_version": "1.5.0",
          "state": {
            "_model_module": "@jupyter-widgets/controls",
            "_model_module_version": "1.5.0",
            "_model_name": "DescriptionStyleModel",
            "_view_count": null,
            "_view_module": "@jupyter-widgets/base",
            "_view_module_version": "1.2.0",
            "_view_name": "StyleView",
            "description_width": ""
          }
        },
        "590ba7db7af041479822c35d31761d37": {
          "model_module": "@jupyter-widgets/base",
          "model_name": "LayoutModel",
          "model_module_version": "1.2.0",
          "state": {
            "_model_module": "@jupyter-widgets/base",
            "_model_module_version": "1.2.0",
            "_model_name": "LayoutModel",
            "_view_count": null,
            "_view_module": "@jupyter-widgets/base",
            "_view_module_version": "1.2.0",
            "_view_name": "LayoutView",
            "align_content": null,
            "align_items": null,
            "align_self": null,
            "border": null,
            "bottom": null,
            "display": null,
            "flex": null,
            "flex_flow": null,
            "grid_area": null,
            "grid_auto_columns": null,
            "grid_auto_flow": null,
            "grid_auto_rows": null,
            "grid_column": null,
            "grid_gap": null,
            "grid_row": null,
            "grid_template_areas": null,
            "grid_template_columns": null,
            "grid_template_rows": null,
            "height": null,
            "justify_content": null,
            "justify_items": null,
            "left": null,
            "margin": null,
            "max_height": null,
            "max_width": null,
            "min_height": null,
            "min_width": null,
            "object_fit": null,
            "object_position": null,
            "order": null,
            "overflow": null,
            "overflow_x": null,
            "overflow_y": null,
            "padding": null,
            "right": null,
            "top": null,
            "visibility": null,
            "width": null
          }
        },
        "ce7b8f1fa6784374b3adfd9e08cf32b7": {
          "model_module": "@jupyter-widgets/controls",
          "model_name": "ProgressStyleModel",
          "model_module_version": "1.5.0",
          "state": {
            "_model_module": "@jupyter-widgets/controls",
            "_model_module_version": "1.5.0",
            "_model_name": "ProgressStyleModel",
            "_view_count": null,
            "_view_module": "@jupyter-widgets/base",
            "_view_module_version": "1.2.0",
            "_view_name": "StyleView",
            "bar_color": null,
            "description_width": ""
          }
        },
        "fd7e24fd5115429481ac601d19c4529d": {
          "model_module": "@jupyter-widgets/base",
          "model_name": "LayoutModel",
          "model_module_version": "1.2.0",
          "state": {
            "_model_module": "@jupyter-widgets/base",
            "_model_module_version": "1.2.0",
            "_model_name": "LayoutModel",
            "_view_count": null,
            "_view_module": "@jupyter-widgets/base",
            "_view_module_version": "1.2.0",
            "_view_name": "LayoutView",
            "align_content": null,
            "align_items": null,
            "align_self": null,
            "border": null,
            "bottom": null,
            "display": null,
            "flex": null,
            "flex_flow": null,
            "grid_area": null,
            "grid_auto_columns": null,
            "grid_auto_flow": null,
            "grid_auto_rows": null,
            "grid_column": null,
            "grid_gap": null,
            "grid_row": null,
            "grid_template_areas": null,
            "grid_template_columns": null,
            "grid_template_rows": null,
            "height": null,
            "justify_content": null,
            "justify_items": null,
            "left": null,
            "margin": null,
            "max_height": null,
            "max_width": null,
            "min_height": null,
            "min_width": null,
            "object_fit": null,
            "object_position": null,
            "order": null,
            "overflow": null,
            "overflow_x": null,
            "overflow_y": null,
            "padding": null,
            "right": null,
            "top": null,
            "visibility": null,
            "width": null
          }
        },
        "61333ab7831c40f08bb0f1f4ca15c730": {
          "model_module": "@jupyter-widgets/controls",
          "model_name": "DescriptionStyleModel",
          "model_module_version": "1.5.0",
          "state": {
            "_model_module": "@jupyter-widgets/controls",
            "_model_module_version": "1.5.0",
            "_model_name": "DescriptionStyleModel",
            "_view_count": null,
            "_view_module": "@jupyter-widgets/base",
            "_view_module_version": "1.2.0",
            "_view_name": "StyleView",
            "description_width": ""
          }
        }
      }
    }
  },
  "cells": [
    {
      "cell_type": "markdown",
      "metadata": {
        "id": "view-in-github",
        "colab_type": "text"
      },
      "source": [
        "<a href=\"https://colab.research.google.com/github/MarcosVeniciu/Rede-Neural-Siamesa/blob/main/Arquitetura_NIN.ipynb\" target=\"_parent\"><img src=\"https://colab.research.google.com/assets/colab-badge.svg\" alt=\"Open In Colab\"/></a>"
      ]
    },
    {
      "cell_type": "code",
      "execution_count": null,
      "metadata": {
        "id": "-Jbi3j5rfkE2"
      },
      "outputs": [],
      "source": [
        "# Referencias principais\n",
        "## Artigo: https://arxiv.org/pdf/1503.03832.pdf\n",
        "## Código: https://medium.com/@crimy/one-shot-learning-siamese-networks-and-triplet-loss-with-keras-2885ed022352\n",
        "## Gerar Triplets: https://omoindrot.github.io/triplet-loss\n",
        "## Keras triple loss exemplo: https://www.tensorflow.org/addons/tutorials/losses_triplet?hl=pt-br#semihard_online_learning\n",
        "#\n",
        "# Referências\n",
        "## Função de TripletHardLoss: https://www.tensorflow.org/addons/api_docs/python/tfa/losses/TripletHardLoss\n",
        "## Função de TripletSemiHardLoss: https://www.tensorflow.org/addons/api_docs/python/tfa/losses/TripletSemiHardLoss\n",
        "## Triple loss keras:  https://keras.io/examples/vision/siamese_network/ \n",
        "## Keras fit e fit_generator: https://acervolima.com/keras-fit-e-keras-fit_generator/\n",
        "## keras fit, fit_generator e train_on_batch: https://studymachinelearning-com.translate.goog/keras-fit-fit_generator-train_on_batch/?_x_tr_sl=en&_x_tr_tl=pt&_x_tr_hl=pt-BR&_x_tr_pto=sc\n",
        "## Código usando o fit_generator: https://github.com/Ekeany/Siamese-Network-with-Triplet-Loss/blob/master/MachinePart1.ipynb\n",
        "## explicação axis=-1: https://stackoverflow-com.translate.goog/questions/47435526/what-is-the-meaning-of-axis-1-in-keras-argmax?_x_tr_sl=en&_x_tr_tl=pt&_x_tr_hl=pt-BR&_x_tr_pto=sc\n",
        "## explicação max pooling: https://www.quora.com/What-is-Max-Pooling-2D"
      ]
    },
    {
      "cell_type": "code",
      "source": [
        "!pip install -q -U tensorflow-addons"
      ],
      "metadata": {
        "colab": {
          "base_uri": "https://localhost:8080/"
        },
        "id": "xpigSnf40jOP",
        "outputId": "5bd0a34c-abca-44e8-83f0-34509f222fe6"
      },
      "execution_count": 1,
      "outputs": [
        {
          "output_type": "stream",
          "name": "stdout",
          "text": [
            "\u001b[?25l     \u001b[90m━━━━━━━━━━━━━━━━━━━━━━━━━━━━━━━━━━━━━━━━\u001b[0m \u001b[32m0.0/1.1 MB\u001b[0m \u001b[31m?\u001b[0m eta \u001b[36m-:--:--\u001b[0m\r\u001b[2K     \u001b[91m━━━━━━━━━━━━━━━━━━━━━━━━━━━━━━━━━━━━━━━\u001b[0m\u001b[91m╸\u001b[0m \u001b[32m1.1/1.1 MB\u001b[0m \u001b[31m71.6 MB/s\u001b[0m eta \u001b[36m0:00:01\u001b[0m\r\u001b[2K     \u001b[91m━━━━━━━━━━━━━━━━━━━━━━━━━━━━━━━━━━━━━━━\u001b[0m\u001b[91m╸\u001b[0m \u001b[32m1.1/1.1 MB\u001b[0m \u001b[31m71.6 MB/s\u001b[0m eta \u001b[36m0:00:01\u001b[0m\r\u001b[2K     \u001b[90m━━━━━━━━━━━━━━━━━━━━━━━━━━━━━━━━━━━━━━━━\u001b[0m \u001b[32m1.1/1.1 MB\u001b[0m \u001b[31m13.0 MB/s\u001b[0m eta \u001b[36m0:00:00\u001b[0m\n",
            "\u001b[?25h"
          ]
        }
      ]
    },
    {
      "cell_type": "code",
      "source": [
        "import tensorflow_datasets as tfds\n",
        "import tensorflow_addons as tfa\n",
        "import matplotlib.pyplot as plt\n",
        "from tensorflow import keras\n",
        "from keras import layers\n",
        "import tensorflow as tf\n",
        "from tqdm import tqdm\n",
        "import numpy as np\n",
        "import os"
      ],
      "metadata": {
        "id": "LAjn-Lhi0wFB"
      },
      "execution_count": 2,
      "outputs": []
    },
    {
      "cell_type": "markdown",
      "source": [
        "# Dataset"
      ],
      "metadata": {
        "id": "D8MXlmFfsX49"
      }
    },
    {
      "cell_type": "code",
      "source": [
        "def _normalize_img(img, label):\n",
        "    img = tf.cast(img, tf.float32)\n",
        "    return (img, label)\n",
        "\n",
        "train_ds, test_dataset = tfds.load(name=\"mnist\", split=['train', 'test'], as_supervised=True)\n",
        "\n",
        "# Build your input pipelines\n",
        "train_ds = train_ds.shuffle(1024).batch(128)\n",
        "\n",
        "train_ds = train_ds.map(_normalize_img)\n",
        "\n",
        "test_dataset = test_dataset.batch(32)\n",
        "test_dataset = test_dataset.map(_normalize_img)"
      ],
      "metadata": {
        "colab": {
          "base_uri": "https://localhost:8080/",
          "height": 84,
          "referenced_widgets": [
            "0cb1dcfb272d46b6a324555a5b687eea",
            "35b68a6682c94e7eb09bd918d56183d3",
            "898c4541209e4d19bce200d8df483eff",
            "61d55e89aa634d28af7b6a9af57f173b",
            "1600de6d196a4b3dafd74216c5cc6f5d",
            "c849b37e91544f6f9223e8a49c57d925",
            "cc6deba9736a42058fc2eb474035cbd4",
            "590ba7db7af041479822c35d31761d37",
            "ce7b8f1fa6784374b3adfd9e08cf32b7",
            "fd7e24fd5115429481ac601d19c4529d",
            "61333ab7831c40f08bb0f1f4ca15c730"
          ]
        },
        "id": "046l0i-i016r",
        "outputId": "6420e15d-77a3-4545-a89d-e4508a33fb36"
      },
      "execution_count": 3,
      "outputs": [
        {
          "output_type": "stream",
          "name": "stdout",
          "text": [
            "Downloading and preparing dataset 11.06 MiB (download: 11.06 MiB, generated: 21.00 MiB, total: 32.06 MiB) to /root/tensorflow_datasets/mnist/3.0.1...\n"
          ]
        },
        {
          "output_type": "display_data",
          "data": {
            "text/plain": [
              "Dl Completed...:   0%|          | 0/5 [00:00<?, ? file/s]"
            ],
            "application/vnd.jupyter.widget-view+json": {
              "version_major": 2,
              "version_minor": 0,
              "model_id": "0cb1dcfb272d46b6a324555a5b687eea"
            }
          },
          "metadata": {}
        },
        {
          "output_type": "stream",
          "name": "stdout",
          "text": [
            "Dataset mnist downloaded and prepared to /root/tensorflow_datasets/mnist/3.0.1. Subsequent calls will reuse this data.\n"
          ]
        }
      ]
    },
    {
      "cell_type": "markdown",
      "source": [
        "# Modelo"
      ],
      "metadata": {
        "id": "M1cQVQyr6aU4"
      }
    },
    {
      "cell_type": "code",
      "source": [
        "# https://paperswithcode.com/paper/network-in-network (artigo da rede)\n",
        "# https://github.com/minoring/nin-tf2/blob/master/model.py (Código de referência)\n",
        "\n",
        "def define_nin(input_shape):\n",
        "  \"\"\"Define Network in Network model\n",
        "  Returns:\n",
        "    tf.keras.Model of NIN\n",
        "  \"\"\"\n",
        "  input_tensor = keras.Input(shape=input_shape)\n",
        "  scale_layer = tf.keras.layers.experimental.preprocessing.Rescaling(scale=1 / 127.5, offset=-1)\n",
        "  x = scale_layer(input_tensor)\n",
        "  \n",
        "  x = layers.Conv2D(192, 5, activation='relu')(x)\n",
        "  x = layers.Conv2D(160, 1, activation='relu')(x)\n",
        "  x = layers.Conv2D(96, 1, activation='relu')(x)\n",
        "  x = layers.MaxPool2D(2, strides=2, padding='same')(x)\n",
        "  x = layers.Dropout(0.5)(x)\n",
        "\n",
        "  x = layers.Conv2D(192, 5, activation='relu')(x)\n",
        "  x = layers.Conv2D(192, 1, activation='relu')(x)\n",
        "  x = layers.Conv2D(192, 1, activation='relu')(x)\n",
        "  x = layers.MaxPool2D(2, strides=2, padding='same')(x)\n",
        "  x = layers.Dropout(0.5)(x)\n",
        "\n",
        "  x = layers.Conv2D(192, 3, activation='relu')(x)\n",
        "  x = layers.Conv2D(192, 1, activation='relu')(x)\n",
        "  x = layers.Conv2D(10, 1, activation='relu')(x)\n",
        "  x = layers.AveragePooling2D(pool_size=(2, 2))(x)\n",
        "  x = layers.Flatten()(x)\n",
        "  x = layers.Dense(10, kernel_regularizer= tf.keras.regularizers.L2(1e-3))(x)\n",
        "  output_tensor = layers.Lambda(lambda x: tf.math.l2_normalize(x,axis=-1))(x)\n",
        "\n",
        "  return tf.keras.Model(input_tensor, output_tensor, name = \"Arquitetura_NIN\")"
      ],
      "metadata": {
        "id": "0oCUDAA96bIa"
      },
      "execution_count": 4,
      "outputs": []
    },
    {
      "cell_type": "markdown",
      "source": [
        "# Treinamento"
      ],
      "metadata": {
        "id": "1MhVLaXO_dqc"
      }
    },
    {
      "cell_type": "code",
      "source": [
        "# referencia dos hiperparametros: https://proceedings.neurips.cc/paper/2012/file/c399862d3b9d6b76c8436e924a68c45b-Paper.pdf\n",
        "#                                 https://arxiv.org/pdf/1312.4400v3.pdf"
      ],
      "metadata": {
        "id": "WAZV_4JL7PYI"
      },
      "execution_count": null,
      "outputs": []
    },
    {
      "cell_type": "code",
      "source": [
        "my_callbacks = [\n",
        "    tf.keras.callbacks.EarlyStopping(patience=60, monitor=\"loss\", restore_best_weights=True),\n",
        "    tf.keras.callbacks.ReduceLROnPlateau(monitor=\"loss\", mode = \"min\", patience = 10, factor=0.1, min_lr=0.000000000001, verbose = 0)\n",
        "  ]"
      ],
      "metadata": {
        "id": "MrTdAHK68yuo"
      },
      "execution_count": 5,
      "outputs": []
    },
    {
      "cell_type": "code",
      "source": [
        "model = define_nin((28, 28, 1))\n",
        "model.compile(optimizer=tf.keras.optimizers.Adam(0.01), loss=tfa.losses.TripletSemiHardLoss())"
      ],
      "metadata": {
        "id": "UgSGQraB8dgl"
      },
      "execution_count": 6,
      "outputs": []
    },
    {
      "cell_type": "code",
      "source": [
        "!nvidia-smi\n",
        "historico = model.fit(train_ds, epochs=200, callbacks=my_callbacks)\n",
        "model.save(\"embedding_model_nin.h5\")"
      ],
      "metadata": {
        "colab": {
          "base_uri": "https://localhost:8080/"
        },
        "id": "doirXWIrpCj4",
        "outputId": "b01158ef-2c4e-493b-9c1e-6300f405af58"
      },
      "execution_count": 7,
      "outputs": [
        {
          "output_type": "stream",
          "name": "stdout",
          "text": [
            "Thu Mar  2 16:54:34 2023       \n",
            "+-----------------------------------------------------------------------------+\n",
            "| NVIDIA-SMI 525.85.12    Driver Version: 525.85.12    CUDA Version: 12.0     |\n",
            "|-------------------------------+----------------------+----------------------+\n",
            "| GPU  Name        Persistence-M| Bus-Id        Disp.A | Volatile Uncorr. ECC |\n",
            "| Fan  Temp  Perf  Pwr:Usage/Cap|         Memory-Usage | GPU-Util  Compute M. |\n",
            "|                               |                      |               MIG M. |\n",
            "|===============================+======================+======================|\n",
            "|   0  Tesla T4            Off  | 00000000:00:04.0 Off |                    0 |\n",
            "| N/A   56C    P0    29W /  70W |    347MiB / 15360MiB |      0%      Default |\n",
            "|                               |                      |                  N/A |\n",
            "+-------------------------------+----------------------+----------------------+\n",
            "                                                                               \n",
            "+-----------------------------------------------------------------------------+\n",
            "| Processes:                                                                  |\n",
            "|  GPU   GI   CI        PID   Type   Process name                  GPU Memory |\n",
            "|        ID   ID                                                   Usage      |\n",
            "|=============================================================================|\n",
            "+-----------------------------------------------------------------------------+\n",
            "Epoch 1/200\n",
            "469/469 [==============================] - 33s 27ms/step - loss: 0.9008 - lr: 0.0100\n",
            "Epoch 2/200\n",
            "469/469 [==============================] - 12s 25ms/step - loss: 0.6347 - lr: 0.0100\n",
            "Epoch 3/200\n",
            "469/469 [==============================] - 12s 25ms/step - loss: 0.3776 - lr: 0.0100\n",
            "Epoch 4/200\n",
            "469/469 [==============================] - 12s 26ms/step - loss: 0.2735 - lr: 0.0100\n",
            "Epoch 5/200\n",
            "469/469 [==============================] - 12s 26ms/step - loss: 0.2233 - lr: 0.0100\n",
            "Epoch 6/200\n",
            "469/469 [==============================] - 12s 26ms/step - loss: 0.2028 - lr: 0.0100\n",
            "Epoch 7/200\n",
            "469/469 [==============================] - 12s 26ms/step - loss: 0.1773 - lr: 0.0100\n",
            "Epoch 8/200\n",
            "469/469 [==============================] - 12s 26ms/step - loss: 0.1688 - lr: 0.0100\n",
            "Epoch 9/200\n",
            "469/469 [==============================] - 12s 26ms/step - loss: 0.1541 - lr: 0.0100\n",
            "Epoch 10/200\n",
            "469/469 [==============================] - 12s 26ms/step - loss: 0.1492 - lr: 0.0100\n",
            "Epoch 11/200\n",
            "469/469 [==============================] - 12s 26ms/step - loss: 0.1454 - lr: 0.0100\n",
            "Epoch 12/200\n",
            "469/469 [==============================] - 12s 26ms/step - loss: 0.1371 - lr: 0.0100\n",
            "Epoch 13/200\n",
            "469/469 [==============================] - 14s 29ms/step - loss: 0.1351 - lr: 0.0100\n",
            "Epoch 14/200\n",
            "469/469 [==============================] - 12s 26ms/step - loss: 0.1188 - lr: 0.0100\n",
            "Epoch 15/200\n",
            "469/469 [==============================] - 12s 26ms/step - loss: 0.1178 - lr: 0.0100\n",
            "Epoch 16/200\n",
            "469/469 [==============================] - 12s 26ms/step - loss: 0.1255 - lr: 0.0100\n",
            "Epoch 17/200\n",
            "469/469 [==============================] - 12s 26ms/step - loss: 0.1048 - lr: 0.0100\n",
            "Epoch 18/200\n",
            "469/469 [==============================] - 12s 26ms/step - loss: 0.1031 - lr: 0.0100\n",
            "Epoch 19/200\n",
            "469/469 [==============================] - 12s 26ms/step - loss: 0.0977 - lr: 0.0100\n",
            "Epoch 20/200\n",
            "469/469 [==============================] - 12s 26ms/step - loss: 0.1005 - lr: 0.0100\n",
            "Epoch 21/200\n",
            "469/469 [==============================] - 12s 26ms/step - loss: 0.0963 - lr: 0.0100\n",
            "Epoch 22/200\n",
            "469/469 [==============================] - 12s 26ms/step - loss: 0.0863 - lr: 0.0100\n",
            "Epoch 23/200\n",
            "469/469 [==============================] - 12s 26ms/step - loss: 0.0887 - lr: 0.0100\n",
            "Epoch 24/200\n",
            "469/469 [==============================] - 12s 26ms/step - loss: 0.0865 - lr: 0.0100\n",
            "Epoch 25/200\n",
            "469/469 [==============================] - 12s 26ms/step - loss: 0.0858 - lr: 0.0100\n",
            "Epoch 26/200\n",
            "469/469 [==============================] - 12s 26ms/step - loss: 0.0884 - lr: 0.0100\n",
            "Epoch 27/200\n",
            "469/469 [==============================] - 12s 26ms/step - loss: 0.0862 - lr: 0.0100\n",
            "Epoch 28/200\n",
            "469/469 [==============================] - 12s 26ms/step - loss: 0.0790 - lr: 0.0100\n",
            "Epoch 29/200\n",
            "469/469 [==============================] - 12s 26ms/step - loss: 0.0765 - lr: 0.0100\n",
            "Epoch 30/200\n",
            "469/469 [==============================] - 12s 26ms/step - loss: 0.0721 - lr: 0.0100\n",
            "Epoch 31/200\n",
            "469/469 [==============================] - 12s 26ms/step - loss: 0.0745 - lr: 0.0100\n",
            "Epoch 32/200\n",
            "469/469 [==============================] - 12s 26ms/step - loss: 0.0667 - lr: 0.0100\n",
            "Epoch 33/200\n",
            "469/469 [==============================] - 12s 26ms/step - loss: 0.0661 - lr: 0.0100\n",
            "Epoch 34/200\n",
            "469/469 [==============================] - 12s 26ms/step - loss: 0.0724 - lr: 0.0100\n",
            "Epoch 35/200\n",
            "469/469 [==============================] - 12s 26ms/step - loss: 0.0713 - lr: 0.0100\n",
            "Epoch 36/200\n",
            "469/469 [==============================] - 12s 26ms/step - loss: 0.0745 - lr: 0.0100\n",
            "Epoch 37/200\n",
            "469/469 [==============================] - 12s 26ms/step - loss: 0.0643 - lr: 0.0100\n",
            "Epoch 38/200\n",
            "469/469 [==============================] - 12s 26ms/step - loss: 0.0552 - lr: 0.0100\n",
            "Epoch 39/200\n",
            "469/469 [==============================] - 12s 26ms/step - loss: 0.0621 - lr: 0.0100\n",
            "Epoch 40/200\n",
            "469/469 [==============================] - 12s 26ms/step - loss: 0.0638 - lr: 0.0100\n",
            "Epoch 41/200\n",
            "469/469 [==============================] - 12s 26ms/step - loss: 0.0623 - lr: 0.0100\n",
            "Epoch 42/200\n",
            "469/469 [==============================] - 12s 26ms/step - loss: 0.0572 - lr: 0.0100\n",
            "Epoch 43/200\n",
            "469/469 [==============================] - 12s 26ms/step - loss: 0.0511 - lr: 0.0100\n",
            "Epoch 44/200\n",
            "469/469 [==============================] - 12s 26ms/step - loss: 0.0493 - lr: 0.0100\n",
            "Epoch 45/200\n",
            "469/469 [==============================] - 13s 27ms/step - loss: 0.0586 - lr: 0.0100\n",
            "Epoch 46/200\n",
            "469/469 [==============================] - 12s 26ms/step - loss: 0.0557 - lr: 0.0100\n",
            "Epoch 47/200\n",
            "469/469 [==============================] - 13s 27ms/step - loss: 0.0572 - lr: 0.0100\n",
            "Epoch 48/200\n",
            "469/469 [==============================] - 12s 26ms/step - loss: 0.0518 - lr: 0.0100\n",
            "Epoch 49/200\n",
            "469/469 [==============================] - 12s 26ms/step - loss: 0.0609 - lr: 0.0100\n",
            "Epoch 50/200\n",
            "469/469 [==============================] - 12s 26ms/step - loss: 0.0449 - lr: 0.0100\n",
            "Epoch 51/200\n",
            "469/469 [==============================] - 12s 26ms/step - loss: 0.0487 - lr: 0.0100\n",
            "Epoch 52/200\n",
            "469/469 [==============================] - 12s 26ms/step - loss: 0.0454 - lr: 0.0100\n",
            "Epoch 53/200\n",
            "469/469 [==============================] - 12s 26ms/step - loss: 0.0467 - lr: 0.0100\n",
            "Epoch 54/200\n",
            "469/469 [==============================] - 12s 26ms/step - loss: 0.0508 - lr: 0.0100\n",
            "Epoch 55/200\n",
            "469/469 [==============================] - 12s 26ms/step - loss: 0.0438 - lr: 0.0100\n",
            "Epoch 56/200\n",
            "469/469 [==============================] - 12s 26ms/step - loss: 0.0488 - lr: 0.0100\n",
            "Epoch 57/200\n",
            "469/469 [==============================] - 13s 27ms/step - loss: 0.0458 - lr: 0.0100\n",
            "Epoch 58/200\n",
            "469/469 [==============================] - 12s 26ms/step - loss: 0.0470 - lr: 0.0100\n",
            "Epoch 59/200\n",
            "469/469 [==============================] - 12s 26ms/step - loss: 0.0357 - lr: 0.0100\n",
            "Epoch 60/200\n",
            "469/469 [==============================] - 12s 26ms/step - loss: 0.0470 - lr: 0.0100\n",
            "Epoch 61/200\n",
            "469/469 [==============================] - 12s 26ms/step - loss: 0.0424 - lr: 0.0100\n",
            "Epoch 62/200\n",
            "469/469 [==============================] - 12s 26ms/step - loss: 0.0415 - lr: 0.0100\n",
            "Epoch 63/200\n",
            "469/469 [==============================] - 12s 26ms/step - loss: 0.0404 - lr: 0.0100\n",
            "Epoch 64/200\n",
            "469/469 [==============================] - 12s 26ms/step - loss: 0.0444 - lr: 0.0100\n",
            "Epoch 65/200\n",
            "469/469 [==============================] - 12s 26ms/step - loss: 0.0406 - lr: 0.0100\n",
            "Epoch 66/200\n",
            "469/469 [==============================] - 12s 26ms/step - loss: 0.0416 - lr: 0.0100\n",
            "Epoch 67/200\n",
            "469/469 [==============================] - 12s 26ms/step - loss: 0.0439 - lr: 0.0100\n",
            "Epoch 68/200\n",
            "469/469 [==============================] - 12s 26ms/step - loss: 0.0390 - lr: 0.0100\n",
            "Epoch 69/200\n",
            "469/469 [==============================] - 12s 26ms/step - loss: 0.0357 - lr: 0.0100\n",
            "Epoch 70/200\n",
            "469/469 [==============================] - 12s 26ms/step - loss: 0.0255 - lr: 1.0000e-03\n",
            "Epoch 71/200\n",
            "469/469 [==============================] - 12s 26ms/step - loss: 0.0220 - lr: 1.0000e-03\n",
            "Epoch 72/200\n",
            "469/469 [==============================] - 12s 26ms/step - loss: 0.0214 - lr: 1.0000e-03\n",
            "Epoch 73/200\n",
            "469/469 [==============================] - 12s 26ms/step - loss: 0.0214 - lr: 1.0000e-03\n",
            "Epoch 74/200\n",
            "469/469 [==============================] - 12s 26ms/step - loss: 0.0208 - lr: 1.0000e-03\n",
            "Epoch 75/200\n",
            "469/469 [==============================] - 12s 26ms/step - loss: 0.0166 - lr: 1.0000e-03\n",
            "Epoch 76/200\n",
            "469/469 [==============================] - 12s 26ms/step - loss: 0.0179 - lr: 1.0000e-03\n",
            "Epoch 77/200\n",
            "469/469 [==============================] - 12s 26ms/step - loss: 0.0161 - lr: 1.0000e-03\n",
            "Epoch 78/200\n",
            "469/469 [==============================] - 13s 27ms/step - loss: 0.0155 - lr: 1.0000e-03\n",
            "Epoch 79/200\n",
            "469/469 [==============================] - 12s 26ms/step - loss: 0.0178 - lr: 1.0000e-03\n",
            "Epoch 80/200\n",
            "469/469 [==============================] - 12s 26ms/step - loss: 0.0154 - lr: 1.0000e-03\n",
            "Epoch 81/200\n",
            "469/469 [==============================] - 12s 26ms/step - loss: 0.0168 - lr: 1.0000e-03\n",
            "Epoch 82/200\n",
            "469/469 [==============================] - 12s 26ms/step - loss: 0.0134 - lr: 1.0000e-03\n",
            "Epoch 83/200\n",
            "469/469 [==============================] - 12s 26ms/step - loss: 0.0142 - lr: 1.0000e-03\n",
            "Epoch 84/200\n",
            "469/469 [==============================] - 12s 26ms/step - loss: 0.0142 - lr: 1.0000e-03\n",
            "Epoch 85/200\n",
            "469/469 [==============================] - 12s 25ms/step - loss: 0.0148 - lr: 1.0000e-03\n",
            "Epoch 86/200\n",
            "469/469 [==============================] - 12s 26ms/step - loss: 0.0127 - lr: 1.0000e-03\n",
            "Epoch 87/200\n",
            "469/469 [==============================] - 12s 26ms/step - loss: 0.0121 - lr: 1.0000e-03\n",
            "Epoch 88/200\n",
            "469/469 [==============================] - 12s 26ms/step - loss: 0.0129 - lr: 1.0000e-03\n",
            "Epoch 89/200\n",
            "469/469 [==============================] - 12s 26ms/step - loss: 0.0121 - lr: 1.0000e-03\n",
            "Epoch 90/200\n",
            "469/469 [==============================] - 12s 25ms/step - loss: 0.0129 - lr: 1.0000e-03\n",
            "Epoch 91/200\n",
            "469/469 [==============================] - 12s 25ms/step - loss: 0.0117 - lr: 1.0000e-03\n",
            "Epoch 92/200\n",
            "469/469 [==============================] - 12s 25ms/step - loss: 0.0140 - lr: 1.0000e-03\n",
            "Epoch 93/200\n",
            "469/469 [==============================] - 12s 26ms/step - loss: 0.0110 - lr: 1.0000e-03\n",
            "Epoch 94/200\n",
            "469/469 [==============================] - 12s 26ms/step - loss: 0.0136 - lr: 1.0000e-03\n",
            "Epoch 95/200\n",
            "469/469 [==============================] - 12s 26ms/step - loss: 0.0116 - lr: 1.0000e-03\n",
            "Epoch 96/200\n",
            "469/469 [==============================] - 12s 26ms/step - loss: 0.0116 - lr: 1.0000e-03\n",
            "Epoch 97/200\n",
            "469/469 [==============================] - 12s 26ms/step - loss: 0.0119 - lr: 1.0000e-03\n",
            "Epoch 98/200\n",
            "469/469 [==============================] - 12s 26ms/step - loss: 0.0107 - lr: 1.0000e-03\n",
            "Epoch 99/200\n",
            "469/469 [==============================] - 12s 26ms/step - loss: 0.0111 - lr: 1.0000e-03\n",
            "Epoch 100/200\n",
            "469/469 [==============================] - 12s 26ms/step - loss: 0.0122 - lr: 1.0000e-03\n",
            "Epoch 101/200\n",
            "469/469 [==============================] - 12s 26ms/step - loss: 0.0139 - lr: 1.0000e-03\n",
            "Epoch 102/200\n",
            "469/469 [==============================] - 13s 27ms/step - loss: 0.0116 - lr: 1.0000e-03\n",
            "Epoch 103/200\n",
            "469/469 [==============================] - 12s 26ms/step - loss: 0.0108 - lr: 1.0000e-03\n",
            "Epoch 104/200\n",
            "469/469 [==============================] - 12s 26ms/step - loss: 0.0108 - lr: 1.0000e-03\n",
            "Epoch 105/200\n",
            "469/469 [==============================] - 12s 26ms/step - loss: 0.0094 - lr: 1.0000e-03\n",
            "Epoch 106/200\n",
            "469/469 [==============================] - 12s 26ms/step - loss: 0.0119 - lr: 1.0000e-03\n",
            "Epoch 107/200\n",
            "469/469 [==============================] - 12s 26ms/step - loss: 0.0121 - lr: 1.0000e-03\n",
            "Epoch 108/200\n",
            "469/469 [==============================] - 12s 26ms/step - loss: 0.0097 - lr: 1.0000e-03\n",
            "Epoch 109/200\n",
            "469/469 [==============================] - 12s 26ms/step - loss: 0.0094 - lr: 1.0000e-03\n",
            "Epoch 110/200\n",
            "469/469 [==============================] - 12s 26ms/step - loss: 0.0116 - lr: 1.0000e-03\n",
            "Epoch 111/200\n",
            "469/469 [==============================] - 12s 26ms/step - loss: 0.0108 - lr: 1.0000e-03\n",
            "Epoch 112/200\n",
            "469/469 [==============================] - 12s 26ms/step - loss: 0.0119 - lr: 1.0000e-03\n",
            "Epoch 113/200\n",
            "469/469 [==============================] - 12s 26ms/step - loss: 0.0096 - lr: 1.0000e-03\n",
            "Epoch 114/200\n",
            "469/469 [==============================] - 12s 26ms/step - loss: 0.0096 - lr: 1.0000e-03\n",
            "Epoch 115/200\n",
            "469/469 [==============================] - 12s 26ms/step - loss: 0.0107 - lr: 1.0000e-03\n",
            "Epoch 116/200\n",
            "469/469 [==============================] - 12s 26ms/step - loss: 0.0094 - lr: 1.0000e-04\n",
            "Epoch 117/200\n",
            "469/469 [==============================] - 12s 26ms/step - loss: 0.0105 - lr: 1.0000e-04\n",
            "Epoch 118/200\n",
            "469/469 [==============================] - 12s 26ms/step - loss: 0.0093 - lr: 1.0000e-04\n",
            "Epoch 119/200\n",
            "469/469 [==============================] - 12s 26ms/step - loss: 0.0098 - lr: 1.0000e-04\n",
            "Epoch 120/200\n",
            "469/469 [==============================] - 12s 26ms/step - loss: 0.0093 - lr: 1.0000e-04\n",
            "Epoch 121/200\n",
            "469/469 [==============================] - 12s 26ms/step - loss: 0.0097 - lr: 1.0000e-04\n",
            "Epoch 122/200\n",
            "469/469 [==============================] - 12s 26ms/step - loss: 0.0087 - lr: 1.0000e-04\n",
            "Epoch 123/200\n",
            "469/469 [==============================] - 12s 26ms/step - loss: 0.0082 - lr: 1.0000e-04\n",
            "Epoch 124/200\n",
            "469/469 [==============================] - 12s 26ms/step - loss: 0.0088 - lr: 1.0000e-04\n",
            "Epoch 125/200\n",
            "469/469 [==============================] - 12s 26ms/step - loss: 0.0082 - lr: 1.0000e-04\n",
            "Epoch 126/200\n",
            "469/469 [==============================] - 12s 26ms/step - loss: 0.0088 - lr: 1.0000e-04\n",
            "Epoch 127/200\n",
            "469/469 [==============================] - 12s 26ms/step - loss: 0.0094 - lr: 1.0000e-04\n",
            "Epoch 128/200\n",
            "469/469 [==============================] - 12s 26ms/step - loss: 0.0084 - lr: 1.0000e-04\n",
            "Epoch 129/200\n",
            "469/469 [==============================] - 12s 26ms/step - loss: 0.0079 - lr: 1.0000e-04\n",
            "Epoch 130/200\n",
            "469/469 [==============================] - 12s 26ms/step - loss: 0.0082 - lr: 1.0000e-04\n",
            "Epoch 131/200\n",
            "469/469 [==============================] - 12s 26ms/step - loss: 0.0091 - lr: 1.0000e-04\n",
            "Epoch 132/200\n",
            "469/469 [==============================] - 12s 26ms/step - loss: 0.0078 - lr: 1.0000e-04\n",
            "Epoch 133/200\n",
            "469/469 [==============================] - 12s 26ms/step - loss: 0.0104 - lr: 1.0000e-04\n",
            "Epoch 134/200\n",
            "469/469 [==============================] - 12s 26ms/step - loss: 0.0089 - lr: 1.0000e-04\n",
            "Epoch 135/200\n",
            "469/469 [==============================] - 12s 26ms/step - loss: 0.0087 - lr: 1.0000e-04\n",
            "Epoch 136/200\n",
            "469/469 [==============================] - 12s 26ms/step - loss: 0.0090 - lr: 1.0000e-04\n",
            "Epoch 137/200\n",
            "469/469 [==============================] - 12s 26ms/step - loss: 0.0084 - lr: 1.0000e-04\n",
            "Epoch 138/200\n",
            "469/469 [==============================] - 13s 27ms/step - loss: 0.0093 - lr: 1.0000e-04\n",
            "Epoch 139/200\n",
            "469/469 [==============================] - 12s 26ms/step - loss: 0.0082 - lr: 1.0000e-04\n",
            "Epoch 140/200\n",
            "469/469 [==============================] - 12s 26ms/step - loss: 0.0102 - lr: 1.0000e-04\n",
            "Epoch 141/200\n",
            "469/469 [==============================] - 12s 26ms/step - loss: 0.0093 - lr: 1.0000e-04\n",
            "Epoch 142/200\n",
            "469/469 [==============================] - 12s 26ms/step - loss: 0.0103 - lr: 1.0000e-04\n",
            "Epoch 143/200\n",
            "469/469 [==============================] - 12s 26ms/step - loss: 0.0084 - lr: 1.0000e-05\n",
            "Epoch 144/200\n",
            "469/469 [==============================] - 12s 26ms/step - loss: 0.0075 - lr: 1.0000e-05\n",
            "Epoch 145/200\n",
            "469/469 [==============================] - 12s 26ms/step - loss: 0.0084 - lr: 1.0000e-05\n",
            "Epoch 146/200\n",
            "469/469 [==============================] - 12s 26ms/step - loss: 0.0074 - lr: 1.0000e-05\n",
            "Epoch 147/200\n",
            "469/469 [==============================] - 12s 26ms/step - loss: 0.0088 - lr: 1.0000e-05\n",
            "Epoch 148/200\n",
            "469/469 [==============================] - 12s 26ms/step - loss: 0.0074 - lr: 1.0000e-05\n",
            "Epoch 149/200\n",
            "469/469 [==============================] - 12s 26ms/step - loss: 0.0090 - lr: 1.0000e-05\n",
            "Epoch 150/200\n",
            "469/469 [==============================] - 12s 26ms/step - loss: 0.0077 - lr: 1.0000e-05\n",
            "Epoch 151/200\n",
            "469/469 [==============================] - 12s 25ms/step - loss: 0.0092 - lr: 1.0000e-05\n",
            "Epoch 152/200\n",
            "469/469 [==============================] - 12s 26ms/step - loss: 0.0086 - lr: 1.0000e-05\n",
            "Epoch 153/200\n",
            "469/469 [==============================] - 12s 26ms/step - loss: 0.0089 - lr: 1.0000e-05\n",
            "Epoch 154/200\n",
            "469/469 [==============================] - 12s 26ms/step - loss: 0.0088 - lr: 1.0000e-05\n",
            "Epoch 155/200\n",
            "469/469 [==============================] - 12s 25ms/step - loss: 0.0085 - lr: 1.0000e-06\n",
            "Epoch 156/200\n",
            "469/469 [==============================] - 12s 26ms/step - loss: 0.0077 - lr: 1.0000e-06\n",
            "Epoch 157/200\n",
            "469/469 [==============================] - 12s 26ms/step - loss: 0.0083 - lr: 1.0000e-06\n",
            "Epoch 158/200\n",
            "469/469 [==============================] - 12s 26ms/step - loss: 0.0090 - lr: 1.0000e-06\n",
            "Epoch 159/200\n",
            "469/469 [==============================] - 12s 26ms/step - loss: 0.0091 - lr: 1.0000e-06\n",
            "Epoch 160/200\n",
            "469/469 [==============================] - 13s 27ms/step - loss: 0.0103 - lr: 1.0000e-06\n",
            "Epoch 161/200\n",
            "469/469 [==============================] - 12s 26ms/step - loss: 0.0079 - lr: 1.0000e-06\n",
            "Epoch 162/200\n",
            "469/469 [==============================] - 12s 26ms/step - loss: 0.0075 - lr: 1.0000e-06\n",
            "Epoch 163/200\n",
            "469/469 [==============================] - 12s 26ms/step - loss: 0.0090 - lr: 1.0000e-06\n",
            "Epoch 164/200\n",
            "469/469 [==============================] - 12s 26ms/step - loss: 0.0091 - lr: 1.0000e-06\n",
            "Epoch 165/200\n",
            "469/469 [==============================] - 12s 26ms/step - loss: 0.0071 - lr: 1.0000e-07\n",
            "Epoch 166/200\n",
            "469/469 [==============================] - 12s 26ms/step - loss: 0.0081 - lr: 1.0000e-07\n",
            "Epoch 167/200\n",
            "469/469 [==============================] - 12s 26ms/step - loss: 0.0092 - lr: 1.0000e-07\n",
            "Epoch 168/200\n",
            "469/469 [==============================] - 12s 26ms/step - loss: 0.0081 - lr: 1.0000e-07\n",
            "Epoch 169/200\n",
            "469/469 [==============================] - 12s 25ms/step - loss: 0.0093 - lr: 1.0000e-07\n",
            "Epoch 170/200\n",
            "469/469 [==============================] - 12s 26ms/step - loss: 0.0074 - lr: 1.0000e-07\n",
            "Epoch 171/200\n",
            "469/469 [==============================] - 13s 27ms/step - loss: 0.0091 - lr: 1.0000e-07\n",
            "Epoch 172/200\n",
            "469/469 [==============================] - 12s 26ms/step - loss: 0.0090 - lr: 1.0000e-07\n",
            "Epoch 173/200\n",
            "469/469 [==============================] - 12s 26ms/step - loss: 0.0086 - lr: 1.0000e-07\n",
            "Epoch 174/200\n",
            "469/469 [==============================] - 12s 26ms/step - loss: 0.0087 - lr: 1.0000e-07\n",
            "Epoch 175/200\n",
            "469/469 [==============================] - 12s 26ms/step - loss: 0.0074 - lr: 1.0000e-07\n",
            "Epoch 176/200\n",
            "469/469 [==============================] - 12s 26ms/step - loss: 0.0085 - lr: 1.0000e-08\n",
            "Epoch 177/200\n",
            "469/469 [==============================] - 12s 26ms/step - loss: 0.0102 - lr: 1.0000e-08\n",
            "Epoch 178/200\n",
            "469/469 [==============================] - 12s 26ms/step - loss: 0.0095 - lr: 1.0000e-08\n",
            "Epoch 179/200\n",
            "469/469 [==============================] - 12s 26ms/step - loss: 0.0082 - lr: 1.0000e-08\n",
            "Epoch 180/200\n",
            "469/469 [==============================] - 12s 26ms/step - loss: 0.0084 - lr: 1.0000e-08\n",
            "Epoch 181/200\n",
            "469/469 [==============================] - 12s 25ms/step - loss: 0.0092 - lr: 1.0000e-08\n",
            "Epoch 182/200\n",
            "469/469 [==============================] - 12s 26ms/step - loss: 0.0082 - lr: 1.0000e-08\n",
            "Epoch 183/200\n",
            "469/469 [==============================] - 12s 26ms/step - loss: 0.0084 - lr: 1.0000e-08\n",
            "Epoch 184/200\n",
            "469/469 [==============================] - 12s 26ms/step - loss: 0.0094 - lr: 1.0000e-08\n",
            "Epoch 185/200\n",
            "469/469 [==============================] - 12s 26ms/step - loss: 0.0083 - lr: 1.0000e-08\n",
            "Epoch 186/200\n",
            "469/469 [==============================] - 13s 29ms/step - loss: 0.0087 - lr: 1.0000e-09\n",
            "Epoch 187/200\n",
            "469/469 [==============================] - 12s 26ms/step - loss: 0.0085 - lr: 1.0000e-09\n",
            "Epoch 188/200\n",
            "469/469 [==============================] - 12s 26ms/step - loss: 0.0077 - lr: 1.0000e-09\n",
            "Epoch 189/200\n",
            "469/469 [==============================] - 12s 26ms/step - loss: 0.0085 - lr: 1.0000e-09\n",
            "Epoch 190/200\n",
            "469/469 [==============================] - 12s 26ms/step - loss: 0.0078 - lr: 1.0000e-09\n",
            "Epoch 191/200\n",
            "469/469 [==============================] - 12s 26ms/step - loss: 0.0083 - lr: 1.0000e-09\n",
            "Epoch 192/200\n",
            "469/469 [==============================] - 12s 26ms/step - loss: 0.0090 - lr: 1.0000e-09\n",
            "Epoch 193/200\n",
            "469/469 [==============================] - 12s 26ms/step - loss: 0.0073 - lr: 1.0000e-09\n",
            "Epoch 194/200\n",
            "469/469 [==============================] - 12s 26ms/step - loss: 0.0103 - lr: 1.0000e-09\n",
            "Epoch 195/200\n",
            "469/469 [==============================] - 12s 26ms/step - loss: 0.0085 - lr: 1.0000e-09\n",
            "Epoch 196/200\n",
            "469/469 [==============================] - 12s 26ms/step - loss: 0.0087 - lr: 1.0000e-10\n",
            "Epoch 197/200\n",
            "469/469 [==============================] - 12s 26ms/step - loss: 0.0087 - lr: 1.0000e-10\n",
            "Epoch 198/200\n",
            "469/469 [==============================] - 12s 26ms/step - loss: 0.0088 - lr: 1.0000e-10\n",
            "Epoch 199/200\n",
            "469/469 [==============================] - 12s 26ms/step - loss: 0.0082 - lr: 1.0000e-10\n",
            "Epoch 200/200\n",
            "469/469 [==============================] - 12s 25ms/step - loss: 0.0081 - lr: 1.0000e-10\n"
          ]
        }
      ]
    },
    {
      "cell_type": "code",
      "source": [
        "# c"
      ],
      "metadata": {
        "id": "yQLvWv-wqcRd"
      },
      "execution_count": null,
      "outputs": []
    },
    {
      "cell_type": "code",
      "source": [
        "def grafico(historico, nome): \n",
        "\n",
        "  plt.subplots(figsize=(25, 5)) \n",
        "  # Grafico 1: Loss\n",
        "  plt.subplot(1,2,1)\n",
        "  plt.title( nome + ': Loss')\n",
        "  plt.xlabel('Epoch')\n",
        "  plt.ylabel('Cross Entropy')\n",
        "  plt.grid()\n",
        "  plt.yscale(\"log\")\n",
        "  plt.plot(historico.history['loss'], label='Train Loss ', color = 'blue')\n",
        "  plt.legend()\n",
        "\n",
        "  nome_save = os.path.join(\"/content\", nome + \".jpg\")\n",
        "  plt.savefig(nome_save, dpi=400,  transparent=False)\n",
        "  plt.show()\n",
        "\n",
        "grafico(historico, \"Rede Siamesa NIN\")"
      ],
      "metadata": {
        "colab": {
          "base_uri": "https://localhost:8080/",
          "height": 350
        },
        "id": "ZWh9jBoMpqTE",
        "outputId": "0410238b-0418-4916-b9dd-18c86c4e6da2"
      },
      "execution_count": 8,
      "outputs": [
        {
          "output_type": "display_data",
          "data": {
            "text/plain": [
              "<Figure size 1800x360 with 1 Axes>"
            ],
            "image/png": "[encoded data removed]"
          },
          "metadata": {
            "needs_background": "light"
          }
        }
      ]
    },
    {
      "cell_type": "markdown",
      "source": [
        "# Testes"
      ],
      "metadata": {
        "id": "fmsiTqYA_bAH"
      }
    },
    {
      "cell_type": "markdown",
      "source": [
        "## Funções"
      ],
      "metadata": {
        "id": "dlWAUyDLWI0e"
      }
    },
    {
      "cell_type": "code",
      "source": [
        "nome = [\"zero\", \"um\", \"dois\", \"tres\", \"quatro\", \"cinco\", \"seis\", \"sete\", \"oito\", \"nove\"]\n",
        "\n",
        "def prepare_database(model):\n",
        "  database = {}\n",
        "  for categoria in range(10):# Busca pra cada uma das 10 categorias\n",
        "    for img, label in test_dataset: # percorre os lotes do dataset\n",
        "      for indice in range(len(label)): # percorre os elementos do lote do dataset\n",
        "        if label[indice] == categoria: # se a categoria do elemento no indice for o mesma da categoria que estou buscando\n",
        "          identity =  nome[categoria] \n",
        "          database[identity] = img_to_encoding(img[indice:indice+1], model)\n",
        "          break\n",
        "      if indice != (len(label)-1): break\n",
        "  return database"
      ],
      "metadata": {
        "id": "dgWxY5PuAQw9"
      },
      "execution_count": 9,
      "outputs": []
    },
    {
      "cell_type": "code",
      "source": [
        "def recognise_class(image, database, model):\n",
        "    encoding = img_to_encoding(image, model)\n",
        "    identity = None\n",
        "    min_dist = 100\n",
        "    for (name, db_enc) in database.items():\n",
        "        \n",
        "        dist = np.linalg.norm(db_enc - encoding)\n",
        "        #print('distance for %s is %s' %(name, dist))\n",
        "        if dist < min_dist:\n",
        "            min_dist = dist\n",
        "            identity = name\n",
        "    \n",
        "    if min_dist > 0.6:\n",
        "        return \"can't recognise.\"\n",
        "    else:\n",
        "        return str(identity)\n",
        "\n",
        "def recognise_class_2(image, database, model):# A diferença dessa pra outra é que ela mostra a distancia\n",
        "    encoding = img_to_encoding(image, model)\n",
        "    identity = None\n",
        "    min_dist = 100\n",
        "    for (name, db_enc) in database.items():\n",
        "        \n",
        "        dist = np.linalg.norm(db_enc - encoding)\n",
        "        print('distance for %s is %s' %(name, dist)) # seria muito ruim ficar mostrando isso para um dataset de 10.000 imagens\n",
        "        if dist < min_dist:\n",
        "            min_dist = dist\n",
        "            identity = name\n",
        "    \n",
        "    if min_dist > 0.6:\n",
        "        return \"can't recognise.\"\n",
        "    else:\n",
        "        return str(identity)"
      ],
      "metadata": {
        "id": "-f11d2wtAUzu"
      },
      "execution_count": 10,
      "outputs": []
    },
    {
      "cell_type": "code",
      "source": [
        "def img_to_encoding(img, model):\n",
        "  embedding = model.predict(img, verbose=0)\n",
        "  return embedding"
      ],
      "metadata": {
        "id": "HXeMnzWOAaNU"
      },
      "execution_count": 11,
      "outputs": []
    },
    {
      "cell_type": "code",
      "source": [
        "def metricas(saida):\n",
        "  certo = 0\n",
        "  errado = 0\n",
        "  incerto = 0\n",
        "  \n",
        "  for resposta in saida:\n",
        "    if resposta[1] == nome[resposta[0]]:\n",
        "      certo += 1\n",
        "    else:\n",
        "      if resposta[1] == \"can't recognise.\":\n",
        "        incerto += 1\n",
        "      else:\n",
        "        if resposta[1] != nome[resposta[0]]:\n",
        "          errado += 1\n",
        "  print()\n",
        "  print(\"Total de imagem: {0}    Certas: {1}   Erradas: {2}   Incertas: {3}\".format(len(saida), certo, errado, incerto))"
      ],
      "metadata": {
        "id": "Zo5XTG-mQ67e"
      },
      "execution_count": 12,
      "outputs": []
    },
    {
      "cell_type": "markdown",
      "source": [
        "## Testes"
      ],
      "metadata": {
        "id": "WyfirMTmWLph"
      }
    },
    {
      "cell_type": "code",
      "source": [
        "database = prepare_database(model)\n",
        "saida = []\n",
        "\n",
        "for img, label in tqdm (test_dataset, desc=\"Testando...\"):\n",
        "  for i in range(len(img)):\n",
        "    classe = recognise_class(img[i:i+1], database, model)\n",
        "    #print(\"id {2}:: Classe Real: {0} >> Classe Prevista: {1}\".format(label[i], classe, i))\n",
        "    saida.append([label[i], classe])\n",
        "\n",
        "metricas(saida)"
      ],
      "metadata": {
        "colab": {
          "base_uri": "https://localhost:8080/"
        },
        "id": "NAQBvdNNjMbt",
        "outputId": "071278b9-a702-45c4-f052-881156c55238"
      },
      "execution_count": 13,
      "outputs": [
        {
          "output_type": "stream",
          "name": "stderr",
          "text": [
            "Testando...: 100%|██████████| 313/313 [11:21<00:00,  2.18s/it]\n"
          ]
        },
        {
          "output_type": "stream",
          "name": "stdout",
          "text": [
            "\n",
            "Total de imagem: 10000    Certas: 9942   Erradas: 35   Incertas: 23\n"
          ]
        }
      ]
    },
    {
      "cell_type": "code",
      "source": [
        "classe = recognise_class_2(img[0:1], database, model)\n",
        "print()\n",
        "print(\"Classe Real: {0} >> Classe Prevista: {1}\".format(label[0], classe))"
      ],
      "metadata": {
        "colab": {
          "base_uri": "https://localhost:8080/"
        },
        "id": "eAqjzRyZZgt-",
        "outputId": "1f517091-3095-49be-b689-5e873fac2e11"
      },
      "execution_count": 14,
      "outputs": [
        {
          "output_type": "stream",
          "name": "stdout",
          "text": [
            "distance for zero is 1.3609177\n",
            "distance for um is 1.3363365\n",
            "distance for dois is 1.7356316\n",
            "distance for tres is 1.296467\n",
            "distance for quatro is 0.0007972572\n",
            "distance for cinco is 1.3475403\n",
            "distance for seis is 1.318665\n",
            "distance for sete is 1.3593326\n",
            "distance for oito is 1.7774196\n",
            "distance for nove is 1.6621103\n",
            "\n",
            "Classe Real: 4 >> Classe Prevista: quatro\n"
          ]
        }
      ]
    }
  ]
}
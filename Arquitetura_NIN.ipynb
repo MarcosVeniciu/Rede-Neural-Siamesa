{
  "nbformat": 4,
  "nbformat_minor": 0,
  "metadata": {
    "colab": {
      "provenance": [],
      "collapsed_sections": [
        "M1cQVQyr6aU4",
        "1MhVLaXO_dqc",
        "dlWAUyDLWI0e"
      ],
      "authorship_tag": "ABX9TyP8VuKCk/kjI2IB5WF55u+X",
      "include_colab_link": true
    },
    "kernelspec": {
      "name": "python3",
      "display_name": "Python 3"
    },
    "language_info": {
      "name": "python"
    },
    "gpuClass": "standard",
    "accelerator": "GPU"
  },
  "cells": [
    {
      "cell_type": "markdown",
      "metadata": {
        "id": "view-in-github",
        "colab_type": "text"
      },
      "source": [
        "<a href=\"https://colab.research.google.com/github/MarcosVeniciu/Rede-Neural-Siamesa/blob/main/Arquitetura_NIN.ipynb\" target=\"_parent\"><img src=\"https://colab.research.google.com/assets/colab-badge.svg\" alt=\"Open In Colab\"/></a>"
      ]
    },
    {
      "cell_type": "code",
      "execution_count": null,
      "metadata": {
        "id": "-Jbi3j5rfkE2"
      },
      "outputs": [],
      "source": [
        "# Referencias principais\n",
        "## Artigo: https://arxiv.org/pdf/1503.03832.pdf\n",
        "## Código: https://medium.com/@crimy/one-shot-learning-siamese-networks-and-triplet-loss-with-keras-2885ed022352\n",
        "## Gerar Triplets: https://omoindrot.github.io/triplet-loss\n",
        "## Keras triple loss exemplo: https://www.tensorflow.org/addons/tutorials/losses_triplet?hl=pt-br#semihard_online_learning\n",
        "#\n",
        "# Referências\n",
        "## Função de TripletHardLoss: https://www.tensorflow.org/addons/api_docs/python/tfa/losses/TripletHardLoss\n",
        "## Função de TripletSemiHardLoss: https://www.tensorflow.org/addons/api_docs/python/tfa/losses/TripletSemiHardLoss\n",
        "## Triple loss keras:  https://keras.io/examples/vision/siamese_network/ \n",
        "## Keras fit e fit_generator: https://acervolima.com/keras-fit-e-keras-fit_generator/\n",
        "## keras fit, fit_generator e train_on_batch: https://studymachinelearning-com.translate.goog/keras-fit-fit_generator-train_on_batch/?_x_tr_sl=en&_x_tr_tl=pt&_x_tr_hl=pt-BR&_x_tr_pto=sc\n",
        "## Código usando o fit_generator: https://github.com/Ekeany/Siamese-Network-with-Triplet-Loss/blob/master/MachinePart1.ipynb\n",
        "## explicação axis=-1: https://stackoverflow-com.translate.goog/questions/47435526/what-is-the-meaning-of-axis-1-in-keras-argmax?_x_tr_sl=en&_x_tr_tl=pt&_x_tr_hl=pt-BR&_x_tr_pto=sc\n",
        "## explicação max pooling: https://www.quora.com/What-is-Max-Pooling-2D"
      ]
    },
    {
      "cell_type": "code",
      "source": [
        "!pip install -q -U tensorflow-addons"
      ],
      "metadata": {
        "id": "xpigSnf40jOP"
      },
      "execution_count": 1,
      "outputs": []
    },
    {
      "cell_type": "code",
      "source": [
        "import tensorflow_datasets as tfds\n",
        "import tensorflow_addons as tfa\n",
        "import matplotlib.pyplot as plt\n",
        "from tensorflow import keras\n",
        "from keras import layers\n",
        "import tensorflow as tf\n",
        "from tqdm import tqdm\n",
        "import numpy as np\n",
        "import os"
      ],
      "metadata": {
        "id": "LAjn-Lhi0wFB"
      },
      "execution_count": 2,
      "outputs": []
    },
    {
      "cell_type": "markdown",
      "source": [
        "# Dataset"
      ],
      "metadata": {
        "id": "D8MXlmFfsX49"
      }
    },
    {
      "cell_type": "code",
      "source": [
        "def _normalize_img(img, label):\n",
        "    img = tf.cast(img, tf.float32)\n",
        "    return (img, label)\n",
        "\n",
        "train_ds, test_dataset = tfds.load(name=\"mnist\", split=['train', 'test'], as_supervised=True)\n",
        "\n",
        "# Build your input pipelines\n",
        "train_ds = train_ds.shuffle(1024).batch(128)\n",
        "\n",
        "train_ds = train_ds.map(_normalize_img)\n",
        "\n",
        "test_dataset = test_dataset.batch(32)\n",
        "test_dataset = test_dataset.map(_normalize_img)"
      ],
      "metadata": {
        "id": "046l0i-i016r"
      },
      "execution_count": 3,
      "outputs": []
    },
    {
      "cell_type": "markdown",
      "source": [
        "# Modelo"
      ],
      "metadata": {
        "id": "M1cQVQyr6aU4"
      }
    },
    {
      "cell_type": "code",
      "source": [
        "# https://paperswithcode.com/paper/network-in-network (artigo da rede)\n",
        "# https://github.com/minoring/nin-tf2/blob/master/model.py (Código de referência)\n",
        "\n",
        "def define_nin(input_shape):\n",
        "  \"\"\"Define Network in Network model\n",
        "  Returns:\n",
        "    tf.keras.Model of NIN\n",
        "  \"\"\"\n",
        "  input_tensor = keras.Input(shape=input_shape)\n",
        "  scale_layer = tf.keras.layers.experimental.preprocessing.Rescaling(scale=1 / 127.5, offset=-1)\n",
        "  x = scale_layer(input_tensor)\n",
        "  \n",
        "  x = layers.Conv2D(192, 5, activation='relu')(x)\n",
        "  x = layers.Conv2D(160, 1, activation='relu')(x)\n",
        "  x = layers.Conv2D(96, 1, activation='relu')(x)\n",
        "  x = layers.MaxPool2D(2, strides=2, padding='same')(x)\n",
        "  x = layers.Dropout(0.5)(x)\n",
        "\n",
        "  x = layers.Conv2D(192, 5, activation='relu')(x)\n",
        "  x = layers.Conv2D(192, 1, activation='relu')(x)\n",
        "  x = layers.Conv2D(192, 1, activation='relu')(x)\n",
        "  x = layers.MaxPool2D(2, strides=2, padding='same')(x)\n",
        "  x = layers.Dropout(0.5)(x)\n",
        "\n",
        "  x = layers.Conv2D(192, 3, activation='relu')(x)\n",
        "  x = layers.Conv2D(192, 1, activation='relu')(x)\n",
        "  x = layers.Conv2D(10, 1, activation='relu')(x)\n",
        "  x = layers.AveragePooling2D(pool_size=(2, 2))(x)\n",
        "  x = layers.Flatten()(x)\n",
        "  x = layers.Dense(10, kernel_regularizer= tf.keras.regularizers.L2(1e-3))(x)\n",
        "  output_tensor = layers.Lambda(lambda x: tf.math.l2_normalize(x,axis=-1))(x)\n",
        "\n",
        "  return tf.keras.Model(input_tensor, output_tensor, name = \"Arquitetura_NIN\")"
      ],
      "metadata": {
        "id": "0oCUDAA96bIa"
      },
      "execution_count": 4,
      "outputs": []
    },
    {
      "cell_type": "markdown",
      "source": [
        "# Treinamento"
      ],
      "metadata": {
        "id": "1MhVLaXO_dqc"
      }
    },
    {
      "cell_type": "code",
      "source": [
        "# referencia dos hiperparametros: https://proceedings.neurips.cc/paper/2012/file/c399862d3b9d6b76c8436e924a68c45b-Paper.pdf\n",
        "#                                 https://arxiv.org/pdf/1312.4400v3.pdf"
      ],
      "metadata": {
        "id": "WAZV_4JL7PYI"
      },
      "execution_count": null,
      "outputs": []
    },
    {
      "cell_type": "code",
      "source": [
        "my_callbacks = [\n",
        "    tf.keras.callbacks.EarlyStopping(patience=60, monitor=\"loss\", restore_best_weights=True),\n",
        "    tf.keras.callbacks.ReduceLROnPlateau(monitor=\"loss\", mode = \"min\", patience = 10, factor=0.1, min_lr=0.000000000001, verbose = 0)\n",
        "  ]"
      ],
      "metadata": {
        "id": "MrTdAHK68yuo"
      },
      "execution_count": 5,
      "outputs": []
    },
    {
      "cell_type": "code",
      "source": [
        "model = define_nin((28, 28, 1))\n",
        "model.compile(optimizer=tf.keras.optimizers.Adam(0.01), loss=tfa.losses.TripletSemiHardLoss())"
      ],
      "metadata": {
        "id": "UgSGQraB8dgl"
      },
      "execution_count": 6,
      "outputs": []
    },
    {
      "cell_type": "code",
      "source": [
        "!nvidia-smi\n",
        "historico = model.fit(train_ds, epochs=200, callbacks=my_callbacks)\n",
        "model.save(\"embedding_model_nin.h5\")"
      ],
      "metadata": {
        "colab": {
          "base_uri": "https://localhost:8080/"
        },
        "id": "doirXWIrpCj4",
        "outputId": "fdf7c591-cba0-4632-f89d-855fcfdff20c"
      },
      "execution_count": 7,
      "outputs": [
        {
          "output_type": "stream",
          "name": "stdout",
          "text": [
            "Thu Mar  2 15:25:34 2023       \n",
            "+-----------------------------------------------------------------------------+\n",
            "| NVIDIA-SMI 525.85.12    Driver Version: 525.85.12    CUDA Version: 12.0     |\n",
            "|-------------------------------+----------------------+----------------------+\n",
            "| GPU  Name        Persistence-M| Bus-Id        Disp.A | Volatile Uncorr. ECC |\n",
            "| Fan  Temp  Perf  Pwr:Usage/Cap|         Memory-Usage | GPU-Util  Compute M. |\n",
            "|                               |                      |               MIG M. |\n",
            "|===============================+======================+======================|\n",
            "|   0  Tesla T4            Off  | 00000000:00:04.0 Off |                    0 |\n",
            "| N/A   74C    P0    30W /  70W |    347MiB / 15360MiB |      0%      Default |\n",
            "|                               |                      |                  N/A |\n",
            "+-------------------------------+----------------------+----------------------+\n",
            "                                                                               \n",
            "+-----------------------------------------------------------------------------+\n",
            "| Processes:                                                                  |\n",
            "|  GPU   GI   CI        PID   Type   Process name                  GPU Memory |\n",
            "|        ID   ID                                                   Usage      |\n",
            "|=============================================================================|\n",
            "+-----------------------------------------------------------------------------+\n",
            "Epoch 1/200\n",
            "469/469 [==============================] - 21s 28ms/step - loss: 0.9171 - lr: 0.0100\n",
            "Epoch 2/200\n",
            "469/469 [==============================] - 12s 26ms/step - loss: 0.5307 - lr: 0.0100\n",
            "Epoch 3/200\n",
            "469/469 [==============================] - 12s 26ms/step - loss: 0.2974 - lr: 0.0100\n",
            "Epoch 4/200\n",
            "469/469 [==============================] - 12s 26ms/step - loss: 0.2361 - lr: 0.0100\n",
            "Epoch 5/200\n",
            "469/469 [==============================] - 12s 26ms/step - loss: 0.2121 - lr: 0.0100\n",
            "Epoch 6/200\n",
            "469/469 [==============================] - 12s 26ms/step - loss: 0.1794 - lr: 0.0100\n",
            "Epoch 7/200\n",
            "469/469 [==============================] - 12s 26ms/step - loss: 0.1693 - lr: 0.0100\n",
            "Epoch 8/200\n",
            "469/469 [==============================] - 12s 26ms/step - loss: 0.1498 - lr: 0.0100\n",
            "Epoch 9/200\n",
            "469/469 [==============================] - 12s 26ms/step - loss: 0.1396 - lr: 0.0100\n",
            "Epoch 10/200\n",
            "469/469 [==============================] - 12s 26ms/step - loss: 0.1286 - lr: 0.0100\n",
            "Epoch 11/200\n",
            "469/469 [==============================] - 12s 25ms/step - loss: 0.1224 - lr: 0.0100\n",
            "Epoch 12/200\n",
            "469/469 [==============================] - 12s 26ms/step - loss: 0.1169 - lr: 0.0100\n",
            "Epoch 13/200\n",
            "469/469 [==============================] - 12s 26ms/step - loss: 0.1141 - lr: 0.0100\n",
            "Epoch 14/200\n",
            "469/469 [==============================] - 12s 26ms/step - loss: 0.1002 - lr: 0.0100\n",
            "Epoch 15/200\n",
            "469/469 [==============================] - 12s 25ms/step - loss: 0.0957 - lr: 0.0100\n",
            "Epoch 16/200\n",
            "469/469 [==============================] - 12s 25ms/step - loss: 0.0882 - lr: 0.0100\n",
            "Epoch 17/200\n",
            "469/469 [==============================] - 12s 25ms/step - loss: 0.0960 - lr: 0.0100\n",
            "Epoch 18/200\n",
            "469/469 [==============================] - 12s 26ms/step - loss: 0.0908 - lr: 0.0100\n",
            "Epoch 19/200\n",
            "469/469 [==============================] - 12s 25ms/step - loss: 0.0904 - lr: 0.0100\n",
            "Epoch 20/200\n",
            "469/469 [==============================] - 12s 26ms/step - loss: 0.0845 - lr: 0.0100\n",
            "Epoch 21/200\n",
            "469/469 [==============================] - 12s 26ms/step - loss: 0.0794 - lr: 0.0100\n",
            "Epoch 22/200\n",
            "469/469 [==============================] - 12s 26ms/step - loss: 0.0713 - lr: 0.0100\n",
            "Epoch 23/200\n",
            "469/469 [==============================] - 12s 26ms/step - loss: 0.0786 - lr: 0.0100\n",
            "Epoch 24/200\n",
            "469/469 [==============================] - 12s 25ms/step - loss: 0.0791 - lr: 0.0100\n",
            "Epoch 25/200\n",
            "469/469 [==============================] - 12s 25ms/step - loss: 0.0681 - lr: 0.0100\n",
            "Epoch 26/200\n",
            "469/469 [==============================] - 12s 25ms/step - loss: 0.0776 - lr: 0.0100\n",
            "Epoch 27/200\n",
            "469/469 [==============================] - 12s 25ms/step - loss: 0.0638 - lr: 0.0100\n",
            "Epoch 28/200\n",
            "469/469 [==============================] - 12s 25ms/step - loss: 0.0664 - lr: 0.0100\n",
            "Epoch 29/200\n",
            "469/469 [==============================] - 12s 26ms/step - loss: 0.0627 - lr: 0.0100\n",
            "Epoch 30/200\n",
            "469/469 [==============================] - 12s 26ms/step - loss: 0.0575 - lr: 0.0100\n",
            "Epoch 31/200\n",
            "469/469 [==============================] - 12s 25ms/step - loss: 0.0606 - lr: 0.0100\n",
            "Epoch 32/200\n",
            "469/469 [==============================] - 12s 25ms/step - loss: 0.0574 - lr: 0.0100\n",
            "Epoch 33/200\n",
            "469/469 [==============================] - 12s 26ms/step - loss: 0.0570 - lr: 0.0100\n",
            "Epoch 34/200\n",
            "469/469 [==============================] - 12s 26ms/step - loss: 0.0658 - lr: 0.0100\n",
            "Epoch 35/200\n",
            "469/469 [==============================] - 12s 25ms/step - loss: 0.0541 - lr: 0.0100\n",
            "Epoch 36/200\n",
            "469/469 [==============================] - 12s 25ms/step - loss: 0.0550 - lr: 0.0100\n",
            "Epoch 37/200\n",
            "469/469 [==============================] - 12s 25ms/step - loss: 0.0542 - lr: 0.0100\n",
            "Epoch 38/200\n",
            "469/469 [==============================] - 12s 25ms/step - loss: 0.0446 - lr: 0.0100\n",
            "Epoch 39/200\n",
            "469/469 [==============================] - 12s 25ms/step - loss: 0.0541 - lr: 0.0100\n",
            "Epoch 40/200\n",
            "469/469 [==============================] - 12s 25ms/step - loss: 0.0494 - lr: 0.0100\n",
            "Epoch 41/200\n",
            "469/469 [==============================] - 12s 25ms/step - loss: 0.0447 - lr: 0.0100\n",
            "Epoch 42/200\n",
            "469/469 [==============================] - 12s 25ms/step - loss: 0.0451 - lr: 0.0100\n",
            "Epoch 43/200\n",
            "469/469 [==============================] - 12s 25ms/step - loss: 0.0467 - lr: 0.0100\n",
            "Epoch 44/200\n",
            "469/469 [==============================] - 12s 25ms/step - loss: 0.0435 - lr: 0.0100\n",
            "Epoch 45/200\n",
            "469/469 [==============================] - 12s 25ms/step - loss: 0.0431 - lr: 0.0100\n",
            "Epoch 46/200\n",
            "469/469 [==============================] - 12s 25ms/step - loss: 0.0442 - lr: 0.0100\n",
            "Epoch 47/200\n",
            "469/469 [==============================] - 12s 26ms/step - loss: 0.0427 - lr: 0.0100\n",
            "Epoch 48/200\n",
            "469/469 [==============================] - 12s 26ms/step - loss: 0.0432 - lr: 0.0100\n",
            "Epoch 49/200\n",
            "469/469 [==============================] - 12s 26ms/step - loss: 0.0394 - lr: 0.0100\n",
            "Epoch 50/200\n",
            "469/469 [==============================] - 12s 25ms/step - loss: 0.0455 - lr: 0.0100\n",
            "Epoch 51/200\n",
            "469/469 [==============================] - 12s 25ms/step - loss: 0.0421 - lr: 0.0100\n",
            "Epoch 52/200\n",
            "469/469 [==============================] - 12s 25ms/step - loss: 0.0349 - lr: 0.0100\n",
            "Epoch 53/200\n",
            "469/469 [==============================] - 12s 26ms/step - loss: 0.0409 - lr: 0.0100\n",
            "Epoch 54/200\n",
            "469/469 [==============================] - 12s 26ms/step - loss: 0.0412 - lr: 0.0100\n",
            "Epoch 55/200\n",
            "469/469 [==============================] - 12s 25ms/step - loss: 0.0388 - lr: 0.0100\n",
            "Epoch 56/200\n",
            "469/469 [==============================] - 12s 25ms/step - loss: 0.0400 - lr: 0.0100\n",
            "Epoch 57/200\n",
            "469/469 [==============================] - 12s 25ms/step - loss: 0.0338 - lr: 0.0100\n",
            "Epoch 58/200\n",
            "469/469 [==============================] - 12s 25ms/step - loss: 0.0312 - lr: 0.0100\n",
            "Epoch 59/200\n",
            "469/469 [==============================] - 12s 25ms/step - loss: 0.0321 - lr: 0.0100\n",
            "Epoch 60/200\n",
            "469/469 [==============================] - 12s 25ms/step - loss: 0.0374 - lr: 0.0100\n",
            "Epoch 61/200\n",
            "469/469 [==============================] - 12s 26ms/step - loss: 0.0362 - lr: 0.0100\n",
            "Epoch 62/200\n",
            "469/469 [==============================] - 12s 26ms/step - loss: 0.0319 - lr: 0.0100\n",
            "Epoch 63/200\n",
            "469/469 [==============================] - 12s 26ms/step - loss: 0.0306 - lr: 0.0100\n",
            "Epoch 64/200\n",
            "469/469 [==============================] - 12s 25ms/step - loss: 0.0370 - lr: 0.0100\n",
            "Epoch 65/200\n",
            "469/469 [==============================] - 12s 25ms/step - loss: 0.0326 - lr: 0.0100\n",
            "Epoch 66/200\n",
            "469/469 [==============================] - 12s 25ms/step - loss: 0.0342 - lr: 0.0100\n",
            "Epoch 67/200\n",
            "469/469 [==============================] - 12s 25ms/step - loss: 0.0314 - lr: 0.0100\n",
            "Epoch 68/200\n",
            "469/469 [==============================] - 12s 25ms/step - loss: 0.0331 - lr: 0.0100\n",
            "Epoch 69/200\n",
            "469/469 [==============================] - 12s 25ms/step - loss: 0.0333 - lr: 0.0100\n",
            "Epoch 70/200\n",
            "469/469 [==============================] - 12s 25ms/step - loss: 0.0305 - lr: 0.0100\n",
            "Epoch 71/200\n",
            "469/469 [==============================] - 12s 25ms/step - loss: 0.0350 - lr: 0.0100\n",
            "Epoch 72/200\n",
            "469/469 [==============================] - 12s 25ms/step - loss: 0.0354 - lr: 0.0100\n",
            "Epoch 73/200\n",
            "469/469 [==============================] - 12s 25ms/step - loss: 0.0246 - lr: 0.0100\n",
            "Epoch 74/200\n",
            "469/469 [==============================] - 12s 26ms/step - loss: 0.0281 - lr: 0.0100\n",
            "Epoch 75/200\n",
            "469/469 [==============================] - 12s 26ms/step - loss: 0.0308 - lr: 0.0100\n",
            "Epoch 76/200\n",
            "469/469 [==============================] - 12s 26ms/step - loss: 0.0295 - lr: 0.0100\n",
            "Epoch 77/200\n",
            "469/469 [==============================] - 12s 25ms/step - loss: 0.0270 - lr: 0.0100\n",
            "Epoch 78/200\n",
            "469/469 [==============================] - 12s 25ms/step - loss: 0.0310 - lr: 0.0100\n",
            "Epoch 79/200\n",
            "469/469 [==============================] - 12s 25ms/step - loss: 0.0299 - lr: 0.0100\n",
            "Epoch 80/200\n",
            "469/469 [==============================] - 12s 25ms/step - loss: 0.0270 - lr: 0.0100\n",
            "Epoch 81/200\n",
            "469/469 [==============================] - 12s 25ms/step - loss: 0.0308 - lr: 0.0100\n",
            "Epoch 82/200\n",
            "469/469 [==============================] - 12s 25ms/step - loss: 0.0247 - lr: 0.0100\n",
            "Epoch 83/200\n",
            "469/469 [==============================] - 12s 25ms/step - loss: 0.0272 - lr: 0.0100\n",
            "Epoch 84/200\n",
            "469/469 [==============================] - 12s 25ms/step - loss: 0.0186 - lr: 1.0000e-03\n",
            "Epoch 85/200\n",
            "469/469 [==============================] - 12s 25ms/step - loss: 0.0156 - lr: 1.0000e-03\n",
            "Epoch 86/200\n",
            "469/469 [==============================] - 12s 25ms/step - loss: 0.0151 - lr: 1.0000e-03\n",
            "Epoch 87/200\n",
            "469/469 [==============================] - 12s 26ms/step - loss: 0.0128 - lr: 1.0000e-03\n",
            "Epoch 88/200\n",
            "469/469 [==============================] - 12s 25ms/step - loss: 0.0146 - lr: 1.0000e-03\n",
            "Epoch 89/200\n",
            "469/469 [==============================] - 12s 26ms/step - loss: 0.0127 - lr: 1.0000e-03\n",
            "Epoch 90/200\n",
            "469/469 [==============================] - 12s 25ms/step - loss: 0.0119 - lr: 1.0000e-03\n",
            "Epoch 91/200\n",
            "469/469 [==============================] - 12s 26ms/step - loss: 0.0100 - lr: 1.0000e-03\n",
            "Epoch 92/200\n",
            "469/469 [==============================] - 12s 26ms/step - loss: 0.0121 - lr: 1.0000e-03\n",
            "Epoch 93/200\n",
            "469/469 [==============================] - 12s 25ms/step - loss: 0.0116 - lr: 1.0000e-03\n",
            "Epoch 94/200\n",
            "469/469 [==============================] - 12s 25ms/step - loss: 0.0099 - lr: 1.0000e-03\n",
            "Epoch 95/200\n",
            "469/469 [==============================] - 12s 26ms/step - loss: 0.0113 - lr: 1.0000e-03\n",
            "Epoch 96/200\n",
            "469/469 [==============================] - 12s 26ms/step - loss: 0.0101 - lr: 1.0000e-03\n",
            "Epoch 97/200\n",
            "469/469 [==============================] - 12s 25ms/step - loss: 0.0087 - lr: 1.0000e-03\n",
            "Epoch 98/200\n",
            "469/469 [==============================] - 12s 25ms/step - loss: 0.0120 - lr: 1.0000e-03\n",
            "Epoch 99/200\n",
            "469/469 [==============================] - 12s 25ms/step - loss: 0.0105 - lr: 1.0000e-03\n",
            "Epoch 100/200\n",
            "469/469 [==============================] - 12s 25ms/step - loss: 0.0104 - lr: 1.0000e-03\n",
            "Epoch 101/200\n",
            "469/469 [==============================] - 12s 25ms/step - loss: 0.0096 - lr: 1.0000e-03\n",
            "Epoch 102/200\n",
            "469/469 [==============================] - 12s 25ms/step - loss: 0.0091 - lr: 1.0000e-03\n",
            "Epoch 103/200\n",
            "469/469 [==============================] - 12s 25ms/step - loss: 0.0098 - lr: 1.0000e-03\n",
            "Epoch 104/200\n",
            "469/469 [==============================] - 12s 25ms/step - loss: 0.0081 - lr: 1.0000e-03\n",
            "Epoch 105/200\n",
            "469/469 [==============================] - 12s 25ms/step - loss: 0.0085 - lr: 1.0000e-03\n",
            "Epoch 106/200\n",
            "469/469 [==============================] - 12s 26ms/step - loss: 0.0092 - lr: 1.0000e-03\n",
            "Epoch 107/200\n",
            "469/469 [==============================] - 12s 25ms/step - loss: 0.0085 - lr: 1.0000e-03\n",
            "Epoch 108/200\n",
            "469/469 [==============================] - 12s 25ms/step - loss: 0.0096 - lr: 1.0000e-03\n",
            "Epoch 109/200\n",
            "469/469 [==============================] - 12s 25ms/step - loss: 0.0088 - lr: 1.0000e-03\n",
            "Epoch 110/200\n",
            "469/469 [==============================] - 12s 25ms/step - loss: 0.0081 - lr: 1.0000e-03\n",
            "Epoch 111/200\n",
            "469/469 [==============================] - 12s 25ms/step - loss: 0.0087 - lr: 1.0000e-03\n",
            "Epoch 112/200\n",
            "469/469 [==============================] - 12s 26ms/step - loss: 0.0079 - lr: 1.0000e-03\n",
            "Epoch 113/200\n",
            "469/469 [==============================] - 12s 26ms/step - loss: 0.0073 - lr: 1.0000e-03\n",
            "Epoch 114/200\n",
            "469/469 [==============================] - 12s 25ms/step - loss: 0.0073 - lr: 1.0000e-03\n",
            "Epoch 115/200\n",
            "469/469 [==============================] - 12s 25ms/step - loss: 0.0096 - lr: 1.0000e-03\n",
            "Epoch 116/200\n",
            "469/469 [==============================] - 12s 25ms/step - loss: 0.0069 - lr: 1.0000e-03\n",
            "Epoch 117/200\n",
            "469/469 [==============================] - 12s 25ms/step - loss: 0.0070 - lr: 1.0000e-03\n",
            "Epoch 118/200\n",
            "469/469 [==============================] - 12s 25ms/step - loss: 0.0073 - lr: 1.0000e-03\n",
            "Epoch 119/200\n",
            "469/469 [==============================] - 12s 25ms/step - loss: 0.0073 - lr: 1.0000e-03\n",
            "Epoch 120/200\n",
            "469/469 [==============================] - 12s 25ms/step - loss: 0.0085 - lr: 1.0000e-03\n",
            "Epoch 121/200\n",
            "469/469 [==============================] - 12s 25ms/step - loss: 0.0064 - lr: 1.0000e-03\n",
            "Epoch 122/200\n",
            "469/469 [==============================] - 12s 25ms/step - loss: 0.0086 - lr: 1.0000e-03\n",
            "Epoch 123/200\n",
            "469/469 [==============================] - 12s 25ms/step - loss: 0.0081 - lr: 1.0000e-03\n",
            "Epoch 124/200\n",
            "469/469 [==============================] - 12s 26ms/step - loss: 0.0083 - lr: 1.0000e-03\n",
            "Epoch 125/200\n",
            "469/469 [==============================] - 12s 26ms/step - loss: 0.0087 - lr: 1.0000e-03\n",
            "Epoch 126/200\n",
            "469/469 [==============================] - 12s 26ms/step - loss: 0.0069 - lr: 1.0000e-03\n",
            "Epoch 127/200\n",
            "469/469 [==============================] - 12s 25ms/step - loss: 0.0056 - lr: 1.0000e-03\n",
            "Epoch 128/200\n",
            "469/469 [==============================] - 12s 25ms/step - loss: 0.0069 - lr: 1.0000e-03\n",
            "Epoch 129/200\n",
            "469/469 [==============================] - 12s 25ms/step - loss: 0.0068 - lr: 1.0000e-03\n",
            "Epoch 130/200\n",
            "469/469 [==============================] - 12s 25ms/step - loss: 0.0066 - lr: 1.0000e-03\n",
            "Epoch 131/200\n",
            "469/469 [==============================] - 12s 25ms/step - loss: 0.0057 - lr: 1.0000e-03\n",
            "Epoch 132/200\n",
            "469/469 [==============================] - 12s 26ms/step - loss: 0.0065 - lr: 1.0000e-03\n",
            "Epoch 133/200\n",
            "469/469 [==============================] - 12s 26ms/step - loss: 0.0053 - lr: 1.0000e-03\n",
            "Epoch 134/200\n",
            "469/469 [==============================] - 12s 26ms/step - loss: 0.0065 - lr: 1.0000e-03\n",
            "Epoch 135/200\n",
            "469/469 [==============================] - 12s 25ms/step - loss: 0.0062 - lr: 1.0000e-03\n",
            "Epoch 136/200\n",
            "469/469 [==============================] - 12s 25ms/step - loss: 0.0061 - lr: 1.0000e-03\n",
            "Epoch 137/200\n",
            "469/469 [==============================] - 12s 25ms/step - loss: 0.0060 - lr: 1.0000e-03\n",
            "Epoch 138/200\n",
            "469/469 [==============================] - 12s 25ms/step - loss: 0.0069 - lr: 1.0000e-03\n",
            "Epoch 139/200\n",
            "469/469 [==============================] - 12s 25ms/step - loss: 0.0065 - lr: 1.0000e-03\n",
            "Epoch 140/200\n",
            "469/469 [==============================] - 12s 25ms/step - loss: 0.0056 - lr: 1.0000e-03\n",
            "Epoch 141/200\n",
            "469/469 [==============================] - 12s 25ms/step - loss: 0.0055 - lr: 1.0000e-03\n",
            "Epoch 142/200\n",
            "469/469 [==============================] - 12s 26ms/step - loss: 0.0054 - lr: 1.0000e-03\n",
            "Epoch 143/200\n",
            "469/469 [==============================] - 12s 26ms/step - loss: 0.0066 - lr: 1.0000e-03\n",
            "Epoch 144/200\n",
            "469/469 [==============================] - 12s 26ms/step - loss: 0.0058 - lr: 1.0000e-04\n",
            "Epoch 145/200\n",
            "469/469 [==============================] - 12s 25ms/step - loss: 0.0044 - lr: 1.0000e-04\n",
            "Epoch 146/200\n",
            "469/469 [==============================] - 12s 25ms/step - loss: 0.0064 - lr: 1.0000e-04\n",
            "Epoch 147/200\n",
            "469/469 [==============================] - 12s 26ms/step - loss: 0.0062 - lr: 1.0000e-04\n",
            "Epoch 148/200\n",
            "469/469 [==============================] - 12s 26ms/step - loss: 0.0046 - lr: 1.0000e-04\n",
            "Epoch 149/200\n",
            "469/469 [==============================] - 12s 26ms/step - loss: 0.0047 - lr: 1.0000e-04\n",
            "Epoch 150/200\n",
            "469/469 [==============================] - 12s 26ms/step - loss: 0.0052 - lr: 1.0000e-04\n",
            "Epoch 151/200\n",
            "469/469 [==============================] - 12s 26ms/step - loss: 0.0047 - lr: 1.0000e-04\n",
            "Epoch 152/200\n",
            "469/469 [==============================] - 12s 26ms/step - loss: 0.0048 - lr: 1.0000e-04\n",
            "Epoch 153/200\n",
            "469/469 [==============================] - 12s 26ms/step - loss: 0.0057 - lr: 1.0000e-04\n",
            "Epoch 154/200\n",
            "469/469 [==============================] - 12s 26ms/step - loss: 0.0051 - lr: 1.0000e-04\n",
            "Epoch 155/200\n",
            "469/469 [==============================] - 12s 26ms/step - loss: 0.0047 - lr: 1.0000e-04\n",
            "Epoch 156/200\n",
            "469/469 [==============================] - 12s 26ms/step - loss: 0.0055 - lr: 1.0000e-04\n",
            "Epoch 157/200\n",
            "469/469 [==============================] - 12s 26ms/step - loss: 0.0042 - lr: 1.0000e-04\n",
            "Epoch 158/200\n",
            "469/469 [==============================] - 12s 26ms/step - loss: 0.0051 - lr: 1.0000e-04\n",
            "Epoch 159/200\n",
            "469/469 [==============================] - 12s 25ms/step - loss: 0.0058 - lr: 1.0000e-04\n",
            "Epoch 160/200\n",
            "469/469 [==============================] - 12s 25ms/step - loss: 0.0048 - lr: 1.0000e-04\n",
            "Epoch 161/200\n",
            "469/469 [==============================] - 12s 25ms/step - loss: 0.0048 - lr: 1.0000e-04\n",
            "Epoch 162/200\n",
            "469/469 [==============================] - 12s 26ms/step - loss: 0.0049 - lr: 1.0000e-04\n",
            "Epoch 163/200\n",
            "469/469 [==============================] - 12s 26ms/step - loss: 0.0051 - lr: 1.0000e-04\n",
            "Epoch 164/200\n",
            "469/469 [==============================] - 12s 26ms/step - loss: 0.0048 - lr: 1.0000e-04\n",
            "Epoch 165/200\n",
            "469/469 [==============================] - 12s 26ms/step - loss: 0.0053 - lr: 1.0000e-04\n",
            "Epoch 166/200\n",
            "469/469 [==============================] - 12s 26ms/step - loss: 0.0048 - lr: 1.0000e-04\n",
            "Epoch 167/200\n",
            "469/469 [==============================] - 12s 25ms/step - loss: 0.0056 - lr: 1.0000e-04\n",
            "Epoch 168/200\n",
            "469/469 [==============================] - 12s 26ms/step - loss: 0.0056 - lr: 1.0000e-04\n",
            "Epoch 169/200\n",
            "469/469 [==============================] - 12s 26ms/step - loss: 0.0048 - lr: 1.0000e-04\n",
            "Epoch 170/200\n",
            "469/469 [==============================] - 12s 26ms/step - loss: 0.0042 - lr: 1.0000e-04\n",
            "Epoch 171/200\n",
            "469/469 [==============================] - 12s 26ms/step - loss: 0.0055 - lr: 1.0000e-04\n",
            "Epoch 172/200\n",
            "469/469 [==============================] - 12s 26ms/step - loss: 0.0047 - lr: 1.0000e-04\n",
            "Epoch 173/200\n",
            "469/469 [==============================] - 12s 26ms/step - loss: 0.0038 - lr: 1.0000e-04\n",
            "Epoch 174/200\n",
            "469/469 [==============================] - 12s 26ms/step - loss: 0.0054 - lr: 1.0000e-04\n",
            "Epoch 175/200\n",
            "469/469 [==============================] - 12s 26ms/step - loss: 0.0054 - lr: 1.0000e-04\n",
            "Epoch 176/200\n",
            "469/469 [==============================] - 12s 26ms/step - loss: 0.0049 - lr: 1.0000e-04\n",
            "Epoch 177/200\n",
            "469/469 [==============================] - 12s 26ms/step - loss: 0.0049 - lr: 1.0000e-04\n",
            "Epoch 178/200\n",
            "469/469 [==============================] - 12s 26ms/step - loss: 0.0054 - lr: 1.0000e-04\n",
            "Epoch 179/200\n",
            "469/469 [==============================] - 12s 26ms/step - loss: 0.0041 - lr: 1.0000e-04\n",
            "Epoch 180/200\n",
            "469/469 [==============================] - 12s 26ms/step - loss: 0.0048 - lr: 1.0000e-04\n",
            "Epoch 181/200\n",
            "469/469 [==============================] - 12s 26ms/step - loss: 0.0049 - lr: 1.0000e-04\n",
            "Epoch 182/200\n",
            "469/469 [==============================] - 12s 26ms/step - loss: 0.0052 - lr: 1.0000e-04\n",
            "Epoch 183/200\n",
            "469/469 [==============================] - 12s 26ms/step - loss: 0.0063 - lr: 1.0000e-04\n",
            "Epoch 184/200\n",
            "469/469 [==============================] - 12s 26ms/step - loss: 0.0049 - lr: 1.0000e-04\n",
            "Epoch 185/200\n",
            "469/469 [==============================] - 12s 26ms/step - loss: 0.0056 - lr: 1.0000e-04\n",
            "Epoch 186/200\n",
            "469/469 [==============================] - 12s 26ms/step - loss: 0.0044 - lr: 1.0000e-04\n",
            "Epoch 187/200\n",
            "469/469 [==============================] - 12s 26ms/step - loss: 0.0040 - lr: 1.0000e-04\n",
            "Epoch 188/200\n",
            "469/469 [==============================] - 12s 26ms/step - loss: 0.0044 - lr: 1.0000e-04\n",
            "Epoch 189/200\n",
            "469/469 [==============================] - 12s 26ms/step - loss: 0.0054 - lr: 1.0000e-04\n",
            "Epoch 190/200\n",
            "469/469 [==============================] - 12s 26ms/step - loss: 0.0043 - lr: 1.0000e-04\n",
            "Epoch 191/200\n",
            "469/469 [==============================] - 12s 26ms/step - loss: 0.0053 - lr: 1.0000e-04\n",
            "Epoch 192/200\n",
            "469/469 [==============================] - 12s 26ms/step - loss: 0.0042 - lr: 1.0000e-04\n",
            "Epoch 193/200\n",
            "469/469 [==============================] - 12s 26ms/step - loss: 0.0052 - lr: 1.0000e-04\n",
            "Epoch 194/200\n",
            "469/469 [==============================] - 12s 26ms/step - loss: 0.0050 - lr: 1.0000e-04\n",
            "Epoch 195/200\n",
            "469/469 [==============================] - 12s 26ms/step - loss: 0.0053 - lr: 1.0000e-04\n",
            "Epoch 196/200\n",
            "469/469 [==============================] - 12s 26ms/step - loss: 0.0050 - lr: 1.0000e-04\n",
            "Epoch 197/200\n",
            "469/469 [==============================] - 12s 26ms/step - loss: 0.0037 - lr: 1.0000e-04\n",
            "Epoch 198/200\n",
            "469/469 [==============================] - 12s 26ms/step - loss: 0.0044 - lr: 1.0000e-04\n",
            "Epoch 199/200\n",
            "469/469 [==============================] - 12s 26ms/step - loss: 0.0049 - lr: 1.0000e-04\n",
            "Epoch 200/200\n",
            "469/469 [==============================] - 12s 26ms/step - loss: 0.0043 - lr: 1.0000e-04\n"
          ]
        }
      ]
    },
    {
      "cell_type": "code",
      "source": [
        "# wfdd"
      ],
      "metadata": {
        "id": "yQLvWv-wqcRd"
      },
      "execution_count": null,
      "outputs": []
    },
    {
      "cell_type": "code",
      "source": [
        "def grafico(historico, nome): \n",
        "\n",
        "  plt.subplots(figsize=(25, 5)) \n",
        "  # Grafico 1: Loss\n",
        "  plt.subplot(1,2,1)\n",
        "  plt.title( nome + ': Loss')\n",
        "  plt.xlabel('Epoch')\n",
        "  plt.ylabel('Cross Entropy')\n",
        "  plt.grid()\n",
        "  plt.yscale(\"log\")\n",
        "  plt.plot(historico.history['loss'], label='Train Loss ', color = 'blue')\n",
        "  plt.legend()\n",
        "\n",
        "  nome_save = os.path.join(\"/content\", nome + \".jpg\")\n",
        "  plt.savefig(nome_save, dpi=400,  transparent=False)\n",
        "  plt.show()\n",
        "\n",
        "grafico(historico, \"Rede Siamesa NIN\")"
      ],
      "metadata": {
        "colab": {
          "base_uri": "https://localhost:8080/",
          "height": 350
        },
        "id": "ZWh9jBoMpqTE",
        "outputId": "5da514f4-dba2-4fbf-f124-7876bd7daeb8"
      },
      "execution_count": 8,
      "outputs": [
        {
          "output_type": "display_data",
          "data": {
            "text/plain": [
              "<Figure size 1800x360 with 1 Axes>"
            ],
            "image/png": "[encoded data removed]"
          },
          "metadata": {
            "needs_background": "light"
          }
        }
      ]
    },
    {
      "cell_type": "markdown",
      "source": [
        "# Testes"
      ],
      "metadata": {
        "id": "fmsiTqYA_bAH"
      }
    },
    {
      "cell_type": "markdown",
      "source": [
        "## Funções"
      ],
      "metadata": {
        "id": "dlWAUyDLWI0e"
      }
    },
    {
      "cell_type": "code",
      "source": [
        "nome = [\"zero\", \"um\", \"dois\", \"tres\", \"quatro\", \"cinco\", \"seis\", \"sete\", \"oito\", \"nove\"]\n",
        "\n",
        "def prepare_database(model):\n",
        "  database = {}\n",
        "  for categoria in range(10):# Busca pra cada uma das 10 categorias\n",
        "    for img, label in test_dataset: # percorre os lotes do dataset\n",
        "      for indice in range(len(label)): # percorre os elementos do lote do dataset\n",
        "        if label[indice] == categoria: # se a categoria do elemento no indice for o mesma da categoria que estou buscando\n",
        "          identity =  nome[categoria] \n",
        "          database[identity] = img_to_encoding(img[indice:indice+1], model)\n",
        "          break\n",
        "      if indice != (len(label)-1): break\n",
        "  return database"
      ],
      "metadata": {
        "id": "dgWxY5PuAQw9"
      },
      "execution_count": 9,
      "outputs": []
    },
    {
      "cell_type": "code",
      "source": [
        "def recognise_class(image, database, model):\n",
        "    encoding = img_to_encoding(image, model)\n",
        "    identity = None\n",
        "    min_dist = 100\n",
        "    for (name, db_enc) in database.items():\n",
        "        \n",
        "        dist = np.linalg.norm(db_enc - encoding)\n",
        "        #print('distance for %s is %s' %(name, dist))\n",
        "        if dist < min_dist:\n",
        "            min_dist = dist\n",
        "            identity = name\n",
        "    \n",
        "    if min_dist > 0.6:\n",
        "        return \"can't recognise.\"\n",
        "    else:\n",
        "        return str(identity)\n",
        "\n",
        "def recognise_class_2(image, database, model):# A diferença dessa pra outra é que ela mostra a distancia\n",
        "    encoding = img_to_encoding(image, model)\n",
        "    identity = None\n",
        "    min_dist = 100\n",
        "    for (name, db_enc) in database.items():\n",
        "        \n",
        "        dist = np.linalg.norm(db_enc - encoding)\n",
        "        print('distance for %s is %s' %(name, dist)) # seria muito ruim ficar mostrando isso para um dataset de 10.000 imagens\n",
        "        if dist < min_dist:\n",
        "            min_dist = dist\n",
        "            identity = name\n",
        "    \n",
        "    if min_dist > 0.6:\n",
        "        return \"can't recognise.\"\n",
        "    else:\n",
        "        return str(identity)"
      ],
      "metadata": {
        "id": "-f11d2wtAUzu"
      },
      "execution_count": 10,
      "outputs": []
    },
    {
      "cell_type": "code",
      "source": [
        "def img_to_encoding(img, model):\n",
        "  embedding = model.predict(img, verbose=0)\n",
        "  return embedding"
      ],
      "metadata": {
        "id": "HXeMnzWOAaNU"
      },
      "execution_count": 11,
      "outputs": []
    },
    {
      "cell_type": "code",
      "source": [
        "def metricas(saida):\n",
        "  certo = 0\n",
        "  errado = 0\n",
        "  incerto = 0\n",
        "  \n",
        "  for resposta in saida:\n",
        "    if resposta[1] == nome[resposta[0]]:\n",
        "      certo += 1\n",
        "    else:\n",
        "      if resposta[1] == \"can't recognise.\":\n",
        "        incerto += 1\n",
        "      else:\n",
        "        if resposta[1] != nome[resposta[0]]:\n",
        "          errado += 1\n",
        "  print()\n",
        "  print(\"Total de imagem: {0}    Certas: {1}   Erradas: {2}   Incertas: {3}\".format(len(saida), certo, errado, incerto))"
      ],
      "metadata": {
        "id": "Zo5XTG-mQ67e"
      },
      "execution_count": 12,
      "outputs": []
    },
    {
      "cell_type": "markdown",
      "source": [
        "## Testes"
      ],
      "metadata": {
        "id": "WyfirMTmWLph"
      }
    },
    {
      "cell_type": "code",
      "source": [
        "database = prepare_database(model)\n",
        "saida = []\n",
        "\n",
        "for img, label in tqdm (test_dataset, desc=\"Testando...\"):\n",
        "  for i in range(len(img)):\n",
        "    classe = recognise_class(img[i:i+1], database, model)\n",
        "    #print(\"id {2}:: Classe Real: {0} >> Classe Prevista: {1}\".format(label[i], classe, i))\n",
        "    saida.append([label[i], classe])\n",
        "\n",
        "metricas(saida)"
      ],
      "metadata": {
        "colab": {
          "base_uri": "https://localhost:8080/"
        },
        "id": "NAQBvdNNjMbt",
        "outputId": "0c4c37ed-a74c-4f2d-d1c6-aa2172dc24c3"
      },
      "execution_count": 13,
      "outputs": [
        {
          "output_type": "stream",
          "name": "stderr",
          "text": [
            "Testando...: 100%|██████████| 313/313 [12:22<00:00,  2.37s/it]\n"
          ]
        },
        {
          "output_type": "stream",
          "name": "stdout",
          "text": [
            "\n",
            "Total de imagem: 10000    Certas: 9945   Erradas: 33   Incertas: 22\n"
          ]
        }
      ]
    },
    {
      "cell_type": "code",
      "source": [
        "classe = recognise_class_2(img[0:1], database, model)\n",
        "print()\n",
        "print(\"Classe Real: {0} >> Classe Prevista: {1}\".format(label[0], classe))"
      ],
      "metadata": {
        "id": "eAqjzRyZZgt-"
      },
      "execution_count": null,
      "outputs": []
    }
  ]
}
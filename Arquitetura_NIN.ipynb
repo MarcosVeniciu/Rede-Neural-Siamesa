{
  "nbformat": 4,
  "nbformat_minor": 0,
  "metadata": {
    "colab": {
      "provenance": [],
      "collapsed_sections": [
        "M1cQVQyr6aU4",
        "1MhVLaXO_dqc",
        "dlWAUyDLWI0e"
      ],
      "authorship_tag": "ABX9TyPdEZFVxziU93jrDuo3tEKx",
      "include_colab_link": true
    },
    "kernelspec": {
      "name": "python3",
      "display_name": "Python 3"
    },
    "language_info": {
      "name": "python"
    },
    "gpuClass": "standard",
    "accelerator": "GPU",
    "widgets": {
      "application/vnd.jupyter.widget-state+json": {
        "0558c7ebd1e04599835365948ad12411": {
          "model_module": "@jupyter-widgets/controls",
          "model_name": "HBoxModel",
          "model_module_version": "1.5.0",
          "state": {
            "_dom_classes": [],
            "_model_module": "@jupyter-widgets/controls",
            "_model_module_version": "1.5.0",
            "_model_name": "HBoxModel",
            "_view_count": null,
            "_view_module": "@jupyter-widgets/controls",
            "_view_module_version": "1.5.0",
            "_view_name": "HBoxView",
            "box_style": "",
            "children": [
              "IPY_MODEL_536009d9b6ad4992a28d314c67e278f8",
              "IPY_MODEL_799519ae1cfb4add8fe045939eee9d9b",
              "IPY_MODEL_a6cbdda34b074353ab65134dc21a7e8b"
            ],
            "layout": "IPY_MODEL_9b493893431b40149ebaa1bd311d46c1"
          }
        },
        "536009d9b6ad4992a28d314c67e278f8": {
          "model_module": "@jupyter-widgets/controls",
          "model_name": "HTMLModel",
          "model_module_version": "1.5.0",
          "state": {
            "_dom_classes": [],
            "_model_module": "@jupyter-widgets/controls",
            "_model_module_version": "1.5.0",
            "_model_name": "HTMLModel",
            "_view_count": null,
            "_view_module": "@jupyter-widgets/controls",
            "_view_module_version": "1.5.0",
            "_view_name": "HTMLView",
            "description": "",
            "description_tooltip": null,
            "layout": "IPY_MODEL_9057e12aed0a47798fe3981610aa916f",
            "placeholder": "​",
            "style": "IPY_MODEL_f8f2e736d9f74a50b0d78d86f9d1038e",
            "value": "Dl Completed...: 100%"
          }
        },
        "799519ae1cfb4add8fe045939eee9d9b": {
          "model_module": "@jupyter-widgets/controls",
          "model_name": "FloatProgressModel",
          "model_module_version": "1.5.0",
          "state": {
            "_dom_classes": [],
            "_model_module": "@jupyter-widgets/controls",
            "_model_module_version": "1.5.0",
            "_model_name": "FloatProgressModel",
            "_view_count": null,
            "_view_module": "@jupyter-widgets/controls",
            "_view_module_version": "1.5.0",
            "_view_name": "ProgressView",
            "bar_style": "success",
            "description": "",
            "description_tooltip": null,
            "layout": "IPY_MODEL_fd85e7214ad04ff2a4fe986144d0e2ad",
            "max": 5,
            "min": 0,
            "orientation": "horizontal",
            "style": "IPY_MODEL_72e70ac530f44c4c8d9aeb5262d26ed7",
            "value": 5
          }
        },
        "a6cbdda34b074353ab65134dc21a7e8b": {
          "model_module": "@jupyter-widgets/controls",
          "model_name": "HTMLModel",
          "model_module_version": "1.5.0",
          "state": {
            "_dom_classes": [],
            "_model_module": "@jupyter-widgets/controls",
            "_model_module_version": "1.5.0",
            "_model_name": "HTMLModel",
            "_view_count": null,
            "_view_module": "@jupyter-widgets/controls",
            "_view_module_version": "1.5.0",
            "_view_name": "HTMLView",
            "description": "",
            "description_tooltip": null,
            "layout": "IPY_MODEL_09f43af091914acc96c6851a9a4dc7db",
            "placeholder": "​",
            "style": "IPY_MODEL_1e2b37d4841e4d71b5c7bec6d333f3c3",
            "value": " 5/5 [00:00&lt;00:00, 18.61 file/s]"
          }
        },
        "9b493893431b40149ebaa1bd311d46c1": {
          "model_module": "@jupyter-widgets/base",
          "model_name": "LayoutModel",
          "model_module_version": "1.2.0",
          "state": {
            "_model_module": "@jupyter-widgets/base",
            "_model_module_version": "1.2.0",
            "_model_name": "LayoutModel",
            "_view_count": null,
            "_view_module": "@jupyter-widgets/base",
            "_view_module_version": "1.2.0",
            "_view_name": "LayoutView",
            "align_content": null,
            "align_items": null,
            "align_self": null,
            "border": null,
            "bottom": null,
            "display": null,
            "flex": null,
            "flex_flow": null,
            "grid_area": null,
            "grid_auto_columns": null,
            "grid_auto_flow": null,
            "grid_auto_rows": null,
            "grid_column": null,
            "grid_gap": null,
            "grid_row": null,
            "grid_template_areas": null,
            "grid_template_columns": null,
            "grid_template_rows": null,
            "height": null,
            "justify_content": null,
            "justify_items": null,
            "left": null,
            "margin": null,
            "max_height": null,
            "max_width": null,
            "min_height": null,
            "min_width": null,
            "object_fit": null,
            "object_position": null,
            "order": null,
            "overflow": null,
            "overflow_x": null,
            "overflow_y": null,
            "padding": null,
            "right": null,
            "top": null,
            "visibility": null,
            "width": null
          }
        },
        "9057e12aed0a47798fe3981610aa916f": {
          "model_module": "@jupyter-widgets/base",
          "model_name": "LayoutModel",
          "model_module_version": "1.2.0",
          "state": {
            "_model_module": "@jupyter-widgets/base",
            "_model_module_version": "1.2.0",
            "_model_name": "LayoutModel",
            "_view_count": null,
            "_view_module": "@jupyter-widgets/base",
            "_view_module_version": "1.2.0",
            "_view_name": "LayoutView",
            "align_content": null,
            "align_items": null,
            "align_self": null,
            "border": null,
            "bottom": null,
            "display": null,
            "flex": null,
            "flex_flow": null,
            "grid_area": null,
            "grid_auto_columns": null,
            "grid_auto_flow": null,
            "grid_auto_rows": null,
            "grid_column": null,
            "grid_gap": null,
            "grid_row": null,
            "grid_template_areas": null,
            "grid_template_columns": null,
            "grid_template_rows": null,
            "height": null,
            "justify_content": null,
            "justify_items": null,
            "left": null,
            "margin": null,
            "max_height": null,
            "max_width": null,
            "min_height": null,
            "min_width": null,
            "object_fit": null,
            "object_position": null,
            "order": null,
            "overflow": null,
            "overflow_x": null,
            "overflow_y": null,
            "padding": null,
            "right": null,
            "top": null,
            "visibility": null,
            "width": null
          }
        },
        "f8f2e736d9f74a50b0d78d86f9d1038e": {
          "model_module": "@jupyter-widgets/controls",
          "model_name": "DescriptionStyleModel",
          "model_module_version": "1.5.0",
          "state": {
            "_model_module": "@jupyter-widgets/controls",
            "_model_module_version": "1.5.0",
            "_model_name": "DescriptionStyleModel",
            "_view_count": null,
            "_view_module": "@jupyter-widgets/base",
            "_view_module_version": "1.2.0",
            "_view_name": "StyleView",
            "description_width": ""
          }
        },
        "fd85e7214ad04ff2a4fe986144d0e2ad": {
          "model_module": "@jupyter-widgets/base",
          "model_name": "LayoutModel",
          "model_module_version": "1.2.0",
          "state": {
            "_model_module": "@jupyter-widgets/base",
            "_model_module_version": "1.2.0",
            "_model_name": "LayoutModel",
            "_view_count": null,
            "_view_module": "@jupyter-widgets/base",
            "_view_module_version": "1.2.0",
            "_view_name": "LayoutView",
            "align_content": null,
            "align_items": null,
            "align_self": null,
            "border": null,
            "bottom": null,
            "display": null,
            "flex": null,
            "flex_flow": null,
            "grid_area": null,
            "grid_auto_columns": null,
            "grid_auto_flow": null,
            "grid_auto_rows": null,
            "grid_column": null,
            "grid_gap": null,
            "grid_row": null,
            "grid_template_areas": null,
            "grid_template_columns": null,
            "grid_template_rows": null,
            "height": null,
            "justify_content": null,
            "justify_items": null,
            "left": null,
            "margin": null,
            "max_height": null,
            "max_width": null,
            "min_height": null,
            "min_width": null,
            "object_fit": null,
            "object_position": null,
            "order": null,
            "overflow": null,
            "overflow_x": null,
            "overflow_y": null,
            "padding": null,
            "right": null,
            "top": null,
            "visibility": null,
            "width": null
          }
        },
        "72e70ac530f44c4c8d9aeb5262d26ed7": {
          "model_module": "@jupyter-widgets/controls",
          "model_name": "ProgressStyleModel",
          "model_module_version": "1.5.0",
          "state": {
            "_model_module": "@jupyter-widgets/controls",
            "_model_module_version": "1.5.0",
            "_model_name": "ProgressStyleModel",
            "_view_count": null,
            "_view_module": "@jupyter-widgets/base",
            "_view_module_version": "1.2.0",
            "_view_name": "StyleView",
            "bar_color": null,
            "description_width": ""
          }
        },
        "09f43af091914acc96c6851a9a4dc7db": {
          "model_module": "@jupyter-widgets/base",
          "model_name": "LayoutModel",
          "model_module_version": "1.2.0",
          "state": {
            "_model_module": "@jupyter-widgets/base",
            "_model_module_version": "1.2.0",
            "_model_name": "LayoutModel",
            "_view_count": null,
            "_view_module": "@jupyter-widgets/base",
            "_view_module_version": "1.2.0",
            "_view_name": "LayoutView",
            "align_content": null,
            "align_items": null,
            "align_self": null,
            "border": null,
            "bottom": null,
            "display": null,
            "flex": null,
            "flex_flow": null,
            "grid_area": null,
            "grid_auto_columns": null,
            "grid_auto_flow": null,
            "grid_auto_rows": null,
            "grid_column": null,
            "grid_gap": null,
            "grid_row": null,
            "grid_template_areas": null,
            "grid_template_columns": null,
            "grid_template_rows": null,
            "height": null,
            "justify_content": null,
            "justify_items": null,
            "left": null,
            "margin": null,
            "max_height": null,
            "max_width": null,
            "min_height": null,
            "min_width": null,
            "object_fit": null,
            "object_position": null,
            "order": null,
            "overflow": null,
            "overflow_x": null,
            "overflow_y": null,
            "padding": null,
            "right": null,
            "top": null,
            "visibility": null,
            "width": null
          }
        },
        "1e2b37d4841e4d71b5c7bec6d333f3c3": {
          "model_module": "@jupyter-widgets/controls",
          "model_name": "DescriptionStyleModel",
          "model_module_version": "1.5.0",
          "state": {
            "_model_module": "@jupyter-widgets/controls",
            "_model_module_version": "1.5.0",
            "_model_name": "DescriptionStyleModel",
            "_view_count": null,
            "_view_module": "@jupyter-widgets/base",
            "_view_module_version": "1.2.0",
            "_view_name": "StyleView",
            "description_width": ""
          }
        }
      }
    }
  },
  "cells": [
    {
      "cell_type": "markdown",
      "metadata": {
        "id": "view-in-github",
        "colab_type": "text"
      },
      "source": [
        "<a href=\"https://colab.research.google.com/github/MarcosVeniciu/Rede-Neural-Siamesa/blob/main/Arquitetura_NIN.ipynb\" target=\"_parent\"><img src=\"https://colab.research.google.com/assets/colab-badge.svg\" alt=\"Open In Colab\"/></a>"
      ]
    },
    {
      "cell_type": "code",
      "execution_count": null,
      "metadata": {
        "id": "-Jbi3j5rfkE2"
      },
      "outputs": [],
      "source": [
        "# Referencias principais\n",
        "## Artigo: https://arxiv.org/pdf/1503.03832.pdf\n",
        "## Código: https://medium.com/@crimy/one-shot-learning-siamese-networks-and-triplet-loss-with-keras-2885ed022352\n",
        "## Gerar Triplets: https://omoindrot.github.io/triplet-loss\n",
        "## Keras triple loss exemplo: https://www.tensorflow.org/addons/tutorials/losses_triplet?hl=pt-br#semihard_online_learning\n",
        "#\n",
        "# Referências\n",
        "## Função de TripletHardLoss: https://www.tensorflow.org/addons/api_docs/python/tfa/losses/TripletHardLoss\n",
        "## Função de TripletSemiHardLoss: https://www.tensorflow.org/addons/api_docs/python/tfa/losses/TripletSemiHardLoss\n",
        "## Triple loss keras:  https://keras.io/examples/vision/siamese_network/ \n",
        "## Keras fit e fit_generator: https://acervolima.com/keras-fit-e-keras-fit_generator/\n",
        "## keras fit, fit_generator e train_on_batch: https://studymachinelearning-com.translate.goog/keras-fit-fit_generator-train_on_batch/?_x_tr_sl=en&_x_tr_tl=pt&_x_tr_hl=pt-BR&_x_tr_pto=sc\n",
        "## Código usando o fit_generator: https://github.com/Ekeany/Siamese-Network-with-Triplet-Loss/blob/master/MachinePart1.ipynb\n",
        "## explicação axis=-1: https://stackoverflow-com.translate.goog/questions/47435526/what-is-the-meaning-of-axis-1-in-keras-argmax?_x_tr_sl=en&_x_tr_tl=pt&_x_tr_hl=pt-BR&_x_tr_pto=sc\n",
        "## explicação max pooling: https://www.quora.com/What-is-Max-Pooling-2D"
      ]
    },
    {
      "cell_type": "code",
      "source": [
        "!pip install -q -U tensorflow-addons"
      ],
      "metadata": {
        "colab": {
          "base_uri": "https://localhost:8080/"
        },
        "id": "xpigSnf40jOP",
        "outputId": "91a16a75-95dd-4345-c002-58141adb9bc6"
      },
      "execution_count": null,
      "outputs": [
        {
          "output_type": "stream",
          "name": "stdout",
          "text": [
            "\u001b[?25l     \u001b[90m━━━━━━━━━━━━━━━━━━━━━━━━━━━━━━━━━━━━━━━━\u001b[0m \u001b[32m0.0/1.1 MB\u001b[0m \u001b[31m?\u001b[0m eta \u001b[36m-:--:--\u001b[0m\r\u001b[2K     \u001b[91m━━━━━━━━━\u001b[0m\u001b[90m╺\u001b[0m\u001b[90m━━━━━━━━━━━━━━━━━━━━━━━━━━━━━━\u001b[0m \u001b[32m0.2/1.1 MB\u001b[0m \u001b[31m7.3 MB/s\u001b[0m eta \u001b[36m0:00:01\u001b[0m\r\u001b[2K     \u001b[91m━━━━━━━━━━━━━━━━━━━━━━━━━━━━━━━━━━━━━━━\u001b[0m\u001b[91m╸\u001b[0m \u001b[32m1.1/1.1 MB\u001b[0m \u001b[31m17.1 MB/s\u001b[0m eta \u001b[36m0:00:01\u001b[0m\r\u001b[2K     \u001b[90m━━━━━━━━━━━━━━━━━━━━━━━━━━━━━━━━━━━━━━━━\u001b[0m \u001b[32m1.1/1.1 MB\u001b[0m \u001b[31m12.9 MB/s\u001b[0m eta \u001b[36m0:00:00\u001b[0m\n",
            "\u001b[?25h"
          ]
        }
      ]
    },
    {
      "cell_type": "code",
      "source": [
        "import tensorflow as tf\n",
        "import tensorflow_addons as tfa\n",
        "import tensorflow_datasets as tfds\n",
        "\n",
        "from tensorflow import keras\n",
        "from keras import layers\n",
        "import tensorflow as tf\n",
        "import matplotlib.pyplot as plt\n",
        "import os\n",
        "import numpy as np\n",
        "from tqdm import tqdm"
      ],
      "metadata": {
        "id": "LAjn-Lhi0wFB"
      },
      "execution_count": null,
      "outputs": []
    },
    {
      "cell_type": "markdown",
      "source": [
        "# Dataset"
      ],
      "metadata": {
        "id": "D8MXlmFfsX49"
      }
    },
    {
      "cell_type": "code",
      "source": [
        "def _normalize_img(img, label):\n",
        "    img = tf.cast(img, tf.float32)\n",
        "    return (img, label)\n",
        "\n",
        "train_dataset, test_dataset = tfds.load(name=\"mnist\", split=['train', 'test'], as_supervised=True)\n",
        "\n",
        "# Build your input pipelines\n",
        "train_dataset = train_dataset.shuffle(1024).batch(32)\n",
        "\n",
        "train_dataset = train_dataset.map(_normalize_img)\n",
        "\n",
        "test_dataset = test_dataset.batch(32)\n",
        "test_dataset = test_dataset.map(_normalize_img)\n",
        "\n",
        "train_ds = train_dataset.take(round(len(train_dataset) * 0.8))\n",
        "val_ds = train_dataset.skip(round(len(train_dataset) * 0.8))"
      ],
      "metadata": {
        "colab": {
          "base_uri": "https://localhost:8080/",
          "height": 84,
          "referenced_widgets": [
            "0558c7ebd1e04599835365948ad12411",
            "536009d9b6ad4992a28d314c67e278f8",
            "799519ae1cfb4add8fe045939eee9d9b",
            "a6cbdda34b074353ab65134dc21a7e8b",
            "9b493893431b40149ebaa1bd311d46c1",
            "9057e12aed0a47798fe3981610aa916f",
            "f8f2e736d9f74a50b0d78d86f9d1038e",
            "fd85e7214ad04ff2a4fe986144d0e2ad",
            "72e70ac530f44c4c8d9aeb5262d26ed7",
            "09f43af091914acc96c6851a9a4dc7db",
            "1e2b37d4841e4d71b5c7bec6d333f3c3"
          ]
        },
        "id": "046l0i-i016r",
        "outputId": "58d201ce-ffc5-46a5-eb68-1bb905d468fb"
      },
      "execution_count": null,
      "outputs": [
        {
          "output_type": "stream",
          "name": "stdout",
          "text": [
            "Downloading and preparing dataset 11.06 MiB (download: 11.06 MiB, generated: 21.00 MiB, total: 32.06 MiB) to /root/tensorflow_datasets/mnist/3.0.1...\n"
          ]
        },
        {
          "output_type": "display_data",
          "data": {
            "text/plain": [
              "Dl Completed...:   0%|          | 0/5 [00:00<?, ? file/s]"
            ],
            "application/vnd.jupyter.widget-view+json": {
              "version_major": 2,
              "version_minor": 0,
              "model_id": "0558c7ebd1e04599835365948ad12411"
            }
          },
          "metadata": {}
        },
        {
          "output_type": "stream",
          "name": "stdout",
          "text": [
            "Dataset mnist downloaded and prepared to /root/tensorflow_datasets/mnist/3.0.1. Subsequent calls will reuse this data.\n"
          ]
        }
      ]
    },
    {
      "cell_type": "markdown",
      "source": [
        "# Modelo"
      ],
      "metadata": {
        "id": "M1cQVQyr6aU4"
      }
    },
    {
      "cell_type": "code",
      "source": [
        "# https://paperswithcode.com/paper/network-in-network (artigo da rede)\n",
        "# https://github.com/minoring/nin-tf2/blob/master/model.py (Código de referência)\n",
        "\n",
        "def define_nin(input_shape):\n",
        "  \"\"\"Define Network in Network model\n",
        "  Returns:\n",
        "    tf.keras.Model of NIN\n",
        "  \"\"\"\n",
        "  input_tensor = keras.Input(shape=input_shape)\n",
        "  scale_layer = tf.keras.layers.experimental.preprocessing.Rescaling(scale=1 / 127.5, offset=-1)\n",
        "  x = scale_layer(input_tensor)\n",
        "  \n",
        "  x = layers.Conv2D(192, 5, activation='relu')(x)\n",
        "  x = layers.Conv2D(160, 1, activation='relu')(x)\n",
        "  x = layers.Conv2D(96, 1, activation='relu')(x)\n",
        "  x = layers.MaxPool2D(2, strides=2, padding='same')(x)\n",
        "  x = layers.Dropout(0.5)(x)\n",
        "\n",
        "  x = layers.Conv2D(192, 5, activation='relu')(x)\n",
        "  x = layers.Conv2D(192, 1, activation='relu')(x)\n",
        "  x = layers.Conv2D(192, 1, activation='relu')(x)\n",
        "  x = layers.MaxPool2D(2, strides=2, padding='same')(x)\n",
        "  x = layers.Dropout(0.5)(x)\n",
        "\n",
        "  x = layers.Conv2D(192, 3, activation='relu')(x)\n",
        "  x = layers.Conv2D(192, 1, activation='relu')(x)\n",
        "  x = layers.Conv2D(10, 1, activation='relu')(x)\n",
        "  x = layers.AveragePooling2D(pool_size=(2, 2))(x)\n",
        "  x = layers.Flatten()(x)\n",
        "  x = layers.Dense(10, kernel_regularizer= tf.keras.regularizers.L2(1e-3))(x)\n",
        "  output_tensor = layers.Lambda(lambda x: tf.math.l2_normalize(x,axis=-1))(x)\n",
        "\n",
        "  return tf.keras.Model(input_tensor, output_tensor, name = \"Arquitetura_NIN\")"
      ],
      "metadata": {
        "id": "0oCUDAA96bIa"
      },
      "execution_count": null,
      "outputs": []
    },
    {
      "cell_type": "markdown",
      "source": [
        "# Treinamento"
      ],
      "metadata": {
        "id": "1MhVLaXO_dqc"
      }
    },
    {
      "cell_type": "code",
      "source": [
        "my_callbacks = [\n",
        "    tf.keras.callbacks.EarlyStopping(patience=13, monitor=\"val_loss\", restore_best_weights=True),\n",
        "    tf.keras.callbacks.ReduceLROnPlateau(monitor=\"val_loss\", mode = \"min\", patience = 5, factor=0.5, min_lr=0.0000000001, verbose = 0)\n",
        "  ]"
      ],
      "metadata": {
        "id": "MrTdAHK68yuo"
      },
      "execution_count": null,
      "outputs": []
    },
    {
      "cell_type": "code",
      "source": [
        "model = define_nin((28, 28, 1))\n",
        "model.compile(optimizer=tf.keras.optimizers.Adam(0.001), loss=tfa.losses.TripletSemiHardLoss())"
      ],
      "metadata": {
        "id": "UgSGQraB8dgl"
      },
      "execution_count": null,
      "outputs": []
    },
    {
      "cell_type": "code",
      "source": [
        "!nvidia-smi\n",
        "historico = model.fit(train_ds, epochs=70, callbacks=my_callbacks, validation_data = val_ds)"
      ],
      "metadata": {
        "colab": {
          "base_uri": "https://localhost:8080/"
        },
        "id": "TyAdrRqg8rKx",
        "outputId": "aece1d02-87f5-41b4-ca18-267b7e576598"
      },
      "execution_count": null,
      "outputs": [
        {
          "output_type": "stream",
          "name": "stdout",
          "text": [
            "Wed Feb 22 14:34:48 2023       \n",
            "+-----------------------------------------------------------------------------+\n",
            "| NVIDIA-SMI 510.47.03    Driver Version: 510.47.03    CUDA Version: 11.6     |\n",
            "|-------------------------------+----------------------+----------------------+\n",
            "| GPU  Name        Persistence-M| Bus-Id        Disp.A | Volatile Uncorr. ECC |\n",
            "| Fan  Temp  Perf  Pwr:Usage/Cap|         Memory-Usage | GPU-Util  Compute M. |\n",
            "|                               |                      |               MIG M. |\n",
            "|===============================+======================+======================|\n",
            "|   0  Tesla T4            Off  | 00000000:00:04.0 Off |                    0 |\n",
            "| N/A   56C    P0    28W /  70W |    340MiB / 15360MiB |      0%      Default |\n",
            "|                               |                      |                  N/A |\n",
            "+-------------------------------+----------------------+----------------------+\n",
            "                                                                               \n",
            "+-----------------------------------------------------------------------------+\n",
            "| Processes:                                                                  |\n",
            "|  GPU   GI   CI        PID   Type   Process name                  GPU Memory |\n",
            "|        ID   ID                                                   Usage      |\n",
            "|=============================================================================|\n",
            "|    0   N/A  N/A     16887      C                                     337MiB |\n",
            "+-----------------------------------------------------------------------------+\n",
            "Epoch 1/70\n",
            "1500/1500 [==============================] - 47s 23ms/step - loss: 0.5740 - val_loss: 0.1883 - lr: 0.0010\n",
            "Epoch 2/70\n",
            "1500/1500 [==============================] - 25s 16ms/step - loss: 0.1622 - val_loss: 0.1050 - lr: 0.0010\n",
            "Epoch 3/70\n",
            "1500/1500 [==============================] - 19s 13ms/step - loss: 0.1087 - val_loss: 0.0745 - lr: 0.0010\n",
            "Epoch 4/70\n",
            "1500/1500 [==============================] - 17s 11ms/step - loss: 0.0834 - val_loss: 0.0631 - lr: 0.0010\n",
            "Epoch 5/70\n",
            "1500/1500 [==============================] - 17s 11ms/step - loss: 0.0735 - val_loss: 0.0548 - lr: 0.0010\n",
            "Epoch 6/70\n",
            "1500/1500 [==============================] - 17s 11ms/step - loss: 0.0682 - val_loss: 0.0664 - lr: 0.0010\n",
            "Epoch 7/70\n",
            "1500/1500 [==============================] - 19s 13ms/step - loss: 0.0632 - val_loss: 0.0643 - lr: 0.0010\n",
            "Epoch 8/70\n",
            "1500/1500 [==============================] - 18s 12ms/step - loss: 0.0611 - val_loss: 0.0689 - lr: 0.0010\n",
            "Epoch 9/70\n",
            "1500/1500 [==============================] - 17s 11ms/step - loss: 0.0510 - val_loss: 0.0496 - lr: 0.0010\n",
            "Epoch 10/70\n",
            "1500/1500 [==============================] - 17s 12ms/step - loss: 0.0495 - val_loss: 0.0414 - lr: 0.0010\n",
            "Epoch 11/70\n",
            "1500/1500 [==============================] - 17s 11ms/step - loss: 0.0433 - val_loss: 0.0416 - lr: 0.0010\n",
            "Epoch 12/70\n",
            "1500/1500 [==============================] - 17s 11ms/step - loss: 0.0444 - val_loss: 0.0593 - lr: 0.0010\n",
            "Epoch 13/70\n",
            "1500/1500 [==============================] - 18s 12ms/step - loss: 0.0428 - val_loss: 0.0428 - lr: 0.0010\n",
            "Epoch 14/70\n",
            "1500/1500 [==============================] - 17s 11ms/step - loss: 0.0354 - val_loss: 0.0401 - lr: 0.0010\n",
            "Epoch 15/70\n",
            "1500/1500 [==============================] - 17s 11ms/step - loss: 0.0347 - val_loss: 0.0364 - lr: 0.0010\n",
            "Epoch 16/70\n",
            "1500/1500 [==============================] - 18s 12ms/step - loss: 0.0370 - val_loss: 0.0373 - lr: 0.0010\n",
            "Epoch 17/70\n",
            "1500/1500 [==============================] - 17s 11ms/step - loss: 0.0343 - val_loss: 0.0371 - lr: 0.0010\n",
            "Epoch 18/70\n",
            "1500/1500 [==============================] - 17s 11ms/step - loss: 0.0326 - val_loss: 0.0399 - lr: 0.0010\n",
            "Epoch 19/70\n",
            "1500/1500 [==============================] - 18s 12ms/step - loss: 0.0290 - val_loss: 0.0314 - lr: 0.0010\n",
            "Epoch 20/70\n",
            "1500/1500 [==============================] - 17s 11ms/step - loss: 0.0319 - val_loss: 0.0363 - lr: 0.0010\n",
            "Epoch 21/70\n",
            "1500/1500 [==============================] - 17s 12ms/step - loss: 0.0272 - val_loss: 0.0331 - lr: 0.0010\n",
            "Epoch 22/70\n",
            "1500/1500 [==============================] - 17s 11ms/step - loss: 0.0288 - val_loss: 0.0360 - lr: 0.0010\n",
            "Epoch 23/70\n",
            "1500/1500 [==============================] - 17s 11ms/step - loss: 0.0265 - val_loss: 0.0435 - lr: 0.0010\n",
            "Epoch 24/70\n",
            "1500/1500 [==============================] - 17s 12ms/step - loss: 0.0270 - val_loss: 0.0329 - lr: 0.0010\n",
            "Epoch 25/70\n",
            "1500/1500 [==============================] - 17s 11ms/step - loss: 0.0195 - val_loss: 0.0250 - lr: 5.0000e-04\n",
            "Epoch 26/70\n",
            "1500/1500 [==============================] - 17s 12ms/step - loss: 0.0154 - val_loss: 0.0247 - lr: 5.0000e-04\n",
            "Epoch 27/70\n",
            "1500/1500 [==============================] - 17s 12ms/step - loss: 0.0160 - val_loss: 0.0260 - lr: 5.0000e-04\n",
            "Epoch 28/70\n",
            "1500/1500 [==============================] - 17s 11ms/step - loss: 0.0132 - val_loss: 0.0304 - lr: 5.0000e-04\n",
            "Epoch 29/70\n",
            "1500/1500 [==============================] - 17s 11ms/step - loss: 0.0144 - val_loss: 0.0289 - lr: 5.0000e-04\n",
            "Epoch 30/70\n",
            "1500/1500 [==============================] - 18s 12ms/step - loss: 0.0137 - val_loss: 0.0265 - lr: 5.0000e-04\n",
            "Epoch 31/70\n",
            "1500/1500 [==============================] - 17s 12ms/step - loss: 0.0138 - val_loss: 0.0214 - lr: 5.0000e-04\n",
            "Epoch 32/70\n",
            "1500/1500 [==============================] - 18s 12ms/step - loss: 0.0113 - val_loss: 0.0279 - lr: 5.0000e-04\n",
            "Epoch 33/70\n",
            "1500/1500 [==============================] - 18s 12ms/step - loss: 0.0117 - val_loss: 0.0240 - lr: 5.0000e-04\n",
            "Epoch 34/70\n",
            "1500/1500 [==============================] - 18s 12ms/step - loss: 0.0115 - val_loss: 0.0290 - lr: 5.0000e-04\n",
            "Epoch 35/70\n",
            "1500/1500 [==============================] - 17s 12ms/step - loss: 0.0111 - val_loss: 0.0262 - lr: 5.0000e-04\n",
            "Epoch 36/70\n",
            "1500/1500 [==============================] - 18s 12ms/step - loss: 0.0113 - val_loss: 0.0313 - lr: 5.0000e-04\n",
            "Epoch 37/70\n",
            "1500/1500 [==============================] - 17s 11ms/step - loss: 0.0090 - val_loss: 0.0273 - lr: 2.5000e-04\n",
            "Epoch 38/70\n",
            "1500/1500 [==============================] - 17s 11ms/step - loss: 0.0077 - val_loss: 0.0248 - lr: 2.5000e-04\n",
            "Epoch 39/70\n",
            "1500/1500 [==============================] - 18s 12ms/step - loss: 0.0070 - val_loss: 0.0253 - lr: 2.5000e-04\n",
            "Epoch 40/70\n",
            "1500/1500 [==============================] - 17s 11ms/step - loss: 0.0075 - val_loss: 0.0235 - lr: 2.5000e-04\n",
            "Epoch 41/70\n",
            "1500/1500 [==============================] - 17s 12ms/step - loss: 0.0076 - val_loss: 0.0213 - lr: 2.5000e-04\n",
            "Epoch 42/70\n",
            "1500/1500 [==============================] - 17s 11ms/step - loss: 0.0066 - val_loss: 0.0223 - lr: 2.5000e-04\n",
            "Epoch 43/70\n",
            "1500/1500 [==============================] - 17s 11ms/step - loss: 0.0066 - val_loss: 0.0229 - lr: 2.5000e-04\n",
            "Epoch 44/70\n",
            "1500/1500 [==============================] - 18s 12ms/step - loss: 0.0063 - val_loss: 0.0244 - lr: 2.5000e-04\n",
            "Epoch 45/70\n",
            "1500/1500 [==============================] - 17s 11ms/step - loss: 0.0074 - val_loss: 0.0205 - lr: 2.5000e-04\n",
            "Epoch 46/70\n",
            "1500/1500 [==============================] - 17s 12ms/step - loss: 0.0057 - val_loss: 0.0221 - lr: 2.5000e-04\n",
            "Epoch 47/70\n",
            "1500/1500 [==============================] - 17s 11ms/step - loss: 0.0061 - val_loss: 0.0244 - lr: 2.5000e-04\n",
            "Epoch 48/70\n",
            "1500/1500 [==============================] - 19s 12ms/step - loss: 0.0068 - val_loss: 0.0225 - lr: 2.5000e-04\n",
            "Epoch 49/70\n",
            "1500/1500 [==============================] - 17s 12ms/step - loss: 0.0064 - val_loss: 0.0226 - lr: 2.5000e-04\n",
            "Epoch 50/70\n",
            "1500/1500 [==============================] - 18s 12ms/step - loss: 0.0064 - val_loss: 0.0256 - lr: 2.5000e-04\n",
            "Epoch 51/70\n",
            "1500/1500 [==============================] - 17s 12ms/step - loss: 0.0052 - val_loss: 0.0195 - lr: 1.2500e-04\n",
            "Epoch 52/70\n",
            "1500/1500 [==============================] - 17s 12ms/step - loss: 0.0048 - val_loss: 0.0212 - lr: 1.2500e-04\n",
            "Epoch 53/70\n",
            "1500/1500 [==============================] - 18s 12ms/step - loss: 0.0045 - val_loss: 0.0262 - lr: 1.2500e-04\n",
            "Epoch 54/70\n",
            "1500/1500 [==============================] - 17s 12ms/step - loss: 0.0056 - val_loss: 0.0234 - lr: 1.2500e-04\n",
            "Epoch 55/70\n",
            "1500/1500 [==============================] - 17s 12ms/step - loss: 0.0044 - val_loss: 0.0221 - lr: 1.2500e-04\n",
            "Epoch 56/70\n",
            "1500/1500 [==============================] - 18s 12ms/step - loss: 0.0046 - val_loss: 0.0228 - lr: 1.2500e-04\n",
            "Epoch 57/70\n",
            "1500/1500 [==============================] - 18s 12ms/step - loss: 0.0043 - val_loss: 0.0188 - lr: 6.2500e-05\n",
            "Epoch 58/70\n",
            "1500/1500 [==============================] - 17s 12ms/step - loss: 0.0039 - val_loss: 0.0236 - lr: 6.2500e-05\n",
            "Epoch 59/70\n",
            "1500/1500 [==============================] - 18s 12ms/step - loss: 0.0037 - val_loss: 0.0211 - lr: 6.2500e-05\n",
            "Epoch 60/70\n",
            "1500/1500 [==============================] - 18s 12ms/step - loss: 0.0042 - val_loss: 0.0208 - lr: 6.2500e-05\n",
            "Epoch 61/70\n",
            "1500/1500 [==============================] - 17s 12ms/step - loss: 0.0046 - val_loss: 0.0202 - lr: 6.2500e-05\n",
            "Epoch 62/70\n",
            "1500/1500 [==============================] - 18s 12ms/step - loss: 0.0038 - val_loss: 0.0213 - lr: 6.2500e-05\n",
            "Epoch 63/70\n",
            "1500/1500 [==============================] - 17s 11ms/step - loss: 0.0033 - val_loss: 0.0215 - lr: 3.1250e-05\n",
            "Epoch 64/70\n",
            "1500/1500 [==============================] - 18s 12ms/step - loss: 0.0039 - val_loss: 0.0226 - lr: 3.1250e-05\n",
            "Epoch 65/70\n",
            "1500/1500 [==============================] - 17s 12ms/step - loss: 0.0033 - val_loss: 0.0229 - lr: 3.1250e-05\n",
            "Epoch 66/70\n",
            "1500/1500 [==============================] - 18s 12ms/step - loss: 0.0032 - val_loss: 0.0218 - lr: 3.1250e-05\n",
            "Epoch 67/70\n",
            "1500/1500 [==============================] - 17s 12ms/step - loss: 0.0027 - val_loss: 0.0191 - lr: 3.1250e-05\n",
            "Epoch 68/70\n",
            "1500/1500 [==============================] - 18s 12ms/step - loss: 0.0036 - val_loss: 0.0208 - lr: 1.5625e-05\n",
            "Epoch 69/70\n",
            "1500/1500 [==============================] - 17s 12ms/step - loss: 0.0037 - val_loss: 0.0205 - lr: 1.5625e-05\n",
            "Epoch 70/70\n",
            "1500/1500 [==============================] - 17s 11ms/step - loss: 0.0031 - val_loss: 0.0199 - lr: 1.5625e-05\n"
          ]
        }
      ]
    },
    {
      "cell_type": "code",
      "source": [
        "model.save(\"embedding_model_nin_3.h5\")"
      ],
      "metadata": {
        "id": "qDl3XHm1AsrH"
      },
      "execution_count": null,
      "outputs": []
    },
    {
      "cell_type": "code",
      "source": [
        "def diferenca(historico):\n",
        "  accuracy = historico.history['loss'] \n",
        "  val_accuracy = historico.history['val_loss']\n",
        "  vetor_diferenca = []\n",
        "  for i in range(len(accuracy)):\n",
        "    diferenca = abs(accuracy[i] - val_accuracy[i])\n",
        "    vetor_diferenca.append(diferenca)\n",
        "\n",
        "  return vetor_diferenca\n",
        "\n",
        "  \n",
        "def grafico(historico, nome): \n",
        "\n",
        "  plt.subplots(figsize=(25, 5)) \n",
        "  # Grafico 1: Loss\n",
        "  plt.subplot(1,2,1)\n",
        "  plt.title( nome + ': Loss')\n",
        "  plt.xlabel('Epoch')\n",
        "  plt.ylabel('Cross Entropy')\n",
        "  plt.grid()\n",
        "  plt.yscale(\"log\")\n",
        "  plt.plot(historico.history['loss'], label='Train Loss ', color = 'blue')\n",
        "  plt.plot(historico.history['val_loss'], label='Val Loss ', color = 'red')\n",
        "  plt.legend()\n",
        "\n",
        "\n",
        "  # Grafico 3: Diferença de Loss\n",
        "  vetor_diferenca = diferenca(historico)\n",
        "\n",
        "  plt.subplot(1,2,2)\n",
        "  plt.title(nome + \": Variação do Loss\")\n",
        "  plt.xlabel(\"Epocas\")\n",
        "  plt.ylabel(\"Diferença\")\n",
        "  plt.grid()\n",
        "  plt.yscale(\"log\")\n",
        "  plt.plot(vetor_diferenca, color = 'red', label = 'Variação do Loss')\n",
        "  plt.legend()\n",
        "\n",
        "  nome_save = os.path.join(\"/content\", nome + \".jpg\")\n",
        "  plt.savefig(nome_save, dpi=400,  transparent=False)\n",
        "  plt.show()\n",
        "\n",
        "grafico(historico, \"Rede Siamesa NIN\")"
      ],
      "metadata": {
        "colab": {
          "base_uri": "https://localhost:8080/",
          "height": 302
        },
        "id": "JIjh9sAV89Ky",
        "outputId": "b251492b-b58b-46c8-fc97-b86c451f12c1"
      },
      "execution_count": null,
      "outputs": [
        {
          "output_type": "display_data",
          "data": {
            "text/plain": [
              "<Figure size 1800x360 with 2 Axes>"
            ],
            "image/png": "[encoded data removed]"
          },
          "metadata": {
            "needs_background": "light"
          }
        }
      ]
    },
    {
      "cell_type": "markdown",
      "source": [
        "# Testes"
      ],
      "metadata": {
        "id": "fmsiTqYA_bAH"
      }
    },
    {
      "cell_type": "markdown",
      "source": [
        "## Funções"
      ],
      "metadata": {
        "id": "dlWAUyDLWI0e"
      }
    },
    {
      "cell_type": "code",
      "source": [
        "nome = [\"zero\", \"um\", \"dois\", \"tres\", \"quatro\", \"cinco\", \"seis\", \"sete\", \"oito\", \"nove\"]\n",
        "\n",
        "def prepare_database(model):\n",
        "  database = {}\n",
        "  for categoria in range(10):# Busca pra cada uma das 10 categorias\n",
        "    for img, label in test_dataset: # percorre os lotes do dataset\n",
        "      for indice in range(len(label)): # percorre os elementos do lote do dataset\n",
        "        if label[indice] == categoria: # se a categoria do elemento no indice for o mesma da categoria que estou buscando\n",
        "          identity =  nome[categoria] \n",
        "          database[identity] = img_to_encoding(img[indice:indice+1], model)\n",
        "          break\n",
        "      if indice != (len(label)-1): break\n",
        "  return database"
      ],
      "metadata": {
        "id": "dgWxY5PuAQw9"
      },
      "execution_count": null,
      "outputs": []
    },
    {
      "cell_type": "code",
      "source": [
        "def recognise_class(image, database, model):\n",
        "    encoding = img_to_encoding(image, model)\n",
        "    identity = None\n",
        "    min_dist = 100\n",
        "    for (name, db_enc) in database.items():\n",
        "        \n",
        "        dist = np.linalg.norm(db_enc - encoding)\n",
        "        #print('distance for %s is %s' %(name, dist))\n",
        "        if dist < min_dist:\n",
        "            min_dist = dist\n",
        "            identity = name\n",
        "    \n",
        "    if min_dist > 0.6:\n",
        "        return \"can't recognise.\"\n",
        "    else:\n",
        "        return str(identity)\n",
        "\n",
        "def recognise_class_2(image, database, model):# A diferença dessa pra outra é que ela mostra a distancia\n",
        "    encoding = img_to_encoding(image, model)\n",
        "    identity = None\n",
        "    min_dist = 100\n",
        "    for (name, db_enc) in database.items():\n",
        "        \n",
        "        dist = np.linalg.norm(db_enc - encoding)\n",
        "        print('distance for %s is %s' %(name, dist)) # seria muito ruim ficar mostrando isso para um dataset de 10.000 imagens\n",
        "        if dist < min_dist:\n",
        "            min_dist = dist\n",
        "            identity = name\n",
        "    \n",
        "    if min_dist > 0.6:\n",
        "        return \"can't recognise.\"\n",
        "    else:\n",
        "        return str(identity)"
      ],
      "metadata": {
        "id": "-f11d2wtAUzu"
      },
      "execution_count": null,
      "outputs": []
    },
    {
      "cell_type": "code",
      "source": [
        "def img_to_encoding(img, model):\n",
        "  embedding = model.predict(img, verbose=0)\n",
        "  return embedding"
      ],
      "metadata": {
        "id": "HXeMnzWOAaNU"
      },
      "execution_count": null,
      "outputs": []
    },
    {
      "cell_type": "code",
      "source": [
        "def metricas(saida):\n",
        "  certo = 0\n",
        "  errado = 0\n",
        "  incerto = 0\n",
        "  \n",
        "  for resposta in saida:\n",
        "    if resposta[1] == nome[resposta[0]]:\n",
        "      certo += 1\n",
        "    else:\n",
        "      if resposta[1] == \"can't recognise.\":\n",
        "        incerto += 1\n",
        "      else:\n",
        "        if resposta[1] != nome[resposta[0]]:\n",
        "          errado += 1\n",
        "  print()\n",
        "  print(\"Total de imagem: {0}    Certas: {1}   Erradas: {2}   Incertas: {3}\".format(len(saida), certo, errado, incerto))"
      ],
      "metadata": {
        "id": "Zo5XTG-mQ67e"
      },
      "execution_count": null,
      "outputs": []
    },
    {
      "cell_type": "markdown",
      "source": [
        "## Testes"
      ],
      "metadata": {
        "id": "WyfirMTmWLph"
      }
    },
    {
      "cell_type": "code",
      "source": [
        "database = prepare_database(model)\n",
        "saida = []\n",
        "\n",
        "for img, label in tqdm (test_dataset, desc=\"Testando...\"):\n",
        "  for i in range(len(img)):\n",
        "    classe = recognise_class(img[i:i+1], database, model)\n",
        "    #print(\"id {2}:: Classe Real: {0} >> Classe Prevista: {1}\".format(label[i], classe, i))\n",
        "    saida.append([label[i], classe])\n",
        "\n",
        "metricas(saida)"
      ],
      "metadata": {
        "colab": {
          "base_uri": "https://localhost:8080/"
        },
        "id": "NAQBvdNNjMbt",
        "outputId": "be7f8358-b603-4788-929a-fbc68de75509"
      },
      "execution_count": null,
      "outputs": [
        {
          "metadata": {
            "tags": null
          },
          "name": "stdout",
          "output_type": "stream",
          "text": [
            "10\n"
          ]
        },
        {
          "output_type": "stream",
          "name": "stderr",
          "text": [
            "Testando...: 100%|██████████| 313/313 [09:24<00:00,  1.80s/it]\n"
          ]
        },
        {
          "output_type": "stream",
          "name": "stdout",
          "text": [
            "\n",
            "Total de imagem: 10000    Certas: 9935   Erradas: 40   Incertas: 25\n"
          ]
        }
      ]
    },
    {
      "cell_type": "code",
      "source": [
        "classe = recognise_class_2(img[0:1], database, model)\n",
        "print()\n",
        "print(\"Classe Real: {0} >> Classe Prevista: {1}\".format(label[12], classe))"
      ],
      "metadata": {
        "colab": {
          "base_uri": "https://localhost:8080/"
        },
        "id": "eAqjzRyZZgt-",
        "outputId": "74c3374c-be92-4017-dd8b-5c36dea2c0c6"
      },
      "execution_count": null,
      "outputs": [
        {
          "output_type": "stream",
          "name": "stdout",
          "text": [
            "distance for zero is 1.4798412\n",
            "distance for um is 1.5044669\n",
            "distance for dois is 1.5316844\n",
            "distance for tres is 1.4622816\n",
            "distance for quatro is 0.0033403363\n",
            "distance for cinco is 1.4015764\n",
            "distance for seis is 1.518459\n",
            "distance for sete is 1.536707\n",
            "distance for oito is 1.4915129\n",
            "distance for nove is 1.482287\n"
          ]
        }
      ]
    }
  ]
}
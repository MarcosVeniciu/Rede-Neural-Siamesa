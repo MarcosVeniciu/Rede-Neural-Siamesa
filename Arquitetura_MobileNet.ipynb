{
  "nbformat": 4,
  "nbformat_minor": 0,
  "metadata": {
    "colab": {
      "provenance": [],
      "collapsed_sections": [
        "M1cQVQyr6aU4",
        "1MhVLaXO_dqc",
        "dlWAUyDLWI0e"
      ],
      "include_colab_link": true
    },
    "kernelspec": {
      "name": "python3",
      "display_name": "Python 3"
    },
    "language_info": {
      "name": "python"
    },
    "gpuClass": "standard",
    "accelerator": "GPU"
  },
  "cells": [
    {
      "cell_type": "markdown",
      "metadata": {
        "id": "view-in-github",
        "colab_type": "text"
      },
      "source": [
        "<a href=\"https://colab.research.google.com/github/MarcosVeniciu/Rede-Neural-Siamesa/blob/main/Rede_Siamesa_MobileNet.ipynb\" target=\"_parent\"><img src=\"https://colab.research.google.com/assets/colab-badge.svg\" alt=\"Open In Colab\"/></a>"
      ]
    },
    {
      "cell_type": "code",
      "execution_count": null,
      "metadata": {
        "id": "-Jbi3j5rfkE2"
      },
      "outputs": [],
      "source": [
        "# Referencias principais\n",
        "## Artigo: https://arxiv.org/pdf/1503.03832.pdf\n",
        "## Código: https://medium.com/@crimy/one-shot-learning-siamese-networks-and-triplet-loss-with-keras-2885ed022352\n",
        "## Gerar Triplets: https://omoindrot.github.io/triplet-loss\n",
        "## Keras triple loss exemplo: https://www.tensorflow.org/addons/tutorials/losses_triplet?hl=pt-br#semihard_online_learning\n",
        "#\n",
        "# Referências\n",
        "## Função de TripletHardLoss: https://www.tensorflow.org/addons/api_docs/python/tfa/losses/TripletHardLoss\n",
        "## Função de TripletSemiHardLoss: https://www.tensorflow.org/addons/api_docs/python/tfa/losses/TripletSemiHardLoss\n",
        "## Triple loss keras:  https://keras.io/examples/vision/siamese_network/ \n",
        "## Keras fit e fit_generator: https://acervolima.com/keras-fit-e-keras-fit_generator/\n",
        "## keras fit, fit_generator e train_on_batch: https://studymachinelearning-com.translate.goog/keras-fit-fit_generator-train_on_batch/?_x_tr_sl=en&_x_tr_tl=pt&_x_tr_hl=pt-BR&_x_tr_pto=sc\n",
        "## Código usando o fit_generator: https://github.com/Ekeany/Siamese-Network-with-Triplet-Loss/blob/master/MachinePart1.ipynb\n",
        "## explicação axis=-1: https://stackoverflow-com.translate.goog/questions/47435526/what-is-the-meaning-of-axis-1-in-keras-argmax?_x_tr_sl=en&_x_tr_tl=pt&_x_tr_hl=pt-BR&_x_tr_pto=sc\n",
        "## explicação max pooling: https://www.quora.com/What-is-Max-Pooling-2D"
      ]
    },
    {
      "cell_type": "code",
      "source": [
        "!pip install -q -U tensorflow-addons"
      ],
      "metadata": {
        "id": "xpigSnf40jOP"
      },
      "execution_count": null,
      "outputs": []
    },
    {
      "cell_type": "code",
      "source": [
        "import tensorflow as tf\n",
        "import tensorflow_addons as tfa\n",
        "import tensorflow_datasets as tfds\n",
        "\n",
        "from tensorflow import keras\n",
        "from keras import layers\n",
        "import tensorflow as tf\n",
        "import matplotlib.pyplot as plt\n",
        "import os\n",
        "import numpy as np\n",
        "from tqdm import tqdm\n",
        "import cv2"
      ],
      "metadata": {
        "id": "LAjn-Lhi0wFB"
      },
      "execution_count": null,
      "outputs": []
    },
    {
      "cell_type": "markdown",
      "source": [
        "# Dataset"
      ],
      "metadata": {
        "id": "D8MXlmFfsX49"
      }
    },
    {
      "cell_type": "code",
      "source": [
        "def _normalize_img(img, label):\n",
        "    img = tf.cast(img, tf.float32)\n",
        "    img = tf.image.resize(img, (64, 64))\n",
        "    return (img, label)\n",
        "\n",
        "train_dataset, test_dataset = tfds.load(name=\"mnist\", split=['train', 'test'], as_supervised=True)\n",
        "\n",
        "# Build your input pipelines\n",
        "train_dataset = train_dataset.shuffle(1024).batch(32)\n",
        "\n",
        "train_dataset = train_dataset.map(_normalize_img)\n",
        "\n",
        "test_dataset = test_dataset.batch(32)\n",
        "test_dataset = test_dataset.map(_normalize_img)\n",
        "\n",
        "train_ds = train_dataset.take(round(len(train_dataset) * 0.8))\n",
        "val_ds = train_dataset.skip(round(len(train_dataset) * 0.8))"
      ],
      "metadata": {
        "id": "046l0i-i016r"
      },
      "execution_count": null,
      "outputs": []
    },
    {
      "cell_type": "markdown",
      "source": [
        "# Modelo"
      ],
      "metadata": {
        "id": "M1cQVQyr6aU4"
      }
    },
    {
      "cell_type": "code",
      "source": [
        "# Artigo: https://arxiv.org/pdf/1801.04381.pdf\n",
        "# Codigo keras: https://github.com/keras-team/keras-applications/blob/06fbeb0f16e1304f239b2296578d1c50b15a983a/keras_applications/mobilenet_v2.py#L425\n",
        "# Uma explicação sobre a arquitetura: https://machinethink.net/blog/mobilenet-v2/\n",
        "\n",
        "def _make_divisible(v, divisor, min_value=None): # A mesma coisa do keras\n",
        "  if min_value is None:\n",
        "    min_value = divisor\n",
        "  new_v = max(min_value, int(v + divisor / 2) // divisor * divisor)\n",
        "  # Make sure that round down does not go down by more than 10%.\n",
        "  if new_v < 0.9 * v:\n",
        "    new_v += divisor\n",
        "  return new_v\n",
        "\n",
        "\n",
        "def bottleneck(inputs, expansion, stride, filters, alpha): # expansion = t, stride = s, filters = c\n",
        "  x = inputs\n",
        "\n",
        "  channel_axis = 1 if tf.keras.backend.image_data_format() == 'channels_first' else -1\n",
        "  in_channels = tf.keras.backend.int_shape(inputs)[channel_axis]\n",
        "  expanded_channel_axis = in_channels * expansion\n",
        "  \n",
        "  pointwise_conv_filters = int(filters * alpha)\n",
        "  pointwise_filters = _make_divisible(pointwise_conv_filters, 8)\n",
        "\n",
        "  # Expand: 1x1 conv2d , ReLU6 \n",
        "  # Serve para multiplicar o numero de filtros da entrada por um fator de expansion\n",
        "  x = layers.Conv2D(expanded_channel_axis, 1, padding=\"same\")(x)\n",
        "  x = layers.BatchNormalization()(x)\n",
        "  x = layers.ReLU(6.)(x)\n",
        "\n",
        "  # Depthwise: 3x3 dwise s=s, ReLU6 (s significa stride) \n",
        "  x = layers.DepthwiseConv2D(kernel_size=3, strides=stride, padding='same')(x)\n",
        "  x = layers.BatchNormalization()(x)\n",
        "  x = layers.ReLU(6.)(x)\n",
        "\n",
        "  # Project: linear 1x1 conv2d, alpha = 1\n",
        "  # serve para reverter o processo de expanção\n",
        "  x = layers.Conv2D(pointwise_filters, 1, padding=\"same\")(x)\n",
        "  x = layers.BatchNormalization()(x)\n",
        "\n",
        "  # A conexão residual é usada apenas quando o número de canais que entram no bloco é igual ao número que saem dele e o stride for igual a 1\n",
        "  if ((in_channels == pointwise_filters) and (stride == 1)): \n",
        "   x = layers.Add()([inputs, x])\n",
        "\n",
        "  return x\n",
        "\n",
        "\n",
        "def MobileNetV2(input_shape, alpha = 1):\n",
        "  inputs = keras.Input(shape=input_shape)\n",
        "\n",
        "  scale_layer = keras.layers.Rescaling(scale=1 / 127.5, offset=-1)\n",
        "  x = scale_layer(inputs)\n",
        "\n",
        "  x = layers.Conv2D(32, 3, strides=2, padding=\"same\")(x)\n",
        "  x = layers.BatchNormalization()(x)\n",
        "  x = layers.ReLU(6.)(x) # Pode dar problema nesso troço de relu\n",
        "\n",
        "  # bottleneck 1\n",
        "  x = bottleneck(inputs= x , expansion= 1, stride= 1, filters= 16, alpha = alpha) # expansion = t, stride = s, filters = c\n",
        "\n",
        "  # bottleneck 2 e 3\n",
        "  x = bottleneck(inputs= x , expansion= 6, stride= 2, filters= 24, alpha = alpha)\n",
        "  x = bottleneck(inputs= x , expansion= 6, stride= 1, filters= 24, alpha = alpha)\n",
        "  \n",
        "  # bottleneck 4 \n",
        "  x = bottleneck(inputs= x , expansion= 6, stride= 2, filters= 32, alpha = alpha)\n",
        "  x = bottleneck(inputs= x , expansion= 6, stride= 1, filters= 32, alpha = alpha)\n",
        "  x = bottleneck(inputs= x , expansion= 6, stride= 1, filters= 32, alpha = alpha)\n",
        "\n",
        "  # bottleneck 7, 8, 9 e 10\n",
        "  x = bottleneck(inputs= x , expansion= 6, stride= 2, filters= 64, alpha = alpha)\n",
        "  x = bottleneck(inputs= x , expansion= 6, stride= 1, filters= 64, alpha = alpha)\n",
        "  x = bottleneck(inputs= x , expansion= 6, stride= 1, filters= 64, alpha = alpha)\n",
        "  x = bottleneck(inputs= x , expansion= 6, stride= 1, filters= 64, alpha = alpha)\n",
        "\n",
        "  # bottleneck 11, 12 e 13\n",
        "  x = bottleneck(inputs= x , expansion= 6, stride= 1, filters= 96, alpha = alpha)\n",
        "  x = bottleneck(inputs= x , expansion= 6, stride= 1, filters= 96, alpha = alpha)\n",
        "  x = bottleneck(inputs= x , expansion= 6, stride= 1, filters= 96, alpha = alpha)\n",
        " \n",
        "  # bottleneck 14, 15 e 16\n",
        "  x = bottleneck(inputs= x , expansion= 6, stride= 2, filters= 160, alpha = alpha)\n",
        "  x = bottleneck(inputs= x , expansion= 6, stride= 1, filters= 160, alpha = alpha)\n",
        "  x = bottleneck(inputs= x , expansion= 6, stride= 1, filters= 160, alpha = alpha)\n",
        "\n",
        "  # bottleneck 17\n",
        "  x = bottleneck(inputs= x , expansion= 6, stride= 1, filters= 320, alpha = alpha)\n",
        "\n",
        "\n",
        "  x = layers.Conv2D(1280, 1, strides=1, padding=\"same\")(x)\n",
        "  x = layers.BatchNormalization()(x)\n",
        "  x = layers.ReLU(6.)(x)\n",
        "\n",
        "  x = layers.AveragePooling2D(pool_size=(2, 2))(x)\n",
        "  x = layers.Flatten()(x)\n",
        "  x = keras.layers.Dense(1280, activation='relu')(x)\n",
        "  x = keras.layers.Dropout(rate = 0.5, seed = 42)(x) # Regulariza entrada com dropout\n",
        "  x = keras.layers.Dense(640, activation='relu')(x)\n",
        "  x = keras.layers.Dropout(rate = 0.5, seed = 42)(x)\n",
        "  x = layers.Dense(256, kernel_regularizer= tf.keras.regularizers.L2(1e-3))(x)\n",
        "  output_tensor = layers.Lambda(lambda x: tf.math.l2_normalize(x,axis=-1))(x)\n",
        "\n",
        "  return tf.keras.Model(inputs, output_tensor, name = \"MobileNetV2\")"
      ],
      "metadata": {
        "id": "0oCUDAA96bIa"
      },
      "execution_count": null,
      "outputs": []
    },
    {
      "cell_type": "markdown",
      "source": [
        "# Treinamento"
      ],
      "metadata": {
        "id": "1MhVLaXO_dqc"
      }
    },
    {
      "cell_type": "code",
      "source": [
        "my_callbacks = [\n",
        "    tf.keras.callbacks.EarlyStopping(patience=13, monitor=\"val_loss\", restore_best_weights=True),\n",
        "    tf.keras.callbacks.ReduceLROnPlateau(monitor=\"val_loss\", mode = \"min\", patience = 5, factor=0.5, min_lr=0.0000000001, verbose = 0)\n",
        "  ]"
      ],
      "metadata": {
        "id": "MrTdAHK68yuo"
      },
      "execution_count": null,
      "outputs": []
    },
    {
      "cell_type": "code",
      "source": [
        "model = MobileNetV2((64, 64, 1))\n",
        "#model.summary()\n",
        "model.compile(optimizer=tf.keras.optimizers.Adam(0.001), loss=tfa.losses.TripletSemiHardLoss())"
      ],
      "metadata": {
        "id": "UgSGQraB8dgl"
      },
      "execution_count": null,
      "outputs": []
    },
    {
      "cell_type": "code",
      "source": [
        "!nvidia-smi\n",
        "historico = model.fit(train_ds, epochs=70, callbacks=my_callbacks, validation_data = val_ds)"
      ],
      "metadata": {
        "colab": {
          "base_uri": "https://localhost:8080/"
        },
        "id": "TyAdrRqg8rKx",
        "outputId": "b51d59dd-6e25-49e6-8974-b254c353051b"
      },
      "execution_count": null,
      "outputs": [
        {
          "output_type": "stream",
          "name": "stdout",
          "text": [
            "Wed Feb 22 19:48:29 2023       \n",
            "+-----------------------------------------------------------------------------+\n",
            "| NVIDIA-SMI 510.47.03    Driver Version: 510.47.03    CUDA Version: 11.6     |\n",
            "|-------------------------------+----------------------+----------------------+\n",
            "| GPU  Name        Persistence-M| Bus-Id        Disp.A | Volatile Uncorr. ECC |\n",
            "| Fan  Temp  Perf  Pwr:Usage/Cap|         Memory-Usage | GPU-Util  Compute M. |\n",
            "|                               |                      |               MIG M. |\n",
            "|===============================+======================+======================|\n",
            "|   0  Tesla T4            Off  | 00000000:00:04.0 Off |                    0 |\n",
            "| N/A   55C    P0    28W /  70W |    388MiB / 15360MiB |      0%      Default |\n",
            "|                               |                      |                  N/A |\n",
            "+-------------------------------+----------------------+----------------------+\n",
            "                                                                               \n",
            "+-----------------------------------------------------------------------------+\n",
            "| Processes:                                                                  |\n",
            "|  GPU   GI   CI        PID   Type   Process name                  GPU Memory |\n",
            "|        ID   ID                                                   Usage      |\n",
            "|=============================================================================|\n",
            "|    0   N/A  N/A     29201      C                                     385MiB |\n",
            "+-----------------------------------------------------------------------------+\n",
            "Epoch 1/70\n",
            "1500/1500 [==============================] - 124s 46ms/step - loss: 0.8578 - val_loss: 0.8082 - lr: 0.0010\n",
            "Epoch 2/70\n",
            "1500/1500 [==============================] - 60s 40ms/step - loss: 0.5351 - val_loss: 0.4411 - lr: 0.0010\n",
            "Epoch 3/70\n",
            "1500/1500 [==============================] - 60s 40ms/step - loss: 0.3903 - val_loss: 0.3034 - lr: 0.0010\n",
            "Epoch 4/70\n",
            "1500/1500 [==============================] - 59s 39ms/step - loss: 0.2952 - val_loss: 0.2701 - lr: 0.0010\n",
            "Epoch 5/70\n",
            "1500/1500 [==============================] - 59s 40ms/step - loss: 0.2473 - val_loss: 0.3576 - lr: 0.0010\n",
            "Epoch 6/70\n",
            "1500/1500 [==============================] - 58s 39ms/step - loss: 0.2216 - val_loss: 0.2133 - lr: 0.0010\n",
            "Epoch 7/70\n",
            "1500/1500 [==============================] - 58s 39ms/step - loss: 0.2110 - val_loss: 0.1883 - lr: 0.0010\n",
            "Epoch 8/70\n",
            "1500/1500 [==============================] - 59s 39ms/step - loss: 0.1846 - val_loss: 0.1379 - lr: 0.0010\n",
            "Epoch 9/70\n",
            "1500/1500 [==============================] - 58s 39ms/step - loss: 0.1447 - val_loss: 0.1936 - lr: 0.0010\n",
            "Epoch 10/70\n",
            "1500/1500 [==============================] - 58s 39ms/step - loss: 0.1539 - val_loss: 0.1385 - lr: 0.0010\n",
            "Epoch 11/70\n",
            "1500/1500 [==============================] - 58s 38ms/step - loss: 0.1386 - val_loss: 0.1684 - lr: 0.0010\n",
            "Epoch 12/70\n",
            "1500/1500 [==============================] - 59s 39ms/step - loss: 0.1330 - val_loss: 0.1299 - lr: 0.0010\n",
            "Epoch 13/70\n",
            "1500/1500 [==============================] - 59s 39ms/step - loss: 0.1205 - val_loss: 0.1718 - lr: 0.0010\n",
            "Epoch 14/70\n",
            "1500/1500 [==============================] - 59s 39ms/step - loss: 0.1168 - val_loss: 0.1041 - lr: 0.0010\n",
            "Epoch 15/70\n",
            "1500/1500 [==============================] - 60s 40ms/step - loss: 0.1074 - val_loss: 0.1176 - lr: 0.0010\n",
            "Epoch 16/70\n",
            "1500/1500 [==============================] - 59s 39ms/step - loss: 0.1341 - val_loss: 0.1429 - lr: 0.0010\n",
            "Epoch 17/70\n",
            "1500/1500 [==============================] - 63s 42ms/step - loss: 0.1223 - val_loss: 0.1197 - lr: 0.0010\n",
            "Epoch 18/70\n",
            "1500/1500 [==============================] - 60s 40ms/step - loss: 0.0974 - val_loss: 0.1553 - lr: 0.0010\n",
            "Epoch 19/70\n",
            "1500/1500 [==============================] - 59s 39ms/step - loss: 0.1095 - val_loss: 0.1141 - lr: 0.0010\n",
            "Epoch 20/70\n",
            "1500/1500 [==============================] - 59s 39ms/step - loss: 0.0729 - val_loss: 0.0750 - lr: 5.0000e-04\n",
            "Epoch 21/70\n",
            "1500/1500 [==============================] - 61s 41ms/step - loss: 0.0628 - val_loss: 0.0665 - lr: 5.0000e-04\n",
            "Epoch 22/70\n",
            "1500/1500 [==============================] - 59s 39ms/step - loss: 0.0669 - val_loss: 0.0780 - lr: 5.0000e-04\n",
            "Epoch 23/70\n",
            "1500/1500 [==============================] - 58s 39ms/step - loss: 0.0530 - val_loss: 0.0690 - lr: 5.0000e-04\n",
            "Epoch 24/70\n",
            "1500/1500 [==============================] - 58s 39ms/step - loss: 0.0572 - val_loss: 0.0638 - lr: 5.0000e-04\n",
            "Epoch 25/70\n",
            "1500/1500 [==============================] - 58s 38ms/step - loss: 0.0510 - val_loss: 0.0673 - lr: 5.0000e-04\n",
            "Epoch 26/70\n",
            "1500/1500 [==============================] - 58s 39ms/step - loss: 0.0580 - val_loss: 0.0862 - lr: 5.0000e-04\n",
            "Epoch 27/70\n",
            "1500/1500 [==============================] - 59s 39ms/step - loss: 0.0537 - val_loss: 0.0608 - lr: 5.0000e-04\n",
            "Epoch 28/70\n",
            "1500/1500 [==============================] - 58s 39ms/step - loss: 0.0561 - val_loss: 0.0675 - lr: 5.0000e-04\n",
            "Epoch 29/70\n",
            "1500/1500 [==============================] - 57s 38ms/step - loss: 0.0459 - val_loss: 0.0688 - lr: 5.0000e-04\n",
            "Epoch 30/70\n",
            "1500/1500 [==============================] - 63s 42ms/step - loss: 0.0495 - val_loss: 0.0682 - lr: 5.0000e-04\n",
            "Epoch 31/70\n",
            "1500/1500 [==============================] - 61s 41ms/step - loss: 0.0544 - val_loss: 0.0664 - lr: 5.0000e-04\n",
            "Epoch 32/70\n",
            "1500/1500 [==============================] - 60s 40ms/step - loss: 0.0447 - val_loss: 0.0510 - lr: 5.0000e-04\n",
            "Epoch 33/70\n",
            "1500/1500 [==============================] - 60s 40ms/step - loss: 0.0432 - val_loss: 0.0454 - lr: 5.0000e-04\n",
            "Epoch 34/70\n",
            "1500/1500 [==============================] - 59s 39ms/step - loss: 0.0423 - val_loss: 0.0542 - lr: 5.0000e-04\n",
            "Epoch 35/70\n",
            "1500/1500 [==============================] - 58s 39ms/step - loss: 0.0426 - val_loss: 0.0736 - lr: 5.0000e-04\n",
            "Epoch 36/70\n",
            "1500/1500 [==============================] - 58s 39ms/step - loss: 0.0431 - val_loss: 0.0516 - lr: 5.0000e-04\n",
            "Epoch 37/70\n",
            "1500/1500 [==============================] - 61s 40ms/step - loss: 0.0373 - val_loss: 0.0661 - lr: 5.0000e-04\n",
            "Epoch 38/70\n",
            "1500/1500 [==============================] - 62s 41ms/step - loss: 0.0454 - val_loss: 0.0606 - lr: 5.0000e-04\n",
            "Epoch 39/70\n",
            "1500/1500 [==============================] - 62s 41ms/step - loss: 0.0334 - val_loss: 0.0432 - lr: 2.5000e-04\n",
            "Epoch 40/70\n",
            "1500/1500 [==============================] - 58s 39ms/step - loss: 0.0259 - val_loss: 0.0385 - lr: 2.5000e-04\n",
            "Epoch 41/70\n",
            "1500/1500 [==============================] - 60s 40ms/step - loss: 0.0261 - val_loss: 0.0457 - lr: 2.5000e-04\n",
            "Epoch 42/70\n",
            "1500/1500 [==============================] - 59s 39ms/step - loss: 0.0254 - val_loss: 0.0481 - lr: 2.5000e-04\n",
            "Epoch 43/70\n",
            "1500/1500 [==============================] - 59s 40ms/step - loss: 0.0233 - val_loss: 0.0341 - lr: 2.5000e-04\n",
            "Epoch 44/70\n",
            "1500/1500 [==============================] - 60s 40ms/step - loss: 0.0243 - val_loss: 0.0338 - lr: 2.5000e-04\n",
            "Epoch 45/70\n",
            "1500/1500 [==============================] - 61s 41ms/step - loss: 0.0207 - val_loss: 0.0370 - lr: 2.5000e-04\n",
            "Epoch 46/70\n",
            "1500/1500 [==============================] - 61s 41ms/step - loss: 0.0235 - val_loss: 0.0405 - lr: 2.5000e-04\n",
            "Epoch 47/70\n",
            "1500/1500 [==============================] - 58s 39ms/step - loss: 0.0209 - val_loss: 0.0338 - lr: 2.5000e-04\n",
            "Epoch 48/70\n",
            "1500/1500 [==============================] - 60s 40ms/step - loss: 0.0218 - val_loss: 0.0388 - lr: 2.5000e-04\n",
            "Epoch 49/70\n",
            "1500/1500 [==============================] - 59s 39ms/step - loss: 0.0194 - val_loss: 0.0378 - lr: 2.5000e-04\n",
            "Epoch 50/70\n",
            "1500/1500 [==============================] - 59s 39ms/step - loss: 0.0180 - val_loss: 0.0338 - lr: 1.2500e-04\n",
            "Epoch 51/70\n",
            "1500/1500 [==============================] - 58s 38ms/step - loss: 0.0159 - val_loss: 0.0324 - lr: 1.2500e-04\n",
            "Epoch 52/70\n",
            "1500/1500 [==============================] - 62s 41ms/step - loss: 0.0154 - val_loss: 0.0303 - lr: 1.2500e-04\n",
            "Epoch 53/70\n",
            "1500/1500 [==============================] - 59s 39ms/step - loss: 0.0141 - val_loss: 0.0329 - lr: 1.2500e-04\n",
            "Epoch 54/70\n",
            "1500/1500 [==============================] - 61s 41ms/step - loss: 0.0145 - val_loss: 0.0307 - lr: 1.2500e-04\n",
            "Epoch 55/70\n",
            "1500/1500 [==============================] - 60s 40ms/step - loss: 0.0153 - val_loss: 0.0254 - lr: 1.2500e-04\n",
            "Epoch 56/70\n",
            "1500/1500 [==============================] - 61s 40ms/step - loss: 0.0154 - val_loss: 0.0287 - lr: 1.2500e-04\n",
            "Epoch 57/70\n",
            "1500/1500 [==============================] - 60s 40ms/step - loss: 0.0135 - val_loss: 0.0304 - lr: 1.2500e-04\n",
            "Epoch 58/70\n",
            "1500/1500 [==============================] - 59s 39ms/step - loss: 0.0103 - val_loss: 0.0283 - lr: 1.2500e-04\n",
            "Epoch 59/70\n",
            "1500/1500 [==============================] - 61s 41ms/step - loss: 0.0137 - val_loss: 0.0280 - lr: 1.2500e-04\n",
            "Epoch 60/70\n",
            "1500/1500 [==============================] - 60s 40ms/step - loss: 0.0117 - val_loss: 0.0344 - lr: 1.2500e-04\n",
            "Epoch 61/70\n",
            "1500/1500 [==============================] - 59s 39ms/step - loss: 0.0105 - val_loss: 0.0245 - lr: 6.2500e-05\n",
            "Epoch 62/70\n",
            "1500/1500 [==============================] - 61s 41ms/step - loss: 0.0109 - val_loss: 0.0246 - lr: 6.2500e-05\n",
            "Epoch 63/70\n",
            "1500/1500 [==============================] - 59s 40ms/step - loss: 0.0103 - val_loss: 0.0261 - lr: 6.2500e-05\n",
            "Epoch 64/70\n",
            "1500/1500 [==============================] - 60s 40ms/step - loss: 0.0094 - val_loss: 0.0267 - lr: 6.2500e-05\n",
            "Epoch 65/70\n",
            "1500/1500 [==============================] - 58s 39ms/step - loss: 0.0089 - val_loss: 0.0236 - lr: 6.2500e-05\n",
            "Epoch 66/70\n",
            "1500/1500 [==============================] - 61s 41ms/step - loss: 0.0094 - val_loss: 0.0264 - lr: 6.2500e-05\n",
            "Epoch 67/70\n",
            "1500/1500 [==============================] - 59s 39ms/step - loss: 0.0088 - val_loss: 0.0270 - lr: 6.2500e-05\n",
            "Epoch 68/70\n",
            "1500/1500 [==============================] - 58s 39ms/step - loss: 0.0090 - val_loss: 0.0248 - lr: 6.2500e-05\n",
            "Epoch 69/70\n",
            "1500/1500 [==============================] - 58s 39ms/step - loss: 0.0075 - val_loss: 0.0227 - lr: 6.2500e-05\n",
            "Epoch 70/70\n",
            "1500/1500 [==============================] - 57s 38ms/step - loss: 0.0073 - val_loss: 0.0262 - lr: 6.2500e-05\n"
          ]
        }
      ]
    },
    {
      "cell_type": "code",
      "source": [
        "# fffgghhff"
      ],
      "metadata": {
        "id": "UEwgEFDfv-U7"
      },
      "execution_count": null,
      "outputs": []
    },
    {
      "cell_type": "code",
      "source": [
        "model.save(\"embedding_model_mobilenetV2.h5\")"
      ],
      "metadata": {
        "id": "qDl3XHm1AsrH"
      },
      "execution_count": null,
      "outputs": []
    },
    {
      "cell_type": "code",
      "source": [
        "def diferenca(historico):\n",
        "  accuracy = historico.history['loss'] \n",
        "  val_accuracy = historico.history['val_loss']\n",
        "  vetor_diferenca = []\n",
        "  for i in range(len(accuracy)):\n",
        "    diferenca = abs(accuracy[i] - val_accuracy[i])\n",
        "    vetor_diferenca.append(diferenca)\n",
        "\n",
        "  return vetor_diferenca\n",
        "\n",
        "  \n",
        "def grafico(historico, nome): \n",
        "\n",
        "  plt.subplots(figsize=(25, 5)) \n",
        "  # Grafico 1: Loss\n",
        "  plt.subplot(1,2,1)\n",
        "  plt.title( nome + ': Loss')\n",
        "  plt.xlabel('Epoch')\n",
        "  plt.ylabel('Cross Entropy')\n",
        "  plt.grid()\n",
        "  plt.yscale(\"log\")\n",
        "  plt.plot(historico.history['loss'], label='Train Loss ', color = 'blue')\n",
        "  plt.plot(historico.history['val_loss'], label='Val Loss ', color = 'red')\n",
        "  plt.legend()\n",
        "\n",
        "\n",
        "  # Grafico 3: Diferença de Loss\n",
        "  vetor_diferenca = diferenca(historico)\n",
        "\n",
        "  plt.subplot(1,2,2)\n",
        "  plt.title(nome + \": Variação do Loss\")\n",
        "  plt.xlabel(\"Epocas\")\n",
        "  plt.ylabel(\"Diferença\")\n",
        "  plt.grid()\n",
        "  plt.yscale(\"log\")\n",
        "  plt.plot(vetor_diferenca, color = 'red', label = 'Variação do Loss')\n",
        "  plt.legend()\n",
        "\n",
        "  nome_save = os.path.join(\"/content\", nome + \".jpg\")\n",
        "  plt.savefig(nome_save, dpi=400,  transparent=False)\n",
        "  plt.show()\n",
        "\n",
        "grafico(historico, \"Rede Siamesa NIN\")"
      ],
      "metadata": {
        "colab": {
          "base_uri": "https://localhost:8080/",
          "height": 302
        },
        "id": "JIjh9sAV89Ky",
        "outputId": "435d8720-277f-4e2d-a01e-d12306d28372"
      },
      "execution_count": null,
      "outputs": [
        {
          "output_type": "display_data",
          "data": {
            "text/plain": [
              "<Figure size 1800x360 with 2 Axes>"
            ],
            "image/png": "[encoded data removed]"
          },
          "metadata": {
            "needs_background": "light"
          }
        }
      ]
    },
    {
      "cell_type": "markdown",
      "source": [
        "# Testes"
      ],
      "metadata": {
        "id": "fmsiTqYA_bAH"
      }
    },
    {
      "cell_type": "markdown",
      "source": [
        "## Funções"
      ],
      "metadata": {
        "id": "dlWAUyDLWI0e"
      }
    },
    {
      "cell_type": "code",
      "source": [
        "nome = [\"zero\", \"um\", \"dois\", \"tres\", \"quatro\", \"cinco\", \"seis\", \"sete\", \"oito\", \"nove\"]\n",
        "\n",
        "def prepare_database(model):\n",
        "  database = {}\n",
        "  for categoria in range(10):# Busca pra cada uma das 10 categorias\n",
        "    for img, label in test_dataset: # percorre os lotes do dataset\n",
        "      for indice in range(len(label)): # percorre os elementos do lote do dataset\n",
        "        if label[indice] == categoria: # se a categoria do elemento no indice for o mesma da categoria que estou buscando\n",
        "          identity =  nome[categoria] \n",
        "          database[identity] = img_to_encoding(img[indice:indice+1], model)\n",
        "          break\n",
        "      if indice != (len(label)-1): break\n",
        "  return database"
      ],
      "metadata": {
        "id": "dgWxY5PuAQw9"
      },
      "execution_count": null,
      "outputs": []
    },
    {
      "cell_type": "code",
      "source": [
        "def recognise_class(image, database, model):\n",
        "    encoding = img_to_encoding(image, model)\n",
        "    identity = None\n",
        "    min_dist = 100\n",
        "    for (name, db_enc) in database.items():\n",
        "        \n",
        "        dist = np.linalg.norm(db_enc - encoding)\n",
        "        #print('distance for %s is %s' %(name, dist))\n",
        "        if dist < min_dist:\n",
        "            min_dist = dist\n",
        "            identity = name\n",
        "    \n",
        "    if min_dist > 0.6:\n",
        "        return \"can't recognise.\"\n",
        "    else:\n",
        "        return str(identity)\n",
        "\n",
        "def recognise_class_2(image, database, model):# A diferença dessa pra outra é que ela mostra a distancia\n",
        "    encoding = img_to_encoding(image, model)\n",
        "    identity = None\n",
        "    min_dist = 100\n",
        "    for (name, db_enc) in database.items():\n",
        "        \n",
        "        dist = np.linalg.norm(db_enc - encoding)\n",
        "        print('distance for %s is %s' %(name, dist)) # seria muito ruim ficar mostrando isso para um dataset de 10.000 imagens\n",
        "        if dist < min_dist:\n",
        "            min_dist = dist\n",
        "            identity = name\n",
        "    \n",
        "    if min_dist > 0.6:\n",
        "        return \"can't recognise.\"\n",
        "    else:\n",
        "        return str(identity)"
      ],
      "metadata": {
        "id": "-f11d2wtAUzu"
      },
      "execution_count": null,
      "outputs": []
    },
    {
      "cell_type": "code",
      "source": [
        "def img_to_encoding(img, model):\n",
        "  embedding = model.predict(img, verbose=0)\n",
        "  return embedding"
      ],
      "metadata": {
        "id": "HXeMnzWOAaNU"
      },
      "execution_count": null,
      "outputs": []
    },
    {
      "cell_type": "code",
      "source": [
        "def metricas(saida):\n",
        "  certo = 0\n",
        "  errado = 0\n",
        "  incerto = 0\n",
        "  \n",
        "  for resposta in saida:\n",
        "    if resposta[1] == nome[resposta[0]]:\n",
        "      certo += 1\n",
        "    else:\n",
        "      if resposta[1] == \"can't recognise.\":\n",
        "        incerto += 1\n",
        "      else:\n",
        "        if resposta[1] != nome[resposta[0]]:\n",
        "          errado += 1\n",
        "  print()\n",
        "  print(\"Total de imagem: {0}    Certas: {1}   Erradas: {2}   Incertas: {3}\".format(len(saida), certo, errado, incerto))"
      ],
      "metadata": {
        "id": "Zo5XTG-mQ67e"
      },
      "execution_count": null,
      "outputs": []
    },
    {
      "cell_type": "markdown",
      "source": [
        "## Testes"
      ],
      "metadata": {
        "id": "WyfirMTmWLph"
      }
    },
    {
      "cell_type": "code",
      "source": [
        "database = prepare_database(model)\n",
        "saida = []\n",
        "\n",
        "for img, label in tqdm (test_dataset, desc=\"Testando...\"):\n",
        "  for i in range(len(img)):\n",
        "    classe = recognise_class(img[i:i+1], database, model)\n",
        "    #print(\"id {2}:: Classe Real: {0} >> Classe Prevista: {1}\".format(label[i], classe, i))\n",
        "    saida.append([label[i], classe])\n",
        "\n",
        "metricas(saida)"
      ],
      "metadata": {
        "colab": {
          "base_uri": "https://localhost:8080/"
        },
        "id": "1u30djFzoUwe",
        "outputId": "d74b1735-fb55-4981-ada8-ff71d2c90e64"
      },
      "execution_count": null,
      "outputs": [
        {
          "output_type": "stream",
          "name": "stderr",
          "text": [
            "Testando...: 100%|██████████| 313/313 [10:09<00:00,  1.95s/it]\n"
          ]
        },
        {
          "output_type": "stream",
          "name": "stdout",
          "text": [
            "\n",
            "Total de imagem: 10000    Certas: 9929   Erradas: 58   Incertas: 13\n"
          ]
        }
      ]
    },
    {
      "cell_type": "code",
      "source": [
        "# Nin"
      ],
      "metadata": {
        "colab": {
          "base_uri": "https://localhost:8080/"
        },
        "id": "NAQBvdNNjMbt",
        "outputId": "be7f8358-b603-4788-929a-fbc68de75509"
      },
      "execution_count": null,
      "outputs": [
        {
          "metadata": {
            "tags": null
          },
          "name": "stdout",
          "output_type": "stream",
          "text": [
            "10\n"
          ]
        },
        {
          "output_type": "stream",
          "name": "stderr",
          "text": [
            "Testando...: 100%|██████████| 313/313 [09:24<00:00,  1.80s/it]\n"
          ]
        },
        {
          "output_type": "stream",
          "name": "stdout",
          "text": [
            "\n",
            "Total de imagem: 10000    Certas: 9935   Erradas: 40   Incertas: 25\n"
          ]
        }
      ]
    },
    {
      "cell_type": "code",
      "source": [
        "classe = recognise_class_2(img[12:13], database, model)\n",
        "print()\n",
        "print(\"Classe Real: {0} >> Classe Prevista: {1}\".format(label[12], classe))"
      ],
      "metadata": {
        "colab": {
          "base_uri": "https://localhost:8080/"
        },
        "id": "eAqjzRyZZgt-",
        "outputId": "c5f92ca9-3509-4816-b47e-2719a75c6b34"
      },
      "execution_count": null,
      "outputs": [
        {
          "output_type": "stream",
          "name": "stdout",
          "text": [
            "distance for zero is 1.4833721\n",
            "distance for um is 1.5056006\n",
            "distance for dois is 1.4643642\n",
            "distance for tres is 1.5158671\n",
            "distance for quatro is 1.4032772\n",
            "distance for cinco is 1.4657017\n",
            "distance for seis is 1.5170139\n",
            "distance for sete is 1.4685067\n",
            "distance for oito is 1.476137\n",
            "distance for nove is 0.0023928187\n",
            "\n",
            "Classe Real: 9 >> Classe Prevista: nove\n"
          ]
        }
      ]
    }
  ]
}
